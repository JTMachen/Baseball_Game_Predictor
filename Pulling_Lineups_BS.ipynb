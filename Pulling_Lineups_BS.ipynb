{
 "cells": [
  {
   "cell_type": "code",
   "execution_count": 8,
   "metadata": {},
   "outputs": [],
   "source": [
    "from path import Path\n",
    "import pandas as pd\n",
    "from bs4 import BeautifulSoup as soup\n",
    "from urllib.request import Request, urlopen as Ureq"
   ]
  },
  {
   "cell_type": "code",
   "execution_count": 9,
   "metadata": {},
   "outputs": [],
   "source": [
    "years = ['2016','2017','2018','2019']\n",
    "team_names_abbr = [\"ARI\",\"ATL\",\"BAL\",\"BOS\",\"CHC\",\"CHW\",\"CIN\",\"CLE\",\"COL\",\"DET\",\"HOU\",\"KCR\",\"LAA\",\"LAD\",\"MIA\",\"MIL\",\"MIN\",\"NYM\",\"NYY\",\"OAK\",\"PHI\",\"PIT\",\"SDP\",\"SEA\",\"SFG\",\"STL\",\"TBR\",\"TEX\",\"TOR\",\"WSN\"]"
   ]
  },
  {
   "cell_type": "code",
   "execution_count": 10,
   "metadata": {},
   "outputs": [],
   "source": [
    "\n",
    "for year in years:\n",
    "    url_list = []\n",
    "    team_count = 0\n",
    "    for name in team_names_abbr:\n",
    "        url = \"https://www.baseball-reference.com/teams/\" + name + \"/\" + year + \"-batting-orders.shtml\"\n",
    "        url_list.append(url)\n",
    "    for url in url_list:\n",
    "        uClient = Ureq(url)\n",
    "        raw_content = uClient.read()\n",
    "        page_soup = soup(raw_content, \"html.parser\")\n",
    "        html = list(page_soup.children)[3]\n",
    "        results_1 = list(html.children)[3]\n",
    "        results_2 = list(results_1.children)[1]\n",
    "        results_3 = list(results_2.children)[12]\n",
    "        results_4 = list(results_3.children)[7]\n",
    "        results_5 = list(results_4.children)[3]\n",
    "        results_6 = list(results_5.children)[1]\n",
    "        results_7 = list(results_6.children)[1]\n",
    "        results_8 = list(results_7.children)[6]\n",
    "        lineups = results_3.findAll(class_=\"left\")\n",
    "        final_lineups = [game.get_text() for game in lineups]\n",
    "        N = 10\n",
    "        lineups_list = [final_lineups[n:n+N] for n in range(0, len(final_lineups), N)]\n",
    "        lineups_df = pd.DataFrame(lineups_list)\n",
    "        lineups_df = lineups_df[0:162]\n",
    "        variable_name_str = team_names_abbr[team_count] + \"_Lineups\" + '_' + year\n",
    "        lineups_df.to_csv(r'../Project_2/Lineups/' + variable_name_str + '.csv')\n",
    "        team_count += 1"
   ]
  },
  {
   "cell_type": "code",
   "execution_count": null,
   "metadata": {},
   "outputs": [],
   "source": []
  }
 ],
 "metadata": {
  "kernelspec": {
   "display_name": "Python 3",
   "language": "python",
   "name": "python3"
  },
  "language_info": {
   "codemirror_mode": {
    "name": "ipython",
    "version": 3
   },
   "file_extension": ".py",
   "mimetype": "text/x-python",
   "name": "python",
   "nbconvert_exporter": "python",
   "pygments_lexer": "ipython3",
   "version": "3.7.3"
  }
 },
 "nbformat": 4,
 "nbformat_minor": 4
}
