{
 "cells": [
  {
   "cell_type": "code",
   "execution_count": 1,
   "metadata": {},
   "outputs": [],
   "source": [
    "import pandas as pd\n",
    "from path import Path"
   ]
  },
  {
   "cell_type": "code",
   "execution_count": 8,
   "metadata": {},
   "outputs": [],
   "source": [
    "def find_total_profits(df):\n",
    "    # Convert open odds to integers\n",
    "    df['Home_Open_Odds'] = df['Home_Open_Odds'].astype(int)\n",
    "    df['Visitor_Open_Odds'] = df['Visitor_Open_Odds'].astype(int)\n",
    "\n",
    "    # Pull in predicted win and predicted loss\n",
    "    home_win = df[df['Predicted'] == 1]\n",
    "    home_loss = df[df['Predicted'] == 0]\n",
    "\n",
    "    # Grab instances where the predicted winner is the favorite to win\n",
    "    home_win_fav = home_win[home_win['Home_Open_Odds'] < 0]\n",
    "    home_loss_fav = home_loss[home_loss['Visitor_Open_Odds'] < 0]\n",
    "\n",
    "    # Grab instances where the predicted winner is the underdog\n",
    "    home_win_dog = home_win[home_win['Home_Open_Odds'] > 0]\n",
    "    home_loss_dog = home_loss[home_loss['Visitor_Open_Odds'] > 0]\n",
    "\n",
    "    # Grab instances where the favs were the actual winners and predicted winners\n",
    "    home_win_fav_true = home_win_fav[home_win_fav['Actual'] == 1]\n",
    "    home_win_fav_true['Home_Open_Odds'] = ((10000)/abs(home_win_fav_true['Home_Open_Odds']))\n",
    "    home_loss_fav_true = home_loss_fav[home_loss_fav['Actual'] == 1]\n",
    "    home_loss_fav_true['Visitor_Open_Odds'] = ((10000)/abs(home_loss_fav_true['Visitor_Open_Odds']))\n",
    "\n",
    "    # Grab instances where the dogs were winners and predicted winners\n",
    "    home_win_dog_true = home_win_dog[home_win_dog['Actual']==1]\n",
    "    home_loss_dog_true = home_loss_dog[home_loss_dog['Actual']==0]\n",
    "\n",
    "    # Grab instances where the dogs were losers, but predicted winners\n",
    "    home_win_dog_false = home_win_dog[home_win_dog['Actual']==0]\n",
    "    home_loss_dog_false = home_loss_dog[home_loss_dog['Actual']==1]\n",
    "\n",
    "    # Grab instances where the favs were predicted winners but lost\n",
    "    home_win_fav_false = home_win_fav[home_win_fav['Actual'] == 0]\n",
    "    home_win_fav_false['Home_Open_Odds'] = -100\n",
    "    home_loss_fav_false = home_loss_fav[home_loss_fav['Actual'] == 1]\n",
    "    home_loss_fav_false['Visitor_Open_Odds'] = -100\n",
    "\n",
    "    # Concatinate the dataframes\n",
    "    bet_results_fav_win = pd.concat([home_win_fav_false, home_win_fav_true]) # Home Open Odds\n",
    "    bet_results_fav_loss = pd.concat([home_loss_fav_false, home_loss_fav_true]) # Visitor Open Odds\n",
    "    bet_results_dog_win = pd.concat([home_win_dog_true, home_win_dog_false]) # Home Open Odds\n",
    "    bet_results_dog_loss = pd.concat([home_loss_dog_true, home_loss_dog_false]) # Visitor Open Odds\n",
    "\n",
    "    # Sum up final wins/loss money lines\n",
    "    fav_win_sum = bet_results_fav_win['Home_Open_Odds'].sum()\n",
    "    fav_loss_sum = bet_results_fav_loss['Visitor_Open_Odds'].sum()\n",
    "    dog_win_sum = bet_results_dog_win['Home_Open_Odds'].sum()\n",
    "    dog_loss_sum = bet_results_dog_loss['Visitor_Open_Odds'].sum()\n",
    "    final_sum = fav_win_sum + fav_loss_sum + dog_win_sum + dog_loss_sum\n",
    "    return final_sum"
   ]
  },
  {
   "cell_type": "code",
   "execution_count": 10,
   "metadata": {},
   "outputs": [
    {
     "name": "stdin",
     "output_type": "stream",
     "text": [
      " 2017\n"
     ]
    },
    {
     "name": "stderr",
     "output_type": "stream",
     "text": [
      "C:\\Users\\taylo\\Anaconda\\lib\\site-packages\\ipykernel_launcher.py:20: SettingWithCopyWarning: \n",
      "A value is trying to be set on a copy of a slice from a DataFrame.\n",
      "Try using .loc[row_indexer,col_indexer] = value instead\n",
      "\n",
      "See the caveats in the documentation: http://pandas.pydata.org/pandas-docs/stable/indexing.html#indexing-view-versus-copy\n",
      "C:\\Users\\taylo\\Anaconda\\lib\\site-packages\\ipykernel_launcher.py:22: SettingWithCopyWarning: \n",
      "A value is trying to be set on a copy of a slice from a DataFrame.\n",
      "Try using .loc[row_indexer,col_indexer] = value instead\n",
      "\n",
      "See the caveats in the documentation: http://pandas.pydata.org/pandas-docs/stable/indexing.html#indexing-view-versus-copy\n",
      "C:\\Users\\taylo\\Anaconda\\lib\\site-packages\\ipykernel_launcher.py:34: SettingWithCopyWarning: \n",
      "A value is trying to be set on a copy of a slice from a DataFrame.\n",
      "Try using .loc[row_indexer,col_indexer] = value instead\n",
      "\n",
      "See the caveats in the documentation: http://pandas.pydata.org/pandas-docs/stable/indexing.html#indexing-view-versus-copy\n",
      "C:\\Users\\taylo\\Anaconda\\lib\\site-packages\\ipykernel_launcher.py:36: SettingWithCopyWarning: \n",
      "A value is trying to be set on a copy of a slice from a DataFrame.\n",
      "Try using .loc[row_indexer,col_indexer] = value instead\n",
      "\n",
      "See the caveats in the documentation: http://pandas.pydata.org/pandas-docs/stable/indexing.html#indexing-view-versus-copy\n"
     ]
    },
    {
     "data": {
      "text/plain": [
       "74581.63238477772"
      ]
     },
     "execution_count": 10,
     "metadata": {},
     "output_type": "execute_result"
    }
   ],
   "source": [
    "year = input()\n",
    "csv_name = '../Predictions_Vs_Actual/Predictions_Actual_' + year + '.csv'\n",
    "csv_path = Path(csv_name)\n",
    "df = pd.read_csv(csv_path, index_col = 'Date')\n",
    "find_total_profits(df)"
   ]
  },
  {
   "cell_type": "code",
   "execution_count": null,
   "metadata": {},
   "outputs": [],
   "source": []
  }
 ],
 "metadata": {
  "kernelspec": {
   "display_name": "Python 3",
   "language": "python",
   "name": "python3"
  },
  "language_info": {
   "codemirror_mode": {
    "name": "ipython",
    "version": 3
   },
   "file_extension": ".py",
   "mimetype": "text/x-python",
   "name": "python",
   "nbconvert_exporter": "python",
   "pygments_lexer": "ipython3",
   "version": "3.7.3"
  }
 },
 "nbformat": 4,
 "nbformat_minor": 4
}
