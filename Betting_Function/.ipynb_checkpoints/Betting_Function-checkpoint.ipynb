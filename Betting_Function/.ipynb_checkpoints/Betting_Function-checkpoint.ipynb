{
 "cells": [
  {
   "cell_type": "code",
   "execution_count": 3,
   "metadata": {},
   "outputs": [],
   "source": [
    "import pandas as pd\n",
    "from path import Path"
   ]
  },
  {
   "cell_type": "code",
   "execution_count": 4,
   "metadata": {},
   "outputs": [],
   "source": [
    "def find_total_profits(df):\n",
    "    # Convert open odds to integers\n",
    "    df['Home_Open_Odds'] = df['Home_Open_Odds'].astype(int)\n",
    "    df['Visitor_Open_Odds'] = df['Visitor_Open_Odds'].astype(int)\n",
    "\n",
    "\n",
    "    # Pull in predicted win and predicted loss\n",
    "    home_win = df[df['Predicted'] == 1]\n",
    "    home_loss = df[df['Predicted'] == 0]\n",
    "\n",
    "\n",
    "    # Grab instances where the predicted winner is the favorite to win\n",
    "    home_win_fav = home_win[home_win['Home_Open_Odds'] < 0]\n",
    "    home_loss_fav = home_loss[home_loss['Visitor_Open_Odds'] < 0]\n",
    "\n",
    "\n",
    "    # Grab instances where the predicted winner is the underdog\n",
    "    home_win_dog = home_win[home_win['Home_Open_Odds'] > 0]\n",
    "    home_loss_dog = home_loss[home_loss['Visitor_Open_Odds'] > 0]\n",
    "\n",
    "\n",
    "    # Grab instances where the favs were the actual winners and predicted winners\n",
    "    home_win_fav_true = home_win_fav[home_win_fav['Actual'] == 1]\n",
    "    home_win_fav_true['Home_Open_Odds'] = ((10000)/abs(home_win_fav_true['Home_Open_Odds']))\n",
    "    home_loss_fav_true = home_loss_fav[home_loss_fav['Actual'] == 1]\n",
    "    home_loss_fav_true['Visitor_Open_Odds'] = ((10000)/abs(home_loss_fav_true['Visitor_Open_Odds']))\n",
    "\n",
    "\n",
    "    # Grab instances where the dogs were winners and predicted winners\n",
    "    home_win_dog_true = home_win_dog[home_win_dog['Actual']==1]\n",
    "    home_loss_dog_true = home_loss_dog[home_loss_dog['Actual']==0]\n",
    "\n",
    "\n",
    "    # Grab instances where the dogs were losers, but predicted winners\n",
    "    home_win_dog_false = home_win_dog[home_win_dog['Actual']==0]\n",
    "    home_loss_dog_false = home_loss_dog[home_loss_dog['Actual']==1]\n",
    "\n",
    "\n",
    "    # Grab instances where the favs were predicted winners but lost\n",
    "    home_win_fav_false = home_win_fav[home_win_fav['Actual'] == 0]\n",
    "    home_win_fav_false['Home_Open_Odds'] = -100\n",
    "    home_loss_fav_false = home_loss_fav[home_loss_fav['Actual'] == 1]\n",
    "    home_loss_fav_false['Visitor_Open_Odds'] = -100\n",
    "\n",
    "\n",
    "    # Grab instances where the dgos were predicted winners but lost\n",
    "    home_win_dog_false = home_win_fav[home_win_fav['Actual'] == 0]\n",
    "    home_win_dog_false['Home_Open_Odds'] = -100\n",
    "    home_loss_dog_false = home_loss_fav[home_loss_fav['Actual'] == 1]\n",
    "    home_loss_dog_false['Visitor_Open_Odds'] = -100\n",
    "\n",
    "\n",
    "    # Concatinate the dataframes\n",
    "    bet_results_fav_win = pd.concat([home_win_fav_false, home_win_fav_true]) # Home Open Odds\n",
    "    bet_results_fav_loss = pd.concat([home_loss_fav_false, home_loss_fav_true]) # Visitor Open Odds\n",
    "    bet_results_dog_win = pd.concat([home_win_dog_true, home_win_dog_false]) # Home Open Odds\n",
    "    bet_results_dog_loss = pd.concat([home_loss_dog_true, home_loss_dog_false]) # Visitor Open Odds\n",
    "\n",
    "\n",
    "    # Sum up final wins/loss money lines\n",
    "    fav_win_sum = round(bet_results_fav_win['Home_Open_Odds'].sum(),2)\n",
    "    fav_loss_sum = round(bet_results_fav_loss['Visitor_Open_Odds'].sum(),2)\n",
    "    dog_win_sum = round(bet_results_dog_win['Home_Open_Odds'].sum(),2)\n",
    "    dog_loss_sum = round(bet_results_dog_loss['Visitor_Open_Odds'].sum(),2)\n",
    "    final_sum = round(fav_win_sum + fav_loss_sum + dog_win_sum + dog_loss_sum,2)\n",
    "    total_profits = print(f'Betting on the favorites to win at home: ${fav_win_sum}\\nBetting on the favorites to lose on the road: ${fav_loss_sum}\\nBetting on the dogs to win at home: ${dog_win_sum}\\nBetting on the dogs to lose on the road: ${dog_loss_sum}\\nTotal profits for the second half of the {year} season: ${final_sum}')\n",
    "    return total_profits"
   ]
  },
  {
   "cell_type": "code",
   "execution_count": 8,
   "metadata": {},
   "outputs": [
    {
     "name": "stdin",
     "output_type": "stream",
     "text": [
      " 2019\n"
     ]
    },
    {
     "name": "stdout",
     "output_type": "stream",
     "text": [
      "Betting on the favorites to win at home: $-766.05\n",
      "Betting on the favorites to lose on the road: $-3087.59\n",
      "Betting on the dogs to win at home: $-6689\n",
      "Betting on the dogs to lose on the road: $5792\n",
      "Total profits for the second half of the 2019 season: $-4750.64\n"
     ]
    },
    {
     "name": "stderr",
     "output_type": "stream",
     "text": [
      "C:\\Users\\taylo\\Anaconda\\lib\\site-packages\\ipykernel_launcher.py:24: SettingWithCopyWarning: \n",
      "A value is trying to be set on a copy of a slice from a DataFrame.\n",
      "Try using .loc[row_indexer,col_indexer] = value instead\n",
      "\n",
      "See the caveats in the documentation: http://pandas.pydata.org/pandas-docs/stable/indexing.html#indexing-view-versus-copy\n",
      "C:\\Users\\taylo\\Anaconda\\lib\\site-packages\\ipykernel_launcher.py:26: SettingWithCopyWarning: \n",
      "A value is trying to be set on a copy of a slice from a DataFrame.\n",
      "Try using .loc[row_indexer,col_indexer] = value instead\n",
      "\n",
      "See the caveats in the documentation: http://pandas.pydata.org/pandas-docs/stable/indexing.html#indexing-view-versus-copy\n",
      "C:\\Users\\taylo\\Anaconda\\lib\\site-packages\\ipykernel_launcher.py:41: SettingWithCopyWarning: \n",
      "A value is trying to be set on a copy of a slice from a DataFrame.\n",
      "Try using .loc[row_indexer,col_indexer] = value instead\n",
      "\n",
      "See the caveats in the documentation: http://pandas.pydata.org/pandas-docs/stable/indexing.html#indexing-view-versus-copy\n",
      "C:\\Users\\taylo\\Anaconda\\lib\\site-packages\\ipykernel_launcher.py:43: SettingWithCopyWarning: \n",
      "A value is trying to be set on a copy of a slice from a DataFrame.\n",
      "Try using .loc[row_indexer,col_indexer] = value instead\n",
      "\n",
      "See the caveats in the documentation: http://pandas.pydata.org/pandas-docs/stable/indexing.html#indexing-view-versus-copy\n",
      "C:\\Users\\taylo\\Anaconda\\lib\\site-packages\\ipykernel_launcher.py:48: SettingWithCopyWarning: \n",
      "A value is trying to be set on a copy of a slice from a DataFrame.\n",
      "Try using .loc[row_indexer,col_indexer] = value instead\n",
      "\n",
      "See the caveats in the documentation: http://pandas.pydata.org/pandas-docs/stable/indexing.html#indexing-view-versus-copy\n",
      "C:\\Users\\taylo\\Anaconda\\lib\\site-packages\\ipykernel_launcher.py:50: SettingWithCopyWarning: \n",
      "A value is trying to be set on a copy of a slice from a DataFrame.\n",
      "Try using .loc[row_indexer,col_indexer] = value instead\n",
      "\n",
      "See the caveats in the documentation: http://pandas.pydata.org/pandas-docs/stable/indexing.html#indexing-view-versus-copy\n"
     ]
    }
   ],
   "source": [
    "year = input()\n",
    "csv_name = '../Predictions_Vs_Actual/Predictions_Actual_' + year + '.csv'\n",
    "csv_path = Path(csv_name)\n",
    "df = pd.read_csv(csv_path, index_col = 'Date')\n",
    "find_total_profits(df)"
   ]
  },
  {
   "cell_type": "code",
   "execution_count": null,
   "metadata": {},
   "outputs": [],
   "source": []
  }
 ],
 "metadata": {
  "kernelspec": {
   "display_name": "Python 3",
   "language": "python",
   "name": "python3"
  },
  "language_info": {
   "codemirror_mode": {
    "name": "ipython",
    "version": 3
   },
   "file_extension": ".py",
   "mimetype": "text/x-python",
   "name": "python",
   "nbconvert_exporter": "python",
   "pygments_lexer": "ipython3",
   "version": "3.7.3"
  }
 },
 "nbformat": 4,
 "nbformat_minor": 4
}
