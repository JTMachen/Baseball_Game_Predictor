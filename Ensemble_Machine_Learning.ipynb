{
 "cells": [
  {
   "cell_type": "code",
   "execution_count": 1,
   "metadata": {},
   "outputs": [],
   "source": [
    "# Import libraries\n",
    "import warnings\n",
    "warnings.filterwarnings('ignore')\n",
    "import numpy as np\n",
    "import pandas as pd\n",
    "from pathlib import Path\n",
    "from collections import Counter\n",
    "from sklearn.metrics import balanced_accuracy_score\n",
    "from sklearn.metrics import confusion_matrix\n",
    "from imblearn.metrics import classification_report_imbalanced\n",
    "from sklearn.model_selection import train_test_split\n",
    "from sklearn.ensemble import RandomForestClassifier\n",
    "from sklearn.preprocessing import LabelEncoder, StandardScaler\n",
    "from sklearn.ensemble import AdaBoostClassifier\n",
    "from sklearn.datasets import make_classification"
   ]
  },
  {
   "cell_type": "code",
   "execution_count": 81,
   "metadata": {},
   "outputs": [],
   "source": [
    "# Import csv path/file\n",
    "csv_path = Path('../10_Day_Lookback.csv')\n",
    "df = pd.read_csv(csv_path, index_col = 'Unnamed: 0')\n",
    "csv_path_2 = Path('../10_Day_Lookback_2017.csv')\n",
    "df_2 = pd.read_csv(csv_path_2)"
   ]
  },
  {
   "cell_type": "code",
   "execution_count": 120,
   "metadata": {},
   "outputs": [],
   "source": [
    "df = df.replace([np.inf], 150)\n",
    "df = df.replace([np.NaN], 0)\n",
    "df = df.replace([-np.inf], -150)\n",
    "df_2 = df_2.replace([np.inf], 150)\n",
    "df_2 = df_2.replace([np.NaN], 0)\n",
    "df_2 = df_2.replace([-np.inf], -150)"
   ]
  },
  {
   "cell_type": "code",
   "execution_count": 121,
   "metadata": {},
   "outputs": [],
   "source": [
    "# Create our features\n",
    "X = df.iloc[:, 10::]\n",
    "# Create our target\n",
    "y = df.iloc[:, 8]"
   ]
  },
  {
   "cell_type": "code",
   "execution_count": 122,
   "metadata": {},
   "outputs": [
    {
     "data": {
      "text/html": [
       "<div>\n",
       "<style scoped>\n",
       "    .dataframe tbody tr th:only-of-type {\n",
       "        vertical-align: middle;\n",
       "    }\n",
       "\n",
       "    .dataframe tbody tr th {\n",
       "        vertical-align: top;\n",
       "    }\n",
       "\n",
       "    .dataframe thead th {\n",
       "        text-align: right;\n",
       "    }\n",
       "</style>\n",
       "<table border=\"1\" class=\"dataframe\">\n",
       "  <thead>\n",
       "    <tr style=\"text-align: right;\">\n",
       "      <th></th>\n",
       "      <th>Home_HittingG</th>\n",
       "      <th>Home_HittingPA</th>\n",
       "      <th>Home_HittingAB</th>\n",
       "      <th>Home_HittingR</th>\n",
       "      <th>Home_HittingH</th>\n",
       "      <th>Home_Hitting2B</th>\n",
       "      <th>Home_Hitting3B</th>\n",
       "      <th>Home_HittingHR</th>\n",
       "      <th>Home_HittingRBI</th>\n",
       "      <th>Home_HittingBB</th>\n",
       "      <th>...</th>\n",
       "      <th>Visitor_PitchingStr</th>\n",
       "      <th>Visitor_PitchingStL</th>\n",
       "      <th>Visitor_PitchingStS</th>\n",
       "      <th>Visitor_PitchingGB/FB</th>\n",
       "      <th>Visitor_PitchingLD</th>\n",
       "      <th>Visitor_PitchingPU</th>\n",
       "      <th>Visitor_PitchingWHIP</th>\n",
       "      <th>Visitor_PitchingBAbip</th>\n",
       "      <th>Visitor_PitchingSO9</th>\n",
       "      <th>Visitor_PitchingSO/W</th>\n",
       "    </tr>\n",
       "  </thead>\n",
       "  <tbody>\n",
       "    <tr>\n",
       "      <th>2019-03-30</th>\n",
       "      <td>10</td>\n",
       "      <td>33</td>\n",
       "      <td>31</td>\n",
       "      <td>0</td>\n",
       "      <td>5</td>\n",
       "      <td>1</td>\n",
       "      <td>0</td>\n",
       "      <td>0</td>\n",
       "      <td>0</td>\n",
       "      <td>1</td>\n",
       "      <td>...</td>\n",
       "      <td>2.59</td>\n",
       "      <td>0.62</td>\n",
       "      <td>0.80</td>\n",
       "      <td>0.66</td>\n",
       "      <td>1.75</td>\n",
       "      <td>0.08</td>\n",
       "      <td>1.000</td>\n",
       "      <td>0.417</td>\n",
       "      <td>51.0</td>\n",
       "      <td>10.00</td>\n",
       "    </tr>\n",
       "    <tr>\n",
       "      <th>2019-03-30</th>\n",
       "      <td>11</td>\n",
       "      <td>37</td>\n",
       "      <td>31</td>\n",
       "      <td>10</td>\n",
       "      <td>7</td>\n",
       "      <td>0</td>\n",
       "      <td>0</td>\n",
       "      <td>3</td>\n",
       "      <td>10</td>\n",
       "      <td>6</td>\n",
       "      <td>...</td>\n",
       "      <td>3.03</td>\n",
       "      <td>0.53</td>\n",
       "      <td>0.78</td>\n",
       "      <td>2.29</td>\n",
       "      <td>0.00</td>\n",
       "      <td>0.00</td>\n",
       "      <td>9.700</td>\n",
       "      <td>0.523</td>\n",
       "      <td>53.1</td>\n",
       "      <td>4.00</td>\n",
       "    </tr>\n",
       "    <tr>\n",
       "      <th>2019-03-30</th>\n",
       "      <td>23</td>\n",
       "      <td>65</td>\n",
       "      <td>59</td>\n",
       "      <td>4</td>\n",
       "      <td>6</td>\n",
       "      <td>0</td>\n",
       "      <td>0</td>\n",
       "      <td>4</td>\n",
       "      <td>4</td>\n",
       "      <td>4</td>\n",
       "      <td>...</td>\n",
       "      <td>4.78</td>\n",
       "      <td>1.36</td>\n",
       "      <td>0.77</td>\n",
       "      <td>3.94</td>\n",
       "      <td>0.53</td>\n",
       "      <td>0.05</td>\n",
       "      <td>3.262</td>\n",
       "      <td>0.156</td>\n",
       "      <td>50.7</td>\n",
       "      <td>7.33</td>\n",
       "    </tr>\n",
       "    <tr>\n",
       "      <th>2019-03-30</th>\n",
       "      <td>21</td>\n",
       "      <td>67</td>\n",
       "      <td>61</td>\n",
       "      <td>10</td>\n",
       "      <td>15</td>\n",
       "      <td>1</td>\n",
       "      <td>0</td>\n",
       "      <td>5</td>\n",
       "      <td>10</td>\n",
       "      <td>4</td>\n",
       "      <td>...</td>\n",
       "      <td>5.74</td>\n",
       "      <td>1.49</td>\n",
       "      <td>1.04</td>\n",
       "      <td>4.59</td>\n",
       "      <td>2.11</td>\n",
       "      <td>0.13</td>\n",
       "      <td>7.646</td>\n",
       "      <td>1.238</td>\n",
       "      <td>60.5</td>\n",
       "      <td>9.00</td>\n",
       "    </tr>\n",
       "    <tr>\n",
       "      <th>2019-03-30</th>\n",
       "      <td>21</td>\n",
       "      <td>62</td>\n",
       "      <td>55</td>\n",
       "      <td>6</td>\n",
       "      <td>14</td>\n",
       "      <td>3</td>\n",
       "      <td>0</td>\n",
       "      <td>2</td>\n",
       "      <td>6</td>\n",
       "      <td>5</td>\n",
       "      <td>...</td>\n",
       "      <td>4.94</td>\n",
       "      <td>1.21</td>\n",
       "      <td>0.84</td>\n",
       "      <td>3.35</td>\n",
       "      <td>1.86</td>\n",
       "      <td>0.07</td>\n",
       "      <td>7.357</td>\n",
       "      <td>2.052</td>\n",
       "      <td>51.7</td>\n",
       "      <td>12.50</td>\n",
       "    </tr>\n",
       "  </tbody>\n",
       "</table>\n",
       "<p>5 rows × 100 columns</p>\n",
       "</div>"
      ],
      "text/plain": [
       "            Home_HittingG  Home_HittingPA  Home_HittingAB  Home_HittingR  \\\n",
       "2019-03-30             10              33              31              0   \n",
       "2019-03-30             11              37              31             10   \n",
       "2019-03-30             23              65              59              4   \n",
       "2019-03-30             21              67              61             10   \n",
       "2019-03-30             21              62              55              6   \n",
       "\n",
       "            Home_HittingH  Home_Hitting2B  Home_Hitting3B  Home_HittingHR  \\\n",
       "2019-03-30              5               1               0               0   \n",
       "2019-03-30              7               0               0               3   \n",
       "2019-03-30              6               0               0               4   \n",
       "2019-03-30             15               1               0               5   \n",
       "2019-03-30             14               3               0               2   \n",
       "\n",
       "            Home_HittingRBI  Home_HittingBB  ...  Visitor_PitchingStr  \\\n",
       "2019-03-30                0               1  ...                 2.59   \n",
       "2019-03-30               10               6  ...                 3.03   \n",
       "2019-03-30                4               4  ...                 4.78   \n",
       "2019-03-30               10               4  ...                 5.74   \n",
       "2019-03-30                6               5  ...                 4.94   \n",
       "\n",
       "            Visitor_PitchingStL  Visitor_PitchingStS  Visitor_PitchingGB/FB  \\\n",
       "2019-03-30                 0.62                 0.80                   0.66   \n",
       "2019-03-30                 0.53                 0.78                   2.29   \n",
       "2019-03-30                 1.36                 0.77                   3.94   \n",
       "2019-03-30                 1.49                 1.04                   4.59   \n",
       "2019-03-30                 1.21                 0.84                   3.35   \n",
       "\n",
       "            Visitor_PitchingLD  Visitor_PitchingPU  Visitor_PitchingWHIP  \\\n",
       "2019-03-30                1.75                0.08                 1.000   \n",
       "2019-03-30                0.00                0.00                 9.700   \n",
       "2019-03-30                0.53                0.05                 3.262   \n",
       "2019-03-30                2.11                0.13                 7.646   \n",
       "2019-03-30                1.86                0.07                 7.357   \n",
       "\n",
       "            Visitor_PitchingBAbip  Visitor_PitchingSO9  Visitor_PitchingSO/W  \n",
       "2019-03-30                  0.417                 51.0                 10.00  \n",
       "2019-03-30                  0.523                 53.1                  4.00  \n",
       "2019-03-30                  0.156                 50.7                  7.33  \n",
       "2019-03-30                  1.238                 60.5                  9.00  \n",
       "2019-03-30                  2.052                 51.7                 12.50  \n",
       "\n",
       "[5 rows x 100 columns]"
      ]
     },
     "execution_count": 122,
     "metadata": {},
     "output_type": "execute_result"
    }
   ],
   "source": [
    "X.head()"
   ]
  },
  {
   "cell_type": "code",
   "execution_count": 123,
   "metadata": {},
   "outputs": [
    {
     "data": {
      "text/plain": [
       "2402"
      ]
     },
     "execution_count": 123,
     "metadata": {},
     "output_type": "execute_result"
    }
   ],
   "source": [
    "len(y)"
   ]
  },
  {
   "cell_type": "code",
   "execution_count": 124,
   "metadata": {},
   "outputs": [
    {
     "data": {
      "text/plain": [
       "1271"
      ]
     },
     "execution_count": 124,
     "metadata": {},
     "output_type": "execute_result"
    }
   ],
   "source": [
    "len(y[y == 1])"
   ]
  },
  {
   "cell_type": "code",
   "execution_count": 125,
   "metadata": {},
   "outputs": [
    {
     "data": {
      "text/plain": [
       "(1801, 100)"
      ]
     },
     "execution_count": 125,
     "metadata": {},
     "output_type": "execute_result"
    }
   ],
   "source": [
    "X_train, X_test, y_train, y_test = train_test_split(X, \n",
    "                                                    y, \n",
    "                                                    random_state=9, \n",
    "                                                    stratify=y)\n",
    "X_train.shape"
   ]
  },
  {
   "cell_type": "code",
   "execution_count": 126,
   "metadata": {},
   "outputs": [],
   "source": [
    "X_train = X[:1159]\n",
    "X_test = X[1160:]\n",
    "y_train = y[:1159]\n",
    "y_test = y[1160:]"
   ]
  },
  {
   "cell_type": "code",
   "execution_count": 127,
   "metadata": {},
   "outputs": [],
   "source": [
    "scaler = StandardScaler()\n",
    "# Fitting Standard Scaller\n",
    "X_scaler = scaler.fit(X_train)\n",
    "# Scaling data\n",
    "X_train_scaled = X_scaler.transform(X_train)\n",
    "X_test_scaled = X_scaler.transform(X_test)"
   ]
  },
  {
   "cell_type": "code",
   "execution_count": 128,
   "metadata": {},
   "outputs": [],
   "source": [
    "rf_model = RandomForestClassifier(n_estimators=500, random_state=9)"
   ]
  },
  {
   "cell_type": "code",
   "execution_count": 129,
   "metadata": {},
   "outputs": [
    {
     "data": {
      "text/plain": [
       "RandomForestClassifier(bootstrap=True, class_weight=None, criterion='gini',\n",
       "                       max_depth=None, max_features='auto', max_leaf_nodes=None,\n",
       "                       min_impurity_decrease=0.0, min_impurity_split=None,\n",
       "                       min_samples_leaf=1, min_samples_split=2,\n",
       "                       min_weight_fraction_leaf=0.0, n_estimators=500,\n",
       "                       n_jobs=None, oob_score=False, random_state=9, verbose=0,\n",
       "                       warm_start=False)"
      ]
     },
     "execution_count": 129,
     "metadata": {},
     "output_type": "execute_result"
    }
   ],
   "source": [
    "rf_model.fit(X_train_scaled, y_train)"
   ]
  },
  {
   "cell_type": "code",
   "execution_count": 130,
   "metadata": {},
   "outputs": [],
   "source": [
    "predictions = rf_model.predict(X_test_scaled)"
   ]
  },
  {
   "cell_type": "code",
   "execution_count": 131,
   "metadata": {},
   "outputs": [],
   "source": [
    "# Calculating the confusion matrix\n",
    "cm = confusion_matrix(y_test, predictions)\n",
    "cm_df = pd.DataFrame(\n",
    "    cm, index=[\"Actual 0\", \"Actual 1\"], columns=[\"Predicted 0\", \"Predicted 1\"]\n",
    ")\n",
    "\n",
    "# Calculating the accuracy score\n",
    "acc_score = balanced_accuracy_score(y_test, predictions)"
   ]
  },
  {
   "cell_type": "code",
   "execution_count": 132,
   "metadata": {},
   "outputs": [
    {
     "name": "stdout",
     "output_type": "stream",
     "text": [
      "Confusion Matrix\n"
     ]
    },
    {
     "data": {
      "text/html": [
       "<div>\n",
       "<style scoped>\n",
       "    .dataframe tbody tr th:only-of-type {\n",
       "        vertical-align: middle;\n",
       "    }\n",
       "\n",
       "    .dataframe tbody tr th {\n",
       "        vertical-align: top;\n",
       "    }\n",
       "\n",
       "    .dataframe thead th {\n",
       "        text-align: right;\n",
       "    }\n",
       "</style>\n",
       "<table border=\"1\" class=\"dataframe\">\n",
       "  <thead>\n",
       "    <tr style=\"text-align: right;\">\n",
       "      <th></th>\n",
       "      <th>Predicted 0</th>\n",
       "      <th>Predicted 1</th>\n",
       "    </tr>\n",
       "  </thead>\n",
       "  <tbody>\n",
       "    <tr>\n",
       "      <th>Actual 0</th>\n",
       "      <td>201</td>\n",
       "      <td>385</td>\n",
       "    </tr>\n",
       "    <tr>\n",
       "      <th>Actual 1</th>\n",
       "      <td>196</td>\n",
       "      <td>460</td>\n",
       "    </tr>\n",
       "  </tbody>\n",
       "</table>\n",
       "</div>"
      ],
      "text/plain": [
       "          Predicted 0  Predicted 1\n",
       "Actual 0          201          385\n",
       "Actual 1          196          460"
      ]
     },
     "metadata": {},
     "output_type": "display_data"
    },
    {
     "name": "stdout",
     "output_type": "stream",
     "text": [
      "Accuracy Score : 0.5221114625822025\n",
      "Classification Report\n",
      "                   pre       rec       spe        f1       geo       iba       sup\n",
      "\n",
      "          0       0.51      0.34      0.70      0.41      0.49      0.23       586\n",
      "          1       0.54      0.70      0.34      0.61      0.49      0.25       656\n",
      "\n",
      "avg / total       0.53      0.53      0.51      0.52      0.49      0.24      1242\n",
      "\n"
     ]
    }
   ],
   "source": [
    "# Displaying results\n",
    "print(\"Confusion Matrix\")\n",
    "display(cm_df)\n",
    "print(f\"Accuracy Score : {acc_score}\")\n",
    "print(\"Classification Report\")\n",
    "print(classification_report_imbalanced(y_test, predictions))"
   ]
  },
  {
   "cell_type": "code",
   "execution_count": 133,
   "metadata": {},
   "outputs": [],
   "source": [
    "importances = rf_model.feature_importances_"
   ]
  },
  {
   "cell_type": "code",
   "execution_count": 134,
   "metadata": {},
   "outputs": [
    {
     "data": {
      "text/plain": [
       "[(0.020939282830568243, 'Home_PitchingBAbip'),\n",
       " (0.01997053259693475, 'Home_PitchingLD'),\n",
       " (0.018544364653714958, 'Home_PitchingSO9'),\n",
       " (0.017805818104940606, 'Home_PitchingWHIP'),\n",
       " (0.01744468754754077, 'Home_PitchingStS'),\n",
       " (0.01645730179820481, 'Home_PitchingPU'),\n",
       " (0.016355939502478746, 'Visitor_PitchingSO/W'),\n",
       " (0.016283326968724605, 'Home_PitchingBB'),\n",
       " (0.01534164550184438, 'Visitor_PitchingStS'),\n",
       " (0.015203983113381203, 'Home_PitchingSO/W'),\n",
       " (0.015021181099755119, 'Visitor_PitchingPU'),\n",
       " (0.014615441100957173, 'Home_PitchingStL'),\n",
       " (0.014514727303144934, 'Home_PitchingGB/FB'),\n",
       " (0.014482803955705562, 'Visitor_PitchingSO9'),\n",
       " (0.014478767661033603, 'Visitor_PitchingLD'),\n",
       " (0.013956590032033847, 'Visitor_PitchingGB/FB'),\n",
       " (0.01353280988341586, 'Home_PitchingSO'),\n",
       " (0.013491152639593138, 'Visitor_PitchingBAbip'),\n",
       " (0.01336482952785747, 'Visitor_PitchingStL'),\n",
       " (0.013149838780468692, 'Visitor_HittingSO'),\n",
       " (0.012994793470672094, 'Visitor_PitchingWHIP'),\n",
       " (0.012874792225275005, 'Home_PitchingStr'),\n",
       " (0.012651502984272093, 'Visitor_PitchingStr'),\n",
       " (0.012539401467554676, 'Home_HittingSO'),\n",
       " (0.012419959193580726, 'Home_HittingBB'),\n",
       " (0.012201237639325149, 'Home_PitchingR'),\n",
       " (0.012103666740735647, 'Visitor_PitchingBB'),\n",
       " (0.011949461360652308, 'Visitor_PitchingIP'),\n",
       " (0.011848974946005012, 'Home_PitchingIP'),\n",
       " (0.011821209115085423, 'Home_PitchingPit'),\n",
       " (0.011783429714788513, 'Visitor_HittingBB'),\n",
       " (0.011715507833742821, 'Home_PitchingER'),\n",
       " (0.011690405599519359, 'Visitor_HittingAB'),\n",
       " (0.011541287943767395, 'Visitor_HittingPA'),\n",
       " (0.011464382176377434, 'Visitor_PitchingSO'),\n",
       " (0.011430850259953914, 'Home_HittingPA'),\n",
       " (0.01140785878753868, 'Visitor_HittingR'),\n",
       " (0.011358719393768294, 'Home_HittingH'),\n",
       " (0.011311949855061596, 'Visitor_PitchingPit'),\n",
       " (0.011279819900583635, 'Visitor_HittingH'),\n",
       " (0.011267137728398028, 'Home_PitchingBF'),\n",
       " (0.011230325968567026, 'Home_HittingR'),\n",
       " (0.011200039466719935, 'Visitor_PitchingH'),\n",
       " (0.011161189830334062, 'Visitor_PitchingAB'),\n",
       " (0.011047917647366448, 'Home_HittingG'),\n",
       " (0.010994474631398438, 'Home_HittingRBI'),\n",
       " (0.01096676523207399, 'Home_HittingHR'),\n",
       " (0.01079658068851618, 'Home_PitchingAB'),\n",
       " (0.010711050216941943, 'Home_PitchingERA'),\n",
       " (0.010657628172543586, 'Home_PitchingH'),\n",
       " (0.010538528938322418, 'Visitor_HittingHR'),\n",
       " (0.010507690541215286, 'Home_PitchingHR'),\n",
       " (0.010233221156146227, 'Visitor_HittingRBI'),\n",
       " (0.010214812526643344, 'Home_HittingAB'),\n",
       " (0.010214087101933143, 'Visitor_PitchingER'),\n",
       " (0.010166362970022588, 'Visitor_PitchingBF'),\n",
       " (0.010015174633448854, 'Visitor_HittingG'),\n",
       " (0.009988524783028684, 'Visitor_PitchingERA'),\n",
       " (0.009769820516622936, 'Visitor_PitchingR'),\n",
       " (0.009637768834910118, 'Visitor_Pitching2B'),\n",
       " (0.009552744292902555, 'Visitor_PitchingHR'),\n",
       " (0.009525351064601366, 'Visitor_Hitting2B'),\n",
       " (0.009460980451657724, 'Home_Hitting2B'),\n",
       " (0.009249690894265715, 'Visitor_PitchingG'),\n",
       " (0.00909444094706223, 'Home_Pitching2B'),\n",
       " (0.00875491805262023, 'Visitor_HittingGDP'),\n",
       " (0.007949795215026588, 'Home_HittingGDP'),\n",
       " (0.007934267212130799, 'Home_PitchingGDP'),\n",
       " (0.0077358113160998975, 'Home_PitchingG'),\n",
       " (0.007597324323459513, 'Home_PitchingSB'),\n",
       " (0.007475713441464057, 'Visitor_PitchingSB'),\n",
       " (0.007468139793894255, 'Visitor_HittingSB'),\n",
       " (0.007293897028890681, 'Home_HittingSB'),\n",
       " (0.007076049206534117, 'Visitor_PitchingGDP'),\n",
       " (0.006929917554617103, 'Visitor_HittingHBP'),\n",
       " (0.006873289575804589, 'Home_HittingHBP'),\n",
       " (0.006655938361518406, 'Visitor_PitchingHBP'),\n",
       " (0.00638284380515347, 'Home_PitchingHBP'),\n",
       " (0.005703103199060521, 'Visitor_HittingSF'),\n",
       " (0.00567259863574691, 'Visitor_PitchingSF'),\n",
       " (0.005317652124032393, 'Visitor_Pitching3B'),\n",
       " (0.005235974127666384, 'Home_HittingSF'),\n",
       " (0.005137252935373978, 'Visitor_HittingIBB'),\n",
       " (0.005031857004255739, 'Home_PitchingCS'),\n",
       " (0.00489403459234194, 'Home_PitchingSF'),\n",
       " (0.004847677836741079, 'Visitor_HittingSH'),\n",
       " (0.004807643987445669, 'Visitor_PitchingCS'),\n",
       " (0.004757710176738031, 'Home_PitchingIBB'),\n",
       " (0.004660544538687918, 'Home_HittingSH'),\n",
       " (0.004407844931313714, 'Visitor_PitchingIBB'),\n",
       " (0.004288316250743153, 'Home_HittingCS'),\n",
       " (0.0041619831803012194, 'Home_HittingIBB'),\n",
       " (0.00397822373953227, 'Home_Hitting3B'),\n",
       " (0.00388307789777036, 'Home_Pitching3B'),\n",
       " (0.003830499839013927, 'Visitor_Hitting3B'),\n",
       " (0.0035695046922646096, 'Visitor_HittingCS'),\n",
       " (0.002508014303096772, 'Visitor_PitchingPO'),\n",
       " (0.0020138508033241452, 'Home_PitchingGS'),\n",
       " (0.001989779635520231, 'Visitor_PitchingGS'),\n",
       " (0.001628406235614319, 'Home_PitchingPO')]"
      ]
     },
     "execution_count": 134,
     "metadata": {},
     "output_type": "execute_result"
    }
   ],
   "source": [
    "sorted(zip(rf_model.feature_importances_, X.columns), reverse=True)"
   ]
  },
  {
   "cell_type": "code",
   "execution_count": 135,
   "metadata": {},
   "outputs": [],
   "source": [
    "clf = AdaBoostClassifier(n_estimators = 2500, random_state = 9)"
   ]
  },
  {
   "cell_type": "code",
   "execution_count": 136,
   "metadata": {},
   "outputs": [
    {
     "data": {
      "text/plain": [
       "AdaBoostClassifier(algorithm='SAMME.R', base_estimator=None, learning_rate=1.0,\n",
       "                   n_estimators=2500, random_state=9)"
      ]
     },
     "execution_count": 136,
     "metadata": {},
     "output_type": "execute_result"
    }
   ],
   "source": [
    "clf.fit(X_train, y_train)"
   ]
  },
  {
   "cell_type": "code",
   "execution_count": 137,
   "metadata": {},
   "outputs": [],
   "source": [
    "predictions = clf.predict(X_test)"
   ]
  },
  {
   "cell_type": "code",
   "execution_count": 138,
   "metadata": {},
   "outputs": [],
   "source": [
    "cm = confusion_matrix(y_test, predictions)\n",
    "cm_df = pd.DataFrame(\n",
    "    cm, index=[\"Actual 0\", \"Actual 1\"], columns=[\"Predicted 0\", \"Predicted 1\"]\n",
    ")\n",
    "acc_score = balanced_accuracy_score(y_test, predictions)"
   ]
  },
  {
   "cell_type": "code",
   "execution_count": 139,
   "metadata": {},
   "outputs": [
    {
     "name": "stdout",
     "output_type": "stream",
     "text": [
      "Confusion Matrix\n"
     ]
    },
    {
     "data": {
      "text/html": [
       "<div>\n",
       "<style scoped>\n",
       "    .dataframe tbody tr th:only-of-type {\n",
       "        vertical-align: middle;\n",
       "    }\n",
       "\n",
       "    .dataframe tbody tr th {\n",
       "        vertical-align: top;\n",
       "    }\n",
       "\n",
       "    .dataframe thead th {\n",
       "        text-align: right;\n",
       "    }\n",
       "</style>\n",
       "<table border=\"1\" class=\"dataframe\">\n",
       "  <thead>\n",
       "    <tr style=\"text-align: right;\">\n",
       "      <th></th>\n",
       "      <th>Predicted 0</th>\n",
       "      <th>Predicted 1</th>\n",
       "    </tr>\n",
       "  </thead>\n",
       "  <tbody>\n",
       "    <tr>\n",
       "      <th>Actual 0</th>\n",
       "      <td>255</td>\n",
       "      <td>331</td>\n",
       "    </tr>\n",
       "    <tr>\n",
       "      <th>Actual 1</th>\n",
       "      <td>287</td>\n",
       "      <td>369</td>\n",
       "    </tr>\n",
       "  </tbody>\n",
       "</table>\n",
       "</div>"
      ],
      "text/plain": [
       "          Predicted 0  Predicted 1\n",
       "Actual 0          255          331\n",
       "Actual 1          287          369"
      ]
     },
     "metadata": {},
     "output_type": "display_data"
    },
    {
     "name": "stdout",
     "output_type": "stream",
     "text": [
      "Accuracy Score : 0.4988267918088737\n",
      "Classification Report\n",
      "                   pre       rec       spe        f1       geo       iba       sup\n",
      "\n",
      "          0       0.47      0.44      0.56      0.45      0.49      0.24       586\n",
      "          1       0.53      0.56      0.44      0.54      0.49      0.25       656\n",
      "\n",
      "avg / total       0.50      0.50      0.50      0.50      0.49      0.24      1242\n",
      "\n"
     ]
    }
   ],
   "source": [
    "# Displaying results\n",
    "print(\"Confusion Matrix\")\n",
    "display(cm_df)\n",
    "print(f\"Accuracy Score : {acc_score}\")\n",
    "print(\"Classification Report\")\n",
    "print(classification_report_imbalanced(y_test, predictions))"
   ]
  },
  {
   "cell_type": "code",
   "execution_count": 140,
   "metadata": {},
   "outputs": [
    {
     "data": {
      "text/plain": [
       "1242"
      ]
     },
     "execution_count": 140,
     "metadata": {},
     "output_type": "execute_result"
    }
   ],
   "source": [
    "actual_df = pd.DataFrame(y_test)\n",
    "len(actual_df)"
   ]
  },
  {
   "cell_type": "code",
   "execution_count": 141,
   "metadata": {},
   "outputs": [
    {
     "data": {
      "text/plain": [
       "1242"
      ]
     },
     "execution_count": 141,
     "metadata": {},
     "output_type": "execute_result"
    }
   ],
   "source": [
    "predict_df = pd.DataFrame(predictions)\n",
    "len(predict_df)"
   ]
  },
  {
   "cell_type": "code",
   "execution_count": null,
   "metadata": {},
   "outputs": [],
   "source": []
  },
  {
   "cell_type": "code",
   "execution_count": null,
   "metadata": {},
   "outputs": [],
   "source": []
  }
 ],
 "metadata": {
  "kernelspec": {
   "display_name": "Python 3",
   "language": "python",
   "name": "python3"
  },
  "language_info": {
   "codemirror_mode": {
    "name": "ipython",
    "version": 3
   },
   "file_extension": ".py",
   "mimetype": "text/x-python",
   "name": "python",
   "nbconvert_exporter": "python",
   "pygments_lexer": "ipython3",
   "version": "3.7.3"
  }
 },
 "nbformat": 4,
 "nbformat_minor": 4
}
