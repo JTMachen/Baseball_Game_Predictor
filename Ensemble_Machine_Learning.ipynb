{
 "cells": [
  {
   "cell_type": "code",
   "execution_count": 1,
   "metadata": {},
   "outputs": [],
   "source": [
    "# Import libraries\n",
    "import warnings\n",
    "warnings.filterwarnings('ignore')\n",
    "import numpy as np\n",
    "import pandas as pd\n",
    "from pathlib import Path\n",
    "from collections import Counter\n",
    "from sklearn.metrics import balanced_accuracy_score\n",
    "from sklearn.metrics import confusion_matrix\n",
    "from imblearn.metrics import classification_report_imbalanced\n",
    "from sklearn.model_selection import train_test_split\n",
    "from sklearn.ensemble import RandomForestClassifier\n",
    "from sklearn.preprocessing import LabelEncoder, StandardScaler\n",
    "from sklearn.ensemble import AdaBoostClassifier\n",
    "from sklearn.datasets import make_classification"
   ]
  },
  {
   "cell_type": "code",
   "execution_count": 289,
   "metadata": {},
   "outputs": [],
   "source": [
    "# Import csv path/file\n",
    "csv_path = Path('../Project_2/Training_Data/2019_10_day.csv')\n",
    "df = pd.read_csv(csv_path, index_col = 'Date')\n",
    "csv_path_2 = Path('../10_Day_Lookback_2017.csv')\n",
    "df_2 = pd.read_csv(csv_path_2)"
   ]
  },
  {
   "cell_type": "code",
   "execution_count": 290,
   "metadata": {},
   "outputs": [],
   "source": [
    "df = df.replace([np.inf], 150)\n",
    "df = df.replace([np.NaN], 0)\n",
    "df = df.replace([-np.inf], -150)\n",
    "df_2 = df_2.replace([np.inf], 150)\n",
    "df_2 = df_2.replace([np.NaN], 0)\n",
    "df_2 = df_2.replace([-np.inf], -150)"
   ]
  },
  {
   "cell_type": "code",
   "execution_count": 291,
   "metadata": {},
   "outputs": [],
   "source": [
    "# Create our features\n",
    "X = df.iloc[:, 10::]\n",
    "# Create our target\n",
    "y = df['home_win_loss']"
   ]
  },
  {
   "cell_type": "code",
   "execution_count": 292,
   "metadata": {},
   "outputs": [
    {
     "data": {
      "text/html": [
       "<div>\n",
       "<style scoped>\n",
       "    .dataframe tbody tr th:only-of-type {\n",
       "        vertical-align: middle;\n",
       "    }\n",
       "\n",
       "    .dataframe tbody tr th {\n",
       "        vertical-align: top;\n",
       "    }\n",
       "\n",
       "    .dataframe thead th {\n",
       "        text-align: right;\n",
       "    }\n",
       "</style>\n",
       "<table border=\"1\" class=\"dataframe\">\n",
       "  <thead>\n",
       "    <tr style=\"text-align: right;\">\n",
       "      <th></th>\n",
       "      <th>Home_PitchingOBP_allowed</th>\n",
       "      <th>Home_PitchingSLG%_allowed</th>\n",
       "      <th>Visitor_PitchingK%</th>\n",
       "      <th>Visitor_PitchingBB%</th>\n",
       "      <th>Visitor_PitchingOBP_allowed</th>\n",
       "      <th>Visitor_PitchingSLG%_allowed</th>\n",
       "      <th>Home_HittingK%</th>\n",
       "      <th>Home_HittingBB%</th>\n",
       "      <th>Home_HittingOBP</th>\n",
       "      <th>Home_HittingSLG%</th>\n",
       "      <th>Visitor_HittingK%</th>\n",
       "      <th>Visitor_HittingBB%</th>\n",
       "      <th>Visitor_HittingOBP</th>\n",
       "      <th>Visitor_HittingSLG%</th>\n",
       "    </tr>\n",
       "    <tr>\n",
       "      <th>Date</th>\n",
       "      <th></th>\n",
       "      <th></th>\n",
       "      <th></th>\n",
       "      <th></th>\n",
       "      <th></th>\n",
       "      <th></th>\n",
       "      <th></th>\n",
       "      <th></th>\n",
       "      <th></th>\n",
       "      <th></th>\n",
       "      <th></th>\n",
       "      <th></th>\n",
       "      <th></th>\n",
       "      <th></th>\n",
       "    </tr>\n",
       "  </thead>\n",
       "  <tbody>\n",
       "    <tr>\n",
       "      <th>2019-03-30</th>\n",
       "      <td>0.235294</td>\n",
       "      <td>0.258065</td>\n",
       "      <td>0.424242</td>\n",
       "      <td>0.030303</td>\n",
       "      <td>0.212121</td>\n",
       "      <td>0.193548</td>\n",
       "      <td>0.424242</td>\n",
       "      <td>0.030303</td>\n",
       "      <td>0.212121</td>\n",
       "      <td>0.193548</td>\n",
       "      <td>0.352941</td>\n",
       "      <td>0.088235</td>\n",
       "      <td>0.235294</td>\n",
       "      <td>0.258065</td>\n",
       "    </tr>\n",
       "    <tr>\n",
       "      <th>2019-03-30</th>\n",
       "      <td>0.361111</td>\n",
       "      <td>0.366667</td>\n",
       "      <td>0.243243</td>\n",
       "      <td>0.162162</td>\n",
       "      <td>0.351351</td>\n",
       "      <td>0.516129</td>\n",
       "      <td>0.243243</td>\n",
       "      <td>0.162162</td>\n",
       "      <td>0.351351</td>\n",
       "      <td>0.516129</td>\n",
       "      <td>0.250000</td>\n",
       "      <td>0.166667</td>\n",
       "      <td>0.361111</td>\n",
       "      <td>0.366667</td>\n",
       "    </tr>\n",
       "    <tr>\n",
       "      <th>2019-03-30</th>\n",
       "      <td>0.333333</td>\n",
       "      <td>0.432432</td>\n",
       "      <td>0.246154</td>\n",
       "      <td>0.061538</td>\n",
       "      <td>0.184615</td>\n",
       "      <td>0.305085</td>\n",
       "      <td>0.246154</td>\n",
       "      <td>0.061538</td>\n",
       "      <td>0.184615</td>\n",
       "      <td>0.305085</td>\n",
       "      <td>0.148148</td>\n",
       "      <td>0.086420</td>\n",
       "      <td>0.333333</td>\n",
       "      <td>0.432432</td>\n",
       "    </tr>\n",
       "    <tr>\n",
       "      <th>2019-03-30</th>\n",
       "      <td>0.353659</td>\n",
       "      <td>0.555556</td>\n",
       "      <td>0.194030</td>\n",
       "      <td>0.059701</td>\n",
       "      <td>0.298507</td>\n",
       "      <td>0.508197</td>\n",
       "      <td>0.194030</td>\n",
       "      <td>0.059701</td>\n",
       "      <td>0.298507</td>\n",
       "      <td>0.508197</td>\n",
       "      <td>0.253012</td>\n",
       "      <td>0.108434</td>\n",
       "      <td>0.353659</td>\n",
       "      <td>0.555556</td>\n",
       "    </tr>\n",
       "    <tr>\n",
       "      <th>2019-03-30</th>\n",
       "      <td>0.235294</td>\n",
       "      <td>0.269841</td>\n",
       "      <td>0.290323</td>\n",
       "      <td>0.080645</td>\n",
       "      <td>0.322581</td>\n",
       "      <td>0.418182</td>\n",
       "      <td>0.290323</td>\n",
       "      <td>0.080645</td>\n",
       "      <td>0.322581</td>\n",
       "      <td>0.418182</td>\n",
       "      <td>0.250000</td>\n",
       "      <td>0.058824</td>\n",
       "      <td>0.235294</td>\n",
       "      <td>0.269841</td>\n",
       "    </tr>\n",
       "  </tbody>\n",
       "</table>\n",
       "</div>"
      ],
      "text/plain": [
       "            Home_PitchingOBP_allowed  Home_PitchingSLG%_allowed  \\\n",
       "Date                                                              \n",
       "2019-03-30                  0.235294                   0.258065   \n",
       "2019-03-30                  0.361111                   0.366667   \n",
       "2019-03-30                  0.333333                   0.432432   \n",
       "2019-03-30                  0.353659                   0.555556   \n",
       "2019-03-30                  0.235294                   0.269841   \n",
       "\n",
       "            Visitor_PitchingK%  Visitor_PitchingBB%  \\\n",
       "Date                                                  \n",
       "2019-03-30            0.424242             0.030303   \n",
       "2019-03-30            0.243243             0.162162   \n",
       "2019-03-30            0.246154             0.061538   \n",
       "2019-03-30            0.194030             0.059701   \n",
       "2019-03-30            0.290323             0.080645   \n",
       "\n",
       "            Visitor_PitchingOBP_allowed  Visitor_PitchingSLG%_allowed  \\\n",
       "Date                                                                    \n",
       "2019-03-30                     0.212121                      0.193548   \n",
       "2019-03-30                     0.351351                      0.516129   \n",
       "2019-03-30                     0.184615                      0.305085   \n",
       "2019-03-30                     0.298507                      0.508197   \n",
       "2019-03-30                     0.322581                      0.418182   \n",
       "\n",
       "            Home_HittingK%  Home_HittingBB%  Home_HittingOBP  \\\n",
       "Date                                                           \n",
       "2019-03-30        0.424242         0.030303         0.212121   \n",
       "2019-03-30        0.243243         0.162162         0.351351   \n",
       "2019-03-30        0.246154         0.061538         0.184615   \n",
       "2019-03-30        0.194030         0.059701         0.298507   \n",
       "2019-03-30        0.290323         0.080645         0.322581   \n",
       "\n",
       "            Home_HittingSLG%  Visitor_HittingK%  Visitor_HittingBB%  \\\n",
       "Date                                                                  \n",
       "2019-03-30          0.193548           0.352941            0.088235   \n",
       "2019-03-30          0.516129           0.250000            0.166667   \n",
       "2019-03-30          0.305085           0.148148            0.086420   \n",
       "2019-03-30          0.508197           0.253012            0.108434   \n",
       "2019-03-30          0.418182           0.250000            0.058824   \n",
       "\n",
       "            Visitor_HittingOBP  Visitor_HittingSLG%  \n",
       "Date                                                 \n",
       "2019-03-30            0.235294             0.258065  \n",
       "2019-03-30            0.361111             0.366667  \n",
       "2019-03-30            0.333333             0.432432  \n",
       "2019-03-30            0.353659             0.555556  \n",
       "2019-03-30            0.235294             0.269841  "
      ]
     },
     "execution_count": 292,
     "metadata": {},
     "output_type": "execute_result"
    }
   ],
   "source": [
    "X.head()"
   ]
  },
  {
   "cell_type": "code",
   "execution_count": 293,
   "metadata": {},
   "outputs": [
    {
     "data": {
      "text/plain": [
       "2402"
      ]
     },
     "execution_count": 293,
     "metadata": {},
     "output_type": "execute_result"
    }
   ],
   "source": [
    "len(y)"
   ]
  },
  {
   "cell_type": "code",
   "execution_count": 294,
   "metadata": {},
   "outputs": [
    {
     "data": {
      "text/plain": [
       "1271"
      ]
     },
     "execution_count": 294,
     "metadata": {},
     "output_type": "execute_result"
    }
   ],
   "source": [
    "len(y[y == 1])"
   ]
  },
  {
   "cell_type": "code",
   "execution_count": 295,
   "metadata": {},
   "outputs": [
    {
     "data": {
      "text/plain": [
       "(1801, 14)"
      ]
     },
     "execution_count": 295,
     "metadata": {},
     "output_type": "execute_result"
    }
   ],
   "source": [
    "X_train, X_test, y_train, y_test = train_test_split(X, \n",
    "                                                    y, \n",
    "                                                    random_state=9, \n",
    "                                                    stratify=y)\n",
    "X_train.shape"
   ]
  },
  {
   "cell_type": "code",
   "execution_count": 296,
   "metadata": {},
   "outputs": [],
   "source": [
    "X_train = X[:1159]\n",
    "X_test = X[1160:]\n",
    "y_train = y[:1159]\n",
    "y_test = y[1160:]"
   ]
  },
  {
   "cell_type": "code",
   "execution_count": 297,
   "metadata": {},
   "outputs": [],
   "source": [
    "scaler = StandardScaler()\n",
    "# Fitting Standard Scaller\n",
    "X_scaler = scaler.fit(X_train)\n",
    "# Scaling data\n",
    "X_train_scaled = X_scaler.transform(X_train)\n",
    "X_test_scaled = X_scaler.transform(X_test)"
   ]
  },
  {
   "cell_type": "code",
   "execution_count": 298,
   "metadata": {},
   "outputs": [],
   "source": [
    "rf_model = RandomForestClassifier(n_estimators=500, random_state=9)"
   ]
  },
  {
   "cell_type": "code",
   "execution_count": 299,
   "metadata": {},
   "outputs": [
    {
     "data": {
      "text/plain": [
       "RandomForestClassifier(bootstrap=True, class_weight=None, criterion='gini',\n",
       "                       max_depth=None, max_features='auto', max_leaf_nodes=None,\n",
       "                       min_impurity_decrease=0.0, min_impurity_split=None,\n",
       "                       min_samples_leaf=1, min_samples_split=2,\n",
       "                       min_weight_fraction_leaf=0.0, n_estimators=500,\n",
       "                       n_jobs=None, oob_score=False, random_state=9, verbose=0,\n",
       "                       warm_start=False)"
      ]
     },
     "execution_count": 299,
     "metadata": {},
     "output_type": "execute_result"
    }
   ],
   "source": [
    "rf_model.fit(X_train_scaled, y_train)"
   ]
  },
  {
   "cell_type": "code",
   "execution_count": 300,
   "metadata": {},
   "outputs": [],
   "source": [
    "predictions = rf_model.predict(X_test_scaled)"
   ]
  },
  {
   "cell_type": "code",
   "execution_count": 301,
   "metadata": {},
   "outputs": [],
   "source": [
    "# Calculating the confusion matrix\n",
    "cm = confusion_matrix(y_test, predictions)\n",
    "cm_df = pd.DataFrame(\n",
    "    cm, index=[\"Actual 0\", \"Actual 1\"], columns=[\"Predicted 0\", \"Predicted 1\"]\n",
    ")\n",
    "\n",
    "# Calculating the accuracy score\n",
    "acc_score = balanced_accuracy_score(y_test, predictions)"
   ]
  },
  {
   "cell_type": "code",
   "execution_count": 302,
   "metadata": {},
   "outputs": [
    {
     "name": "stdout",
     "output_type": "stream",
     "text": [
      "Confusion Matrix\n"
     ]
    },
    {
     "data": {
      "text/html": [
       "<div>\n",
       "<style scoped>\n",
       "    .dataframe tbody tr th:only-of-type {\n",
       "        vertical-align: middle;\n",
       "    }\n",
       "\n",
       "    .dataframe tbody tr th {\n",
       "        vertical-align: top;\n",
       "    }\n",
       "\n",
       "    .dataframe thead th {\n",
       "        text-align: right;\n",
       "    }\n",
       "</style>\n",
       "<table border=\"1\" class=\"dataframe\">\n",
       "  <thead>\n",
       "    <tr style=\"text-align: right;\">\n",
       "      <th></th>\n",
       "      <th>Predicted 0</th>\n",
       "      <th>Predicted 1</th>\n",
       "    </tr>\n",
       "  </thead>\n",
       "  <tbody>\n",
       "    <tr>\n",
       "      <th>Actual 0</th>\n",
       "      <td>246</td>\n",
       "      <td>340</td>\n",
       "    </tr>\n",
       "    <tr>\n",
       "      <th>Actual 1</th>\n",
       "      <td>273</td>\n",
       "      <td>383</td>\n",
       "    </tr>\n",
       "  </tbody>\n",
       "</table>\n",
       "</div>"
      ],
      "text/plain": [
       "          Predicted 0  Predicted 1\n",
       "Actual 0          246          340\n",
       "Actual 1          273          383"
      ]
     },
     "metadata": {},
     "output_type": "display_data"
    },
    {
     "name": "stdout",
     "output_type": "stream",
     "text": [
      "Accuracy Score : 0.5018183426288187\n",
      "Classification Report\n",
      "                   pre       rec       spe        f1       geo       iba       sup\n",
      "\n",
      "          0       0.47      0.42      0.58      0.45      0.50      0.24       586\n",
      "          1       0.53      0.58      0.42      0.56      0.50      0.25       656\n",
      "\n",
      "avg / total       0.50      0.51      0.50      0.50      0.50      0.25      1242\n",
      "\n"
     ]
    }
   ],
   "source": [
    "# Displaying results\n",
    "print(\"Confusion Matrix\")\n",
    "display(cm_df)\n",
    "print(f\"Accuracy Score : {acc_score}\")\n",
    "print(\"Classification Report\")\n",
    "print(classification_report_imbalanced(y_test, predictions))"
   ]
  },
  {
   "cell_type": "code",
   "execution_count": 303,
   "metadata": {},
   "outputs": [],
   "source": [
    "importances = rf_model.feature_importances_"
   ]
  },
  {
   "cell_type": "code",
   "execution_count": 304,
   "metadata": {},
   "outputs": [
    {
     "data": {
      "text/plain": [
       "[(0.0768952304372194, 'Home_HittingK%'),\n",
       " (0.07641172467243727, 'Home_PitchingOBP_allowed'),\n",
       " (0.07474198832561914, 'Visitor_PitchingOBP_allowed'),\n",
       " (0.07325347382735718, 'Visitor_PitchingSLG%_allowed'),\n",
       " (0.07295745047612547, 'Visitor_HittingSLG%'),\n",
       " (0.07249858784603377, 'Visitor_HittingBB%'),\n",
       " (0.07187883584120112, 'Home_HittingBB%'),\n",
       " (0.07173734768986574, 'Home_HittingSLG%'),\n",
       " (0.07061482132584573, 'Visitor_PitchingK%'),\n",
       " (0.07051536587039384, 'Home_PitchingSLG%_allowed'),\n",
       " (0.06729844265937747, 'Visitor_HittingK%'),\n",
       " (0.06722332144108022, 'Visitor_PitchingBB%'),\n",
       " (0.06716070400751911, 'Visitor_HittingOBP'),\n",
       " (0.06681270557992451, 'Home_HittingOBP')]"
      ]
     },
     "execution_count": 304,
     "metadata": {},
     "output_type": "execute_result"
    }
   ],
   "source": [
    "sorted(zip(rf_model.feature_importances_, X.columns), reverse=True)"
   ]
  },
  {
   "cell_type": "code",
   "execution_count": 305,
   "metadata": {},
   "outputs": [],
   "source": [
    "clf = AdaBoostClassifier(n_estimators = 2500, random_state = 9)"
   ]
  },
  {
   "cell_type": "code",
   "execution_count": 306,
   "metadata": {},
   "outputs": [
    {
     "data": {
      "text/plain": [
       "AdaBoostClassifier(algorithm='SAMME.R', base_estimator=None, learning_rate=1.0,\n",
       "                   n_estimators=2500, random_state=9)"
      ]
     },
     "execution_count": 306,
     "metadata": {},
     "output_type": "execute_result"
    }
   ],
   "source": [
    "clf.fit(X_train, y_train)"
   ]
  },
  {
   "cell_type": "code",
   "execution_count": 307,
   "metadata": {},
   "outputs": [],
   "source": [
    "predictions = clf.predict(X_test)"
   ]
  },
  {
   "cell_type": "code",
   "execution_count": 308,
   "metadata": {},
   "outputs": [],
   "source": [
    "cm = confusion_matrix(y_test, predictions)\n",
    "cm_df = pd.DataFrame(\n",
    "    cm, index=[\"Actual 0\", \"Actual 1\"], columns=[\"Predicted 0\", \"Predicted 1\"]\n",
    ")\n",
    "acc_score = balanced_accuracy_score(y_test, predictions)"
   ]
  },
  {
   "cell_type": "code",
   "execution_count": 309,
   "metadata": {},
   "outputs": [
    {
     "name": "stdout",
     "output_type": "stream",
     "text": [
      "Confusion Matrix\n"
     ]
    },
    {
     "data": {
      "text/html": [
       "<div>\n",
       "<style scoped>\n",
       "    .dataframe tbody tr th:only-of-type {\n",
       "        vertical-align: middle;\n",
       "    }\n",
       "\n",
       "    .dataframe tbody tr th {\n",
       "        vertical-align: top;\n",
       "    }\n",
       "\n",
       "    .dataframe thead th {\n",
       "        text-align: right;\n",
       "    }\n",
       "</style>\n",
       "<table border=\"1\" class=\"dataframe\">\n",
       "  <thead>\n",
       "    <tr style=\"text-align: right;\">\n",
       "      <th></th>\n",
       "      <th>Predicted 0</th>\n",
       "      <th>Predicted 1</th>\n",
       "    </tr>\n",
       "  </thead>\n",
       "  <tbody>\n",
       "    <tr>\n",
       "      <th>Actual 0</th>\n",
       "      <td>291</td>\n",
       "      <td>295</td>\n",
       "    </tr>\n",
       "    <tr>\n",
       "      <th>Actual 1</th>\n",
       "      <td>307</td>\n",
       "      <td>349</td>\n",
       "    </tr>\n",
       "  </tbody>\n",
       "</table>\n",
       "</div>"
      ],
      "text/plain": [
       "          Predicted 0  Predicted 1\n",
       "Actual 0          291          295\n",
       "Actual 1          307          349"
      ]
     },
     "metadata": {},
     "output_type": "display_data"
    },
    {
     "name": "stdout",
     "output_type": "stream",
     "text": [
      "Accuracy Score : 0.5142996129193373\n",
      "Classification Report\n",
      "                   pre       rec       spe        f1       geo       iba       sup\n",
      "\n",
      "          0       0.49      0.50      0.53      0.49      0.51      0.26       586\n",
      "          1       0.54      0.53      0.50      0.54      0.51      0.27       656\n",
      "\n",
      "avg / total       0.52      0.52      0.51      0.52      0.51      0.26      1242\n",
      "\n"
     ]
    }
   ],
   "source": [
    "# Displaying results\n",
    "print(\"Confusion Matrix\")\n",
    "display(cm_df)\n",
    "print(f\"Accuracy Score : {acc_score}\")\n",
    "print(\"Classification Report\")\n",
    "print(classification_report_imbalanced(y_test, predictions))"
   ]
  },
  {
   "cell_type": "code",
   "execution_count": 310,
   "metadata": {},
   "outputs": [],
   "source": [
    "actual_df = pd.DataFrame(y_test)\n",
    "actual_df.reset_index(inplace = True)"
   ]
  },
  {
   "cell_type": "code",
   "execution_count": 311,
   "metadata": {},
   "outputs": [
    {
     "data": {
      "text/html": [
       "<div>\n",
       "<style scoped>\n",
       "    .dataframe tbody tr th:only-of-type {\n",
       "        vertical-align: middle;\n",
       "    }\n",
       "\n",
       "    .dataframe tbody tr th {\n",
       "        vertical-align: top;\n",
       "    }\n",
       "\n",
       "    .dataframe thead th {\n",
       "        text-align: right;\n",
       "    }\n",
       "</style>\n",
       "<table border=\"1\" class=\"dataframe\">\n",
       "  <thead>\n",
       "    <tr style=\"text-align: right;\">\n",
       "      <th></th>\n",
       "      <th>0</th>\n",
       "    </tr>\n",
       "  </thead>\n",
       "  <tbody>\n",
       "    <tr>\n",
       "      <th>0</th>\n",
       "      <td>1</td>\n",
       "    </tr>\n",
       "    <tr>\n",
       "      <th>1</th>\n",
       "      <td>0</td>\n",
       "    </tr>\n",
       "    <tr>\n",
       "      <th>2</th>\n",
       "      <td>1</td>\n",
       "    </tr>\n",
       "    <tr>\n",
       "      <th>3</th>\n",
       "      <td>1</td>\n",
       "    </tr>\n",
       "    <tr>\n",
       "      <th>4</th>\n",
       "      <td>1</td>\n",
       "    </tr>\n",
       "  </tbody>\n",
       "</table>\n",
       "</div>"
      ],
      "text/plain": [
       "   0\n",
       "0  1\n",
       "1  0\n",
       "2  1\n",
       "3  1\n",
       "4  1"
      ]
     },
     "execution_count": 311,
     "metadata": {},
     "output_type": "execute_result"
    }
   ],
   "source": [
    "predict_df = pd.DataFrame(predictions)\n",
    "predict_df.head()"
   ]
  },
  {
   "cell_type": "code",
   "execution_count": 312,
   "metadata": {},
   "outputs": [],
   "source": [
    "actual_predict_df = pd.concat([actual_df,predict_df], axis = 1, join = 'inner')"
   ]
  },
  {
   "cell_type": "code",
   "execution_count": 313,
   "metadata": {},
   "outputs": [],
   "source": [
    "actual_predict_df.set_index('Date',inplace = True)"
   ]
  },
  {
   "cell_type": "code",
   "execution_count": 314,
   "metadata": {},
   "outputs": [],
   "source": [
    "actual_predict_df.columns = ['Actual','Predictions']"
   ]
  },
  {
   "cell_type": "code",
   "execution_count": 315,
   "metadata": {},
   "outputs": [
    {
     "data": {
      "text/html": [
       "<div>\n",
       "<style scoped>\n",
       "    .dataframe tbody tr th:only-of-type {\n",
       "        vertical-align: middle;\n",
       "    }\n",
       "\n",
       "    .dataframe tbody tr th {\n",
       "        vertical-align: top;\n",
       "    }\n",
       "\n",
       "    .dataframe thead th {\n",
       "        text-align: right;\n",
       "    }\n",
       "</style>\n",
       "<table border=\"1\" class=\"dataframe\">\n",
       "  <thead>\n",
       "    <tr style=\"text-align: right;\">\n",
       "      <th></th>\n",
       "      <th>Actual</th>\n",
       "      <th>Predictions</th>\n",
       "    </tr>\n",
       "    <tr>\n",
       "      <th>Date</th>\n",
       "      <th></th>\n",
       "      <th></th>\n",
       "    </tr>\n",
       "  </thead>\n",
       "  <tbody>\n",
       "    <tr>\n",
       "      <th>2019-06-25</th>\n",
       "      <td>1</td>\n",
       "      <td>1</td>\n",
       "    </tr>\n",
       "    <tr>\n",
       "      <th>2019-06-26</th>\n",
       "      <td>1</td>\n",
       "      <td>0</td>\n",
       "    </tr>\n",
       "    <tr>\n",
       "      <th>2019-06-26</th>\n",
       "      <td>0</td>\n",
       "      <td>1</td>\n",
       "    </tr>\n",
       "    <tr>\n",
       "      <th>2019-06-26</th>\n",
       "      <td>1</td>\n",
       "      <td>1</td>\n",
       "    </tr>\n",
       "    <tr>\n",
       "      <th>2019-06-26</th>\n",
       "      <td>0</td>\n",
       "      <td>1</td>\n",
       "    </tr>\n",
       "  </tbody>\n",
       "</table>\n",
       "</div>"
      ],
      "text/plain": [
       "            Actual  Predictions\n",
       "Date                           \n",
       "2019-06-25       1            1\n",
       "2019-06-26       1            0\n",
       "2019-06-26       0            1\n",
       "2019-06-26       1            1\n",
       "2019-06-26       0            1"
      ]
     },
     "execution_count": 315,
     "metadata": {},
     "output_type": "execute_result"
    }
   ],
   "source": [
    "actual_predict_df.head()"
   ]
  },
  {
   "cell_type": "code",
   "execution_count": 316,
   "metadata": {},
   "outputs": [],
   "source": [
    "odds_df_new = df[['home','visitor','home_open_odds','visitor_open_odds']][1160:]\n",
    "odds_df_new.reset_index(inplace = True)\n",
    "odds_df_new.drop(columns = ['Date'],inplace = True)"
   ]
  },
  {
   "cell_type": "code",
   "execution_count": 434,
   "metadata": {},
   "outputs": [],
   "source": [
    "home_visitor_df = pd.concat([actual_df,predict_df, odds_df_new], axis = 1, join ='inner')"
   ]
  },
  {
   "cell_type": "code",
   "execution_count": 435,
   "metadata": {},
   "outputs": [],
   "source": [
    "home_visitor_df.set_index('Date', inplace = True)"
   ]
  },
  {
   "cell_type": "code",
   "execution_count": 436,
   "metadata": {},
   "outputs": [],
   "source": [
    "home_visitor_df.columns = ['Actual','Predicted','Home','Visitor','Home_Open_Odds','Visitor_Open_Odds']"
   ]
  },
  {
   "cell_type": "code",
   "execution_count": 437,
   "metadata": {},
   "outputs": [
    {
     "data": {
      "text/html": [
       "<div>\n",
       "<style scoped>\n",
       "    .dataframe tbody tr th:only-of-type {\n",
       "        vertical-align: middle;\n",
       "    }\n",
       "\n",
       "    .dataframe tbody tr th {\n",
       "        vertical-align: top;\n",
       "    }\n",
       "\n",
       "    .dataframe thead th {\n",
       "        text-align: right;\n",
       "    }\n",
       "</style>\n",
       "<table border=\"1\" class=\"dataframe\">\n",
       "  <thead>\n",
       "    <tr style=\"text-align: right;\">\n",
       "      <th></th>\n",
       "      <th>Actual</th>\n",
       "      <th>Predicted</th>\n",
       "      <th>Home</th>\n",
       "      <th>Visitor</th>\n",
       "      <th>Home_Open_Odds</th>\n",
       "      <th>Visitor_Open_Odds</th>\n",
       "    </tr>\n",
       "    <tr>\n",
       "      <th>Date</th>\n",
       "      <th></th>\n",
       "      <th></th>\n",
       "      <th></th>\n",
       "      <th></th>\n",
       "      <th></th>\n",
       "      <th></th>\n",
       "    </tr>\n",
       "  </thead>\n",
       "  <tbody>\n",
       "    <tr>\n",
       "      <th>2019-06-25</th>\n",
       "      <td>1</td>\n",
       "      <td>1</td>\n",
       "      <td>LAA</td>\n",
       "      <td>CIN</td>\n",
       "      <td>-150</td>\n",
       "      <td>130</td>\n",
       "    </tr>\n",
       "    <tr>\n",
       "      <th>2019-06-26</th>\n",
       "      <td>1</td>\n",
       "      <td>0</td>\n",
       "      <td>ARI</td>\n",
       "      <td>LOS</td>\n",
       "      <td>125</td>\n",
       "      <td>-145</td>\n",
       "    </tr>\n",
       "    <tr>\n",
       "      <th>2019-06-26</th>\n",
       "      <td>0</td>\n",
       "      <td>1</td>\n",
       "      <td>SFO</td>\n",
       "      <td>COL</td>\n",
       "      <td>115</td>\n",
       "      <td>-135</td>\n",
       "    </tr>\n",
       "    <tr>\n",
       "      <th>2019-06-26</th>\n",
       "      <td>1</td>\n",
       "      <td>1</td>\n",
       "      <td>PHI</td>\n",
       "      <td>NYM</td>\n",
       "      <td>-130</td>\n",
       "      <td>110</td>\n",
       "    </tr>\n",
       "    <tr>\n",
       "      <th>2019-06-26</th>\n",
       "      <td>0</td>\n",
       "      <td>1</td>\n",
       "      <td>MIA</td>\n",
       "      <td>WAS</td>\n",
       "      <td>160</td>\n",
       "      <td>-185</td>\n",
       "    </tr>\n",
       "  </tbody>\n",
       "</table>\n",
       "</div>"
      ],
      "text/plain": [
       "            Actual  Predicted Home Visitor Home_Open_Odds Visitor_Open_Odds\n",
       "Date                                                                       \n",
       "2019-06-25       1          1  LAA     CIN           -150               130\n",
       "2019-06-26       1          0  ARI     LOS            125              -145\n",
       "2019-06-26       0          1  SFO     COL            115              -135\n",
       "2019-06-26       1          1  PHI     NYM           -130               110\n",
       "2019-06-26       0          1  MIA     WAS            160              -185"
      ]
     },
     "execution_count": 437,
     "metadata": {},
     "output_type": "execute_result"
    }
   ],
   "source": [
    "home_visitor_df.head()"
   ]
  },
  {
   "cell_type": "code",
   "execution_count": 462,
   "metadata": {},
   "outputs": [
    {
     "name": "stdin",
     "output_type": "stream",
     "text": [
      " 2017\n"
     ]
    },
    {
     "data": {
      "text/html": [
       "<div>\n",
       "<style scoped>\n",
       "    .dataframe tbody tr th:only-of-type {\n",
       "        vertical-align: middle;\n",
       "    }\n",
       "\n",
       "    .dataframe tbody tr th {\n",
       "        vertical-align: top;\n",
       "    }\n",
       "\n",
       "    .dataframe thead th {\n",
       "        text-align: right;\n",
       "    }\n",
       "</style>\n",
       "<table border=\"1\" class=\"dataframe\">\n",
       "  <thead>\n",
       "    <tr style=\"text-align: right;\">\n",
       "      <th></th>\n",
       "      <th>Actual</th>\n",
       "      <th>Predicted</th>\n",
       "      <th>Home</th>\n",
       "      <th>Visitor</th>\n",
       "      <th>Home_Open_Odds</th>\n",
       "      <th>Visitor_Open_Odds</th>\n",
       "    </tr>\n",
       "    <tr>\n",
       "      <th>Date</th>\n",
       "      <th></th>\n",
       "      <th></th>\n",
       "      <th></th>\n",
       "      <th></th>\n",
       "      <th></th>\n",
       "      <th></th>\n",
       "    </tr>\n",
       "  </thead>\n",
       "  <tbody>\n",
       "    <tr>\n",
       "      <th>2017-07-06</th>\n",
       "      <td>1</td>\n",
       "      <td>1</td>\n",
       "      <td>TAM</td>\n",
       "      <td>BOS</td>\n",
       "      <td>134</td>\n",
       "      <td>-149</td>\n",
       "    </tr>\n",
       "    <tr>\n",
       "      <th>2017-07-06</th>\n",
       "      <td>1</td>\n",
       "      <td>1</td>\n",
       "      <td>MIN</td>\n",
       "      <td>BAL</td>\n",
       "      <td>-156</td>\n",
       "      <td>141</td>\n",
       "    </tr>\n",
       "    <tr>\n",
       "      <th>2017-07-06</th>\n",
       "      <td>0</td>\n",
       "      <td>1</td>\n",
       "      <td>SEA</td>\n",
       "      <td>OAK</td>\n",
       "      <td>-144</td>\n",
       "      <td>129</td>\n",
       "    </tr>\n",
       "    <tr>\n",
       "      <th>2017-07-06</th>\n",
       "      <td>1</td>\n",
       "      <td>1</td>\n",
       "      <td>DET</td>\n",
       "      <td>SFO</td>\n",
       "      <td>-111</td>\n",
       "      <td>101</td>\n",
       "    </tr>\n",
       "    <tr>\n",
       "      <th>2017-07-06</th>\n",
       "      <td>1</td>\n",
       "      <td>0</td>\n",
       "      <td>CLE</td>\n",
       "      <td>SDG</td>\n",
       "      <td>-184</td>\n",
       "      <td>164</td>\n",
       "    </tr>\n",
       "  </tbody>\n",
       "</table>\n",
       "</div>"
      ],
      "text/plain": [
       "            Actual  Predicted Home Visitor  Home_Open_Odds  Visitor_Open_Odds\n",
       "Date                                                                         \n",
       "2017-07-06       1          1  TAM     BOS             134               -149\n",
       "2017-07-06       1          1  MIN     BAL            -156                141\n",
       "2017-07-06       0          1  SEA     OAK            -144                129\n",
       "2017-07-06       1          1  DET     SFO            -111                101\n",
       "2017-07-06       1          0  CLE     SDG            -184                164"
      ]
     },
     "execution_count": 462,
     "metadata": {},
     "output_type": "execute_result"
    }
   ],
   "source": [
    "year = input()\n",
    "csv_name = '../Project_2/Predictions_Vs_Actual/Predictions_Actual_' + year + '.csv'\n",
    "csv_path = Path(csv_name)\n",
    "df = pd.read_csv(csv_path, index_col = 'Date')\n",
    "df.head()"
   ]
  },
  {
   "cell_type": "code",
   "execution_count": 464,
   "metadata": {},
   "outputs": [],
   "source": [
    "def find_total_profits(df):\n",
    "    # Convert open odds to integers\n",
    "    df['Home_Open_Odds'] = df['Home_Open_Odds'].astype(int)\n",
    "    df['Visitor_Open_Odds'] = df['Visitor_Open_Odds'].astype(int)\n",
    "\n",
    "    # Pull in predicted win and predicted loss\n",
    "    home_win = df[df['Predicted'] == 1]\n",
    "    home_loss = df[df['Predicted'] == 0]\n",
    "\n",
    "    # Grab instances where the predicted winner is the favorite to win\n",
    "    home_win_fav = home_win[home_win['Home_Open_Odds'] < 0]\n",
    "    home_loss_fav = home_loss[home_loss['Visitor_Open_Odds'] < 0]\n",
    "\n",
    "    # Grab instances where the predicted winner is the underdog\n",
    "    home_win_dog = home_win[home_win['Home_Open_Odds'] > 0]\n",
    "    home_loss_dog = home_loss[home_loss['Visitor_Open_Odds'] > 0]\n",
    "\n",
    "    # Grab instances where the favs were the actual winners and predicted winners\n",
    "    home_win_fav_true = home_win_fav[home_win_fav['Actual'] == 1]\n",
    "    home_win_fav_true['Home_Open_Odds'] = ((10000)/abs(home_win_fav_true['Home_Open_Odds']))\n",
    "    home_loss_fav_true = home_loss_fav[home_loss_fav['Actual'] == 1]\n",
    "    home_loss_fav_true['Visitor_Open_Odds'] = ((10000)/abs(home_loss_fav_true['Visitor_Open_Odds']))\n",
    "\n",
    "    # Grab instances where the dogs were winners and predicted winners\n",
    "    home_win_dog_true = home_win_dog[home_win_dog['Actual']==1]\n",
    "    home_loss_dog_true = home_loss_dog[home_loss_dog['Actual']==0]\n",
    "\n",
    "    # Grab instances where the dogs were losers, but predicted winners\n",
    "    home_win_dog_false = home_win_dog[home_win_dog['Actual']==0]\n",
    "    home_loss_dog_false = home_loss_dog[home_loss_dog['Actual']==1]\n",
    "\n",
    "    # Grab instances where the favs were predicted winners but lost\n",
    "    home_win_fav_false = home_win_fav[home_win_fav['Actual'] == 0]\n",
    "    home_win_fav_false['Home_Open_Odds'] = -100\n",
    "    home_loss_fav_false = home_loss_fav[home_loss_fav['Actual'] == 1]\n",
    "    home_loss_fav_false['Visitor_Open_Odds'] = -100\n",
    "\n",
    "    # Concatinate the dataframes\n",
    "    bet_results_fav_win = pd.concat([home_win_fav_false, home_win_fav_true]) # Home Open Odds\n",
    "    bet_results_fav_loss = pd.concat([home_loss_fav_false, home_loss_fav_true]) # Visitor Open Odds\n",
    "    bet_results_dog_win = pd.concat([home_win_dog_true, home_win_dog_false]) # Home Open Odds\n",
    "    bet_results_dog_loss = pd.concat([home_loss_dog_true, home_loss_dog_false]) # Visitor Open Odds\n",
    "\n",
    "    # Sum up final wins/loss money lines\n",
    "    fav_win_sum = bet_results_fav_win['Home_Open_Odds'].sum()\n",
    "    fav_loss_sum = bet_results_fav_loss['Visitor_Open_Odds'].sum()\n",
    "    dog_win_sum = bet_results_dog_win['Home_Open_Odds'].sum()\n",
    "    dog_loss_sum = bet_results_dog_loss['Visitor_Open_Odds'].sum()\n",
    "    final_sum = fav_win_sum + fav_loss_sum + dog_win_sum + dog_loss_sum\n",
    "    return final_sum"
   ]
  },
  {
   "cell_type": "code",
   "execution_count": 465,
   "metadata": {},
   "outputs": [
    {
     "name": "stdout",
     "output_type": "stream",
     "text": [
      "            Actual  Predicted Home Visitor  Home_Open_Odds  Visitor_Open_Odds\n",
      "Date                                                                         \n",
      "2017-07-06       0          1  SEA     OAK     -100.000000                129\n",
      "2017-07-06       0          1  CUB     MIL     -100.000000                141\n",
      "2017-07-07       0          1  STL     NYM     -100.000000                107\n",
      "2017-07-07       0          1  SFO     MIA     -100.000000               -107\n",
      "2017-07-08       0          1  WAS     ATL     -100.000000                179\n",
      "2017-07-08       0          1  CUB     PIT     -100.000000                160\n",
      "2017-07-08       0          1  ARI     CIN     -100.000000                155\n",
      "2017-07-08       0          1  MIN     BAL     -100.000000                125\n",
      "2017-07-08       0          1  SEA     OAK     -100.000000                151\n",
      "2017-07-08       0          1  COL     CWS     -100.000000                129\n",
      "2017-07-09       0          1  ARI     CIN     -100.000000                141\n",
      "2017-07-09       0          1  MIN     BAL     -100.000000                109\n",
      "2017-07-09       0          1  TEX     LAA     -100.000000                162\n",
      "2017-07-09       0          1  CLE     DET     -100.000000                197\n",
      "2017-07-15       0          1  PIT     STL     -100.000000                113\n",
      "2017-07-15       0          1  BOS     NYY     -100.000000                155\n",
      "2017-07-15       0          1  KAN     TEX     -100.000000               -108\n",
      "2017-07-15       0          1  LAA     TAM     -100.000000               -103\n",
      "2017-07-17       0          1  NYM     STL     -100.000000                108\n",
      "2017-07-17       0          1  KAN     DET     -100.000000                140\n",
      "2017-07-18       0          1  MIA     PHI     -100.000000                125\n",
      "2017-07-19       0          1  MIA     PHI     -100.000000                170\n",
      "2017-07-21       0          1  CUB     STL     -100.000000                134\n",
      "2017-07-21       0          1  CIN     MIA     -100.000000                103\n",
      "2017-07-21       0          1  SFO     SDG     -100.000000                136\n",
      "2017-07-21       0          1  MIN     DET     -100.000000                113\n",
      "2017-07-21       0          1  SEA     NYY     -100.000000                105\n",
      "2017-07-22       0          1  CIN     MIA     -100.000000               -104\n",
      "2017-07-23       0          1  SFO     SDG     -100.000000                111\n",
      "2017-07-23       0          1  TAM     TEX     -100.000000                138\n",
      "...            ...        ...  ...     ...             ...                ...\n",
      "2017-09-22       1          1  ARI     MIA       40.816327                215\n",
      "2017-09-22       1          1  LOS     SFO       43.478261                205\n",
      "2017-09-22       1          1  HOU     LAA       58.823529                150\n",
      "2017-09-23       1          1  ATL     PHI       57.142857                155\n",
      "2017-09-23       1          1  OAK     TEX       76.335878                116\n",
      "2017-09-24       1          1  LOS     SFO       33.333333                260\n",
      "2017-09-24       1          1  ARI     MIA       54.054054                165\n",
      "2017-09-24       1          1  OAK     TEX       86.206897                106\n",
      "2017-09-26       1          1  MIL     CIN       51.282051                175\n",
      "2017-09-26       1          1  ARI     SFO       45.454545                195\n",
      "2017-09-26       1          1  LOS     SDG       42.553191                205\n",
      "2017-09-26       1          1  NYY     TAM       62.500000                140\n",
      "2017-09-26       1          1  KAN     DET       55.555556                160\n",
      "2017-09-27       1          1  COL     MIA       54.054054                165\n",
      "2017-09-27       1          1  BOS     TOR       57.142857                155\n",
      "2017-09-27       1          1  KAN     DET       55.248619                161\n",
      "2017-09-27       1          1  PIT     BAL       83.333333                110\n",
      "2017-09-28       1          1  CLE     MIN       36.363636                240\n",
      "2017-09-29       1          1  PHI     NYM       74.074074                120\n",
      "2017-09-29       1          1  MIA     ATL       66.666667                135\n",
      "2017-09-29       1          1  COL     LOS       99.009901               -109\n",
      "2017-09-29       1          1  TAM     BAL       64.102564                141\n",
      "2017-09-29       1          1  CLE     CWS       34.482759                255\n",
      "2017-09-29       1          1  TEX     OAK       86.956522                105\n",
      "2017-09-30       1          1  TAM     BAL       57.142857                155\n",
      "2017-09-30       1          1  BOS     HOU       95.238095               -105\n",
      "2017-09-30       1          1  TEX     OAK       74.074074                120\n",
      "2017-10-01       1          1  PHI     NYM       86.956522                105\n",
      "2017-10-01       1          1  SFO     SDG       71.428571                125\n",
      "2017-10-01       1          1  MIN     DET       66.666667                135\n",
      "\n",
      "[391 rows x 6 columns]\n",
      "            Actual  Predicted Home Visitor  Home_Open_Odds  Visitor_Open_Odds\n",
      "Date                                                                         \n",
      "2017-07-07       1          0  MIN     BAL             105        -100.000000\n",
      "2017-07-08       1          0  TOR     HOU             104        -100.000000\n",
      "2017-07-09       1          0  PHI     SDG            -102        -100.000000\n",
      "2017-07-09       1          0  TAM     BOS            -101        -100.000000\n",
      "2017-07-14       1          0  ATL     ARI             103        -100.000000\n",
      "2017-07-14       1          0  OAK     CLE             137        -100.000000\n",
      "2017-07-16       1          0  ATL     ARI            -109        -100.000000\n",
      "2017-07-18       1          0  SFO     CLE             116        -100.000000\n",
      "2017-07-19       1          0  SFO     CLE             176        -100.000000\n",
      "2017-07-19       1          0  LAA     WAS             112        -100.000000\n",
      "2017-07-20       1          0  KAN     DET            -108        -100.000000\n",
      "2017-07-22       1          0  MIN     DET            -106        -100.000000\n",
      "2017-07-23       1          0  BAL     HOU             130        -100.000000\n",
      "2017-07-23       1          0  LAA     BOS             114        -100.000000\n",
      "2017-07-26       1          0  SDG     NYM             112        -100.000000\n",
      "2017-07-26       1          0  PHI     HOU             114        -100.000000\n",
      "2017-07-28       1          0  SDG     PIT             127        -100.000000\n",
      "2017-07-29       1          0  SDG     PIT             116        -100.000000\n",
      "2017-07-29       1          0  DET     HOU             116        -100.000000\n",
      "2017-07-29       1          0  OAK     MIN            -106        -100.000000\n",
      "2017-07-29       1          0  SEA     NYM             140        -100.000000\n",
      "2017-07-30       1          0  WAS     COL             105        -100.000000\n",
      "2017-07-31       1          0  CWS     TOR             140        -100.000000\n",
      "2017-08-01       1          0  MIL     STL            -101        -100.000000\n",
      "2017-08-01       1          0  SDG     MIN            -104        -100.000000\n",
      "2017-08-02       1          0  ATL     LOS             145        -100.000000\n",
      "2017-08-04       1          0  CIN     STL             116        -100.000000\n",
      "2017-08-04       1          0  ATL     MIA            -105        -100.000000\n",
      "2017-08-05       1          0  SFO     ARI             125        -100.000000\n",
      "2017-08-08       1          0  SFO     CUB             155        -100.000000\n",
      "...            ...        ...  ...     ...             ...                ...\n",
      "2017-09-05       1          0  DET     KAN             130          68.965517\n",
      "2017-09-06       1          0  ATL     TEX             105          86.956522\n",
      "2017-09-07       1          0  NYM     CIN             105          86.956522\n",
      "2017-09-08       1          0  TEX     NYY             135          66.666667\n",
      "2017-09-08       1          0  OAK     HOU             150          58.823529\n",
      "2017-09-09       1          0  OAK     HOU             150          58.823529\n",
      "2017-09-09       1          0  OAK     HOU             150          58.823529\n",
      "2017-09-10       1          0  ATL     MIA            -109          99.009901\n",
      "2017-09-10       1          0  OAK     HOU             170          52.631579\n",
      "2017-09-12       1          0  TOR     BAL             112          78.740157\n",
      "2017-09-12       1          0  TAM     NYY             131          68.493151\n",
      "2017-09-13       1          0  LAA     HOU             111          82.644628\n",
      "2017-09-16       1          0  MIA     MIL             135          66.666667\n",
      "2017-09-17       1          0  SFO     ARI             140          64.516129\n",
      "2017-09-18       1          0  PHI     LOS             295          29.411765\n",
      "2017-09-18       1          0  SDG     ARI             145          60.606061\n",
      "2017-09-20       1          0  PHI     LOS             211          41.493776\n",
      "2017-09-20       1          0  PIT     MIL            -108          98.039216\n",
      "2017-09-21       1          0  ATL     WAS             120          74.074074\n",
      "2017-09-22       1          0  TOR     NYY             140          64.516129\n",
      "2017-09-22       1          0  CWS     KAN             111          79.365079\n",
      "2017-09-23       1          0  PIT     STL             111          79.365079\n",
      "2017-09-23       1          0  MIL     CUB             125          71.428571\n",
      "2017-09-23       1          0  SDG     COL             105          86.956522\n",
      "2017-09-24       1          0  CWS     KAN             101          90.090090\n",
      "2017-09-26       1          0  PHI     WAS             135          66.666667\n",
      "2017-09-26       1          0  NYM     ATL            -105          95.238095\n",
      "2017-09-26       1          0  STL     CUB            -108          98.039216\n",
      "2017-09-29       1          0  KAN     ARI             130          68.965517\n",
      "2017-09-30       1          0  KAN     ARI             104          87.719298\n",
      "\n",
      "[164 rows x 6 columns]\n",
      "            Actual  Predicted Home Visitor  Home_Open_Odds  Visitor_Open_Odds\n",
      "Date                                                                         \n",
      "2017-07-06       1          1  TAM     BOS             134               -149\n",
      "2017-07-15       1          1  SDG     SFO             137               -152\n",
      "2017-07-15       1          1  OAK     CLE             165               -185\n",
      "2017-07-16       1          1  PIT     STL             118               -133\n",
      "2017-07-16       1          1  SDG     SFO             107               -117\n",
      "2017-07-16       1          1  KAN     TEX             105               -115\n",
      "2017-07-16       1          1  LAA     TAM             126               -141\n",
      "2017-07-16       1          1  OAK     CLE             102               -112\n",
      "2017-07-17       1          1  MIN     NYY             107               -117\n",
      "2017-07-19       1          1  CIN     ARI             131               -146\n",
      "2017-07-19       1          1  MIN     NYY             102               -112\n",
      "2017-07-19       1          1  KAN     DET             106               -116\n",
      "2017-07-20       1          1  BAL     TEX             106               -116\n",
      "2017-07-21       1          1  ARI     WAS             126               -141\n",
      "2017-07-22       1          1  LAA     BOS             122               -137\n",
      "2017-07-22       1          1  SEA     NYY             116               -131\n",
      "2017-07-25       1          1  TOR     OAK             109               -119\n",
      "2017-07-25       1          1  SEA     BOS             109               -119\n",
      "2017-07-27       1          1  SDG     NYM             101               -111\n",
      "2017-07-28       1          1  PHI     ATL             111               -126\n",
      "2017-07-28       1          1  MIA     CIN             109               -119\n",
      "2017-07-28       1          1  MIL     CUB             121               -136\n",
      "2017-07-30       1          1  DET     HOU             116               -131\n",
      "2017-07-30       1          1  CWS     CLE             170               -190\n",
      "2017-07-31       1          1  BAL     KAN             114               -129\n",
      "2017-07-31       1          1  BOS     CLE             120               -135\n",
      "2017-08-01       1          1  MIA     WAS             175               -200\n",
      "2017-08-02       1          1  MIA     WAS             110               -125\n",
      "2017-08-03       1          1  MIL     STL             111               -121\n",
      "2017-08-04       1          1  MIN     TEX             110               -120\n",
      "...            ...        ...  ...     ...             ...                ...\n",
      "2017-09-18       0          1  PIT     MIL             105               -115\n",
      "2017-09-19       0          1  DET     OAK             111               -121\n",
      "2017-09-19       0          1  LAA     CLE             112               -127\n",
      "2017-09-20       0          1  SDG     ARI             138               -153\n",
      "2017-09-21       0          1  PHI     LOS             190               -215\n",
      "2017-09-21       0          1  MIL     CUB             116               -131\n",
      "2017-09-21       0          1  DET     MIN             130               -145\n",
      "2017-09-22       0          1  SDG     COL             145               -165\n",
      "2017-09-22       0          1  CIN     BOS             130               -145\n",
      "2017-09-23       0          1  LOS     SFO             101               -111\n",
      "2017-09-23       0          1  TOR     NYY             155               -175\n",
      "2017-09-23       0          1  SEA     CLE             175               -200\n",
      "2017-09-23       0          1  CWS     KAN             151               -171\n",
      "2017-09-23       0          1  CIN     BOS             125               -140\n",
      "2017-09-24       0          1  NYM     WAS             155               -175\n",
      "2017-09-24       0          1  SDG     COL             120               -135\n",
      "2017-09-24       0          1  SEA     CLE             195               -220\n",
      "2017-09-24       0          1  CIN     BOS             125               -140\n",
      "2017-09-25       0          1  TEX     HOU             114               -129\n",
      "2017-09-25       0          1  OAK     SEA             111               -126\n",
      "2017-09-26       0          1  CWS     LAA             145               -165\n",
      "2017-09-26       0          1  OAK     SEA             111               -121\n",
      "2017-09-27       0          1  TEX     HOU             170               -190\n",
      "2017-09-28       0          1  TEX     OAK             105               -115\n",
      "2017-09-29       0          1  STL     MIL             123               -138\n",
      "2017-09-29       0          1  BOS     HOU             102               -112\n",
      "2017-09-30       0          1  SFO     SDG             100               -110\n",
      "2017-09-30       0          1  PHI     NYM             130               -145\n",
      "2017-09-30       0          1  COL     LOS             165               -185\n",
      "2017-10-01       0          1  COL     LOS             120               -135\n",
      "\n",
      "[213 rows x 6 columns]\n",
      "            Actual  Predicted Home Visitor  Home_Open_Odds  Visitor_Open_Odds\n",
      "Date                                                                         \n",
      "2017-07-07       0          0  PHI     SDG            -140                125\n",
      "2017-07-07       0          0  NYY     MIL            -190                170\n",
      "2017-07-08       0          0  PHI     SDG            -131                116\n",
      "2017-07-08       0          0  SFO     MIA            -155                140\n",
      "2017-07-09       0          0  CUB     PIT            -176                156\n",
      "2017-07-09       0          0  TOR     HOU            -128                113\n",
      "2017-07-09       0          0  NYY     MIL            -146                131\n",
      "2017-07-14       0          0  DET     TOR            -123                113\n",
      "2017-07-14       0          0  KAN     TEX            -126                111\n",
      "2017-07-15       0          0  HOU     MIN            -155                140\n",
      "2017-07-16       0          0  NYM     COL            -134                119\n",
      "2017-07-16       0          0  MIL     PHI            -164                144\n",
      "2017-07-16       0          0  BOS     NYY            -150                135\n",
      "2017-07-17       0          0  BOS     TOR            -130                115\n",
      "2017-07-17       0          0  HOU     SEA            -195                175\n",
      "2017-07-18       0          0  KAN     DET            -116                106\n",
      "2017-07-19       0          0  HOU     SEA            -126                111\n",
      "2017-07-20       0          0  LOS     ATL            -220                195\n",
      "2017-07-20       0          0  SFO     SDG            -205                180\n",
      "2017-07-20       0          0  BOS     TOR            -127                112\n",
      "2017-07-21       0          0  COL     PIT            -150                135\n",
      "2017-07-21       0          0  LOS     ATL            -285                250\n",
      "2017-07-22       0          0  TAM     TEX            -200                175\n",
      "2017-07-23       0          0  SEA     NYY            -117                107\n",
      "2017-07-24       0          0  TAM     BAL            -127                112\n",
      "2017-07-24       0          0  CUB     CWS            -240                210\n",
      "2017-07-24       0          0  TEX     MIA            -155                140\n",
      "2017-07-25       0          0  WAS     MIL            -124                114\n",
      "2017-07-25       0          0  ARI     ATL            -140                125\n",
      "2017-07-27       0          0  STL     ARI            -115                105\n",
      "...            ...        ...  ...     ...             ...                ...\n",
      "2017-09-21       1          0  BAL     TAM            -123                113\n",
      "2017-09-22       1          0  NYM     WAS            -140                125\n",
      "2017-09-22       1          0  ATL     PHI            -121                111\n",
      "2017-09-22       1          0  OAK     TEX            -129                114\n",
      "2017-09-23       1          0  HOU     LAA            -165                145\n",
      "2017-09-24       1          0  TOR     NYY            -150                135\n",
      "2017-09-25       1          0  NYM     ATL            -131                116\n",
      "2017-09-25       1          0  LOS     SDG            -270                235\n",
      "2017-09-25       1          0  NYY     KAN            -170                150\n",
      "2017-09-26       1          0  COL     MIA            -155                140\n",
      "2017-09-27       1          0  ARI     SFO            -150                135\n",
      "2017-09-27       1          0  NYM     ATL            -116                106\n",
      "2017-09-27       1          0  LOS     SDG            -205                180\n",
      "2017-09-27       1          0  OAK     SEA            -121                111\n",
      "2017-09-27       1          0  NYY     TAM            -270                235\n",
      "2017-09-27       1          0  CLE     MIN            -165                145\n",
      "2017-09-28       1          0  MIL     CIN            -165                145\n",
      "2017-09-28       1          0  WAS     PIT            -150                135\n",
      "2017-09-29       1          0  CUB     CIN            -185                165\n",
      "2017-09-29       1          0  WAS     PIT            -190                170\n",
      "2017-09-29       1          0  SFO     SDG            -135                120\n",
      "2017-09-29       1          0  NYY     TOR            -235                205\n",
      "2017-09-29       1          0  MIN     DET            -175                155\n",
      "2017-09-29       1          0  LAA     SEA            -165                145\n",
      "2017-09-30       1          0  CUB     CIN            -215                190\n",
      "2017-09-30       1          0  STL     MIL            -150                135\n",
      "2017-09-30       1          0  MIA     ATL            -123                113\n",
      "2017-09-30       1          0  NYY     TOR            -165                145\n",
      "2017-10-01       1          0  TAM     BAL            -121                111\n",
      "2017-10-01       1          0  CLE     CWS            -195                175\n",
      "\n",
      "[340 rows x 6 columns]\n"
     ]
    }
   ],
   "source": [
    "# Convert open odds to integers\n",
    "df['Home_Open_Odds'] = df['Home_Open_Odds'].astype(int)\n",
    "df['Visitor_Open_Odds'] = df['Visitor_Open_Odds'].astype(int)\n",
    "\n",
    "# Pull in predicted win and predicted loss\n",
    "home_win = df[df['Predicted'] == 1]\n",
    "home_loss = df[df['Predicted'] == 0]\n",
    "\n",
    "# Grab instances where the predicted winner is the favorite to win\n",
    "home_win_fav = home_win[home_win['Home_Open_Odds'] < 0]\n",
    "home_loss_fav = home_loss[home_loss['Visitor_Open_Odds'] < 0]\n",
    "\n",
    "# Grab instances where the predicted winner is the underdog\n",
    "home_win_dog = home_win[home_win['Home_Open_Odds'] > 0]\n",
    "home_loss_dog = home_loss[home_loss['Visitor_Open_Odds'] > 0]\n",
    "\n",
    "# Grab instances where the favs were the actual winners and predicted winners\n",
    "home_win_fav_true = home_win_fav[home_win_fav['Actual'] == 1]\n",
    "home_win_fav_true['Home_Open_Odds'] = ((10000)/abs(home_win_fav_true['Home_Open_Odds']))\n",
    "home_loss_fav_true = home_loss_fav[home_loss_fav['Actual'] == 1]\n",
    "home_loss_fav_true['Visitor_Open_Odds'] = ((10000)/abs(home_loss_fav_true['Visitor_Open_Odds']))\n",
    "\n",
    "# Grab instances where the dogs were winners and predicted winners\n",
    "home_win_dog_true = home_win_dog[home_win_dog['Actual']==1]\n",
    "home_loss_dog_true = home_loss_dog[home_loss_dog['Actual']==0]\n",
    "\n",
    "# Grab instances where the dogs were losers, but predicted winners\n",
    "home_win_dog_false = home_win_dog[home_win_dog['Actual']==0]\n",
    "home_loss_dog_false = home_loss_dog[home_loss_dog['Actual']==1]\n",
    "\n",
    "# Grab instances where the favs were predicted winners but lost\n",
    "home_win_fav_false = home_win_fav[home_win_fav['Actual'] == 0]\n",
    "home_win_fav_false['Home_Open_Odds'] = -100\n",
    "home_loss_fav_false = home_loss_fav[home_loss_fav['Actual'] == 1]\n",
    "home_loss_fav_false['Visitor_Open_Odds'] = -100\n",
    "\n",
    "# Concatinate the dataframes\n",
    "bet_results_fav_win = pd.concat([home_win_fav_false, home_win_fav_true]) # Home Open Odds\n",
    "print(bet_results_fav_win)\n",
    "bet_results_fav_loss = pd.concat([home_loss_fav_false, home_loss_fav_true]) # Visitor Open Odds\n",
    "print(bet_results_fav_loss)\n",
    "bet_results_dog_win = pd.concat([home_win_dog_true, home_win_dog_false]) # Home Open Odds\n",
    "print(bet_results_dog_win)\n",
    "bet_results_dog_loss = pd.concat([home_loss_dog_true, home_loss_dog_false]) # Visitor Open Odds\n",
    "print(bet_results_dog_loss)\n",
    "\n",
    "# Sum up final wins/loss money lines\n",
    "fav_win_sum = bet_results_fav_win['Home_Open_Odds'].sum()\n",
    "fav_loss_sum = bet_results_fav_loss['Visitor_Open_Odds'].sum()\n",
    "dog_win_sum = bet_results_dog_win['Home_Open_Odds'].sum()\n",
    "dog_loss_sum = bet_results_dog_loss['Visitor_Open_Odds'].sum()\n",
    "final_sum = fav_win_sum + fav_loss_sum + dog_win_sum + dog_loss_sum"
   ]
  },
  {
   "cell_type": "code",
   "execution_count": 335,
   "metadata": {},
   "outputs": [],
   "source": [
    "home_win['Home_Open_Odds'] = home_win['Home_Open_Odds'].astype(int)"
   ]
  },
  {
   "cell_type": "code",
   "execution_count": 343,
   "metadata": {},
   "outputs": [],
   "source": [
    "home_win_dog_pred = home_win[home_win['Home_Open_Odds'] > 0]"
   ]
  },
  {
   "cell_type": "code",
   "execution_count": 356,
   "metadata": {},
   "outputs": [],
   "source": [
    "home_win_dog = home_win[home_win['Predicted'] == 1]"
   ]
  },
  {
   "cell_type": "code",
   "execution_count": 357,
   "metadata": {},
   "outputs": [],
   "source": [
    "home_win_dog_pred_win = home_win_dog_pred[home_win_dog_pred['Actual'] == 0]"
   ]
  },
  {
   "cell_type": "code",
   "execution_count": 358,
   "metadata": {},
   "outputs": [
    {
     "data": {
      "text/html": [
       "<div>\n",
       "<style scoped>\n",
       "    .dataframe tbody tr th:only-of-type {\n",
       "        vertical-align: middle;\n",
       "    }\n",
       "\n",
       "    .dataframe tbody tr th {\n",
       "        vertical-align: top;\n",
       "    }\n",
       "\n",
       "    .dataframe thead th {\n",
       "        text-align: right;\n",
       "    }\n",
       "</style>\n",
       "<table border=\"1\" class=\"dataframe\">\n",
       "  <thead>\n",
       "    <tr style=\"text-align: right;\">\n",
       "      <th></th>\n",
       "      <th>Actual</th>\n",
       "      <th>Predicted</th>\n",
       "      <th>Home</th>\n",
       "      <th>Visitor</th>\n",
       "      <th>Home_Open_Odds</th>\n",
       "      <th>Visitor_Open_Odds</th>\n",
       "    </tr>\n",
       "    <tr>\n",
       "      <th>Date</th>\n",
       "      <th></th>\n",
       "      <th></th>\n",
       "      <th></th>\n",
       "      <th></th>\n",
       "      <th></th>\n",
       "      <th></th>\n",
       "    </tr>\n",
       "  </thead>\n",
       "  <tbody>\n",
       "    <tr>\n",
       "      <th>2019-06-26</th>\n",
       "      <td>0</td>\n",
       "      <td>1</td>\n",
       "      <td>SFO</td>\n",
       "      <td>COL</td>\n",
       "      <td>115</td>\n",
       "      <td>-135</td>\n",
       "    </tr>\n",
       "    <tr>\n",
       "      <th>2019-06-26</th>\n",
       "      <td>0</td>\n",
       "      <td>1</td>\n",
       "      <td>MIA</td>\n",
       "      <td>WAS</td>\n",
       "      <td>160</td>\n",
       "      <td>-185</td>\n",
       "    </tr>\n",
       "    <tr>\n",
       "      <th>2019-06-26</th>\n",
       "      <td>0</td>\n",
       "      <td>1</td>\n",
       "      <td>DET</td>\n",
       "      <td>TEX</td>\n",
       "      <td>115</td>\n",
       "      <td>-135</td>\n",
       "    </tr>\n",
       "    <tr>\n",
       "      <th>2019-06-26</th>\n",
       "      <td>0</td>\n",
       "      <td>1</td>\n",
       "      <td>BAL</td>\n",
       "      <td>SDG</td>\n",
       "      <td>130</td>\n",
       "      <td>-150</td>\n",
       "    </tr>\n",
       "    <tr>\n",
       "      <th>2019-06-27</th>\n",
       "      <td>0</td>\n",
       "      <td>1</td>\n",
       "      <td>COL</td>\n",
       "      <td>LOS</td>\n",
       "      <td>151</td>\n",
       "      <td>-175</td>\n",
       "    </tr>\n",
       "  </tbody>\n",
       "</table>\n",
       "</div>"
      ],
      "text/plain": [
       "            Actual  Predicted Home Visitor  Home_Open_Odds Visitor_Open_Odds\n",
       "Date                                                                        \n",
       "2019-06-26       0          1  SFO     COL             115              -135\n",
       "2019-06-26       0          1  MIA     WAS             160              -185\n",
       "2019-06-26       0          1  DET     TEX             115              -135\n",
       "2019-06-26       0          1  BAL     SDG             130              -150\n",
       "2019-06-27       0          1  COL     LOS             151              -175"
      ]
     },
     "execution_count": 358,
     "metadata": {},
     "output_type": "execute_result"
    }
   ],
   "source": [
    "home_win_dog_pred_loss.head()"
   ]
  },
  {
   "cell_type": "code",
   "execution_count": 378,
   "metadata": {},
   "outputs": [
    {
     "data": {
      "text/html": [
       "<div>\n",
       "<style scoped>\n",
       "    .dataframe tbody tr th:only-of-type {\n",
       "        vertical-align: middle;\n",
       "    }\n",
       "\n",
       "    .dataframe tbody tr th {\n",
       "        vertical-align: top;\n",
       "    }\n",
       "\n",
       "    .dataframe thead th {\n",
       "        text-align: right;\n",
       "    }\n",
       "</style>\n",
       "<table border=\"1\" class=\"dataframe\">\n",
       "  <thead>\n",
       "    <tr style=\"text-align: right;\">\n",
       "      <th></th>\n",
       "      <th>Actual</th>\n",
       "      <th>Predicted</th>\n",
       "      <th>Home</th>\n",
       "      <th>Visitor</th>\n",
       "      <th>Home_Open_Odds</th>\n",
       "      <th>Visitor_Open_Odds</th>\n",
       "    </tr>\n",
       "    <tr>\n",
       "      <th>Date</th>\n",
       "      <th></th>\n",
       "      <th></th>\n",
       "      <th></th>\n",
       "      <th></th>\n",
       "      <th></th>\n",
       "      <th></th>\n",
       "    </tr>\n",
       "  </thead>\n",
       "  <tbody>\n",
       "    <tr>\n",
       "      <th>2019-06-25</th>\n",
       "      <td>1</td>\n",
       "      <td>1</td>\n",
       "      <td>LAA</td>\n",
       "      <td>CIN</td>\n",
       "      <td>-150</td>\n",
       "      <td>130</td>\n",
       "    </tr>\n",
       "    <tr>\n",
       "      <th>2019-06-26</th>\n",
       "      <td>1</td>\n",
       "      <td>1</td>\n",
       "      <td>PHI</td>\n",
       "      <td>NYM</td>\n",
       "      <td>-130</td>\n",
       "      <td>110</td>\n",
       "    </tr>\n",
       "    <tr>\n",
       "      <th>2019-06-26</th>\n",
       "      <td>0</td>\n",
       "      <td>1</td>\n",
       "      <td>CUB</td>\n",
       "      <td>ATL</td>\n",
       "      <td>-125</td>\n",
       "      <td>105</td>\n",
       "    </tr>\n",
       "    <tr>\n",
       "      <th>2019-06-26</th>\n",
       "      <td>1</td>\n",
       "      <td>1</td>\n",
       "      <td>NYY</td>\n",
       "      <td>TOR</td>\n",
       "      <td>-265</td>\n",
       "      <td>218</td>\n",
       "    </tr>\n",
       "    <tr>\n",
       "      <th>2019-06-26</th>\n",
       "      <td>1</td>\n",
       "      <td>1</td>\n",
       "      <td>CLE</td>\n",
       "      <td>KAN</td>\n",
       "      <td>-205</td>\n",
       "      <td>172</td>\n",
       "    </tr>\n",
       "  </tbody>\n",
       "</table>\n",
       "</div>"
      ],
      "text/plain": [
       "            Actual  Predicted Home Visitor  Home_Open_Odds Visitor_Open_Odds\n",
       "Date                                                                        \n",
       "2019-06-25       1          1  LAA     CIN            -150               130\n",
       "2019-06-26       1          1  PHI     NYM            -130               110\n",
       "2019-06-26       0          1  CUB     ATL            -125               105\n",
       "2019-06-26       1          1  NYY     TOR            -265               218\n",
       "2019-06-26       1          1  CLE     KAN            -205               172"
      ]
     },
     "execution_count": 378,
     "metadata": {},
     "output_type": "execute_result"
    }
   ],
   "source": [
    "home_win_fav = home_win_dog[home_win_dog['Home_Open_Odds'] < 0]\n",
    "home_win_fav.head()"
   ]
  },
  {
   "cell_type": "code",
   "execution_count": 385,
   "metadata": {},
   "outputs": [],
   "source": [
    "home_win_fav_true = home_win_fav[home_win_fav['Actual'] == 1]\n",
    "home_win_fav_true['Home_Open_Odds'] = ((10000)/abs(home_win_fav_true['Home_Open_Odds']))"
   ]
  },
  {
   "cell_type": "code",
   "execution_count": 419,
   "metadata": {},
   "outputs": [
    {
     "data": {
      "text/html": [
       "<div>\n",
       "<style scoped>\n",
       "    .dataframe tbody tr th:only-of-type {\n",
       "        vertical-align: middle;\n",
       "    }\n",
       "\n",
       "    .dataframe tbody tr th {\n",
       "        vertical-align: top;\n",
       "    }\n",
       "\n",
       "    .dataframe thead th {\n",
       "        text-align: right;\n",
       "    }\n",
       "</style>\n",
       "<table border=\"1\" class=\"dataframe\">\n",
       "  <thead>\n",
       "    <tr style=\"text-align: right;\">\n",
       "      <th></th>\n",
       "      <th>Actual</th>\n",
       "      <th>Predicted</th>\n",
       "      <th>Home</th>\n",
       "      <th>Visitor</th>\n",
       "      <th>Home_Open_Odds</th>\n",
       "      <th>Visitor_Open_Odds</th>\n",
       "    </tr>\n",
       "    <tr>\n",
       "      <th>Date</th>\n",
       "      <th></th>\n",
       "      <th></th>\n",
       "      <th></th>\n",
       "      <th></th>\n",
       "      <th></th>\n",
       "      <th></th>\n",
       "    </tr>\n",
       "  </thead>\n",
       "  <tbody>\n",
       "    <tr>\n",
       "      <th>2019-06-25</th>\n",
       "      <td>1</td>\n",
       "      <td>1</td>\n",
       "      <td>LAA</td>\n",
       "      <td>CIN</td>\n",
       "      <td>66.666667</td>\n",
       "      <td>130</td>\n",
       "    </tr>\n",
       "    <tr>\n",
       "      <th>2019-06-26</th>\n",
       "      <td>1</td>\n",
       "      <td>1</td>\n",
       "      <td>PHI</td>\n",
       "      <td>NYM</td>\n",
       "      <td>76.923077</td>\n",
       "      <td>110</td>\n",
       "    </tr>\n",
       "    <tr>\n",
       "      <th>2019-06-26</th>\n",
       "      <td>1</td>\n",
       "      <td>1</td>\n",
       "      <td>NYY</td>\n",
       "      <td>TOR</td>\n",
       "      <td>37.735849</td>\n",
       "      <td>218</td>\n",
       "    </tr>\n",
       "    <tr>\n",
       "      <th>2019-06-26</th>\n",
       "      <td>1</td>\n",
       "      <td>1</td>\n",
       "      <td>CLE</td>\n",
       "      <td>KAN</td>\n",
       "      <td>48.780488</td>\n",
       "      <td>172</td>\n",
       "    </tr>\n",
       "    <tr>\n",
       "      <th>2019-06-27</th>\n",
       "      <td>1</td>\n",
       "      <td>1</td>\n",
       "      <td>PHI</td>\n",
       "      <td>NYM</td>\n",
       "      <td>71.428571</td>\n",
       "      <td>120</td>\n",
       "    </tr>\n",
       "  </tbody>\n",
       "</table>\n",
       "</div>"
      ],
      "text/plain": [
       "            Actual  Predicted Home Visitor  Home_Open_Odds Visitor_Open_Odds\n",
       "Date                                                                        \n",
       "2019-06-25       1          1  LAA     CIN       66.666667               130\n",
       "2019-06-26       1          1  PHI     NYM       76.923077               110\n",
       "2019-06-26       1          1  NYY     TOR       37.735849               218\n",
       "2019-06-26       1          1  CLE     KAN       48.780488               172\n",
       "2019-06-27       1          1  PHI     NYM       71.428571               120"
      ]
     },
     "execution_count": 419,
     "metadata": {},
     "output_type": "execute_result"
    }
   ],
   "source": [
    "home_win_fav_true.head()"
   ]
  },
  {
   "cell_type": "code",
   "execution_count": 386,
   "metadata": {},
   "outputs": [],
   "source": [
    "home_win_fav_false = home_win_fav[home_win_fav['Actual'] == 0]\n",
    "home_win_fav_false.head()\n",
    "home_win_fav_false['Home_Open_Odds'] = -100"
   ]
  },
  {
   "cell_type": "code",
   "execution_count": 389,
   "metadata": {},
   "outputs": [],
   "source": [
    "bet_results_fav = pd.concat([home_win_fav_false, home_win_fav_true])"
   ]
  },
  {
   "cell_type": "code",
   "execution_count": 420,
   "metadata": {},
   "outputs": [
    {
     "data": {
      "text/html": [
       "<div>\n",
       "<style scoped>\n",
       "    .dataframe tbody tr th:only-of-type {\n",
       "        vertical-align: middle;\n",
       "    }\n",
       "\n",
       "    .dataframe tbody tr th {\n",
       "        vertical-align: top;\n",
       "    }\n",
       "\n",
       "    .dataframe thead th {\n",
       "        text-align: right;\n",
       "    }\n",
       "</style>\n",
       "<table border=\"1\" class=\"dataframe\">\n",
       "  <thead>\n",
       "    <tr style=\"text-align: right;\">\n",
       "      <th></th>\n",
       "      <th>Actual</th>\n",
       "      <th>Predicted</th>\n",
       "      <th>Home</th>\n",
       "      <th>Visitor</th>\n",
       "      <th>Home_Open_Odds</th>\n",
       "      <th>Visitor_Open_Odds</th>\n",
       "    </tr>\n",
       "    <tr>\n",
       "      <th>Date</th>\n",
       "      <th></th>\n",
       "      <th></th>\n",
       "      <th></th>\n",
       "      <th></th>\n",
       "      <th></th>\n",
       "      <th></th>\n",
       "    </tr>\n",
       "  </thead>\n",
       "  <tbody>\n",
       "    <tr>\n",
       "      <th>2019-09-26</th>\n",
       "      <td>1</td>\n",
       "      <td>1</td>\n",
       "      <td>TEX</td>\n",
       "      <td>BOS</td>\n",
       "      <td>95.238095</td>\n",
       "      <td>-105</td>\n",
       "    </tr>\n",
       "    <tr>\n",
       "      <th>2019-09-27</th>\n",
       "      <td>1</td>\n",
       "      <td>1</td>\n",
       "      <td>PHI</td>\n",
       "      <td>MIA</td>\n",
       "      <td>55.555556</td>\n",
       "      <td>155</td>\n",
       "    </tr>\n",
       "    <tr>\n",
       "      <th>2019-09-27</th>\n",
       "      <td>1</td>\n",
       "      <td>1</td>\n",
       "      <td>NYM</td>\n",
       "      <td>ATL</td>\n",
       "      <td>84.033613</td>\n",
       "      <td>-101</td>\n",
       "    </tr>\n",
       "    <tr>\n",
       "      <th>2019-09-28</th>\n",
       "      <td>1</td>\n",
       "      <td>1</td>\n",
       "      <td>WAS</td>\n",
       "      <td>CLE</td>\n",
       "      <td>50.000000</td>\n",
       "      <td>170</td>\n",
       "    </tr>\n",
       "    <tr>\n",
       "      <th>2019-09-29</th>\n",
       "      <td>1</td>\n",
       "      <td>1</td>\n",
       "      <td>STL</td>\n",
       "      <td>CUB</td>\n",
       "      <td>35.714286</td>\n",
       "      <td>230</td>\n",
       "    </tr>\n",
       "  </tbody>\n",
       "</table>\n",
       "</div>"
      ],
      "text/plain": [
       "            Actual  Predicted Home Visitor  Home_Open_Odds Visitor_Open_Odds\n",
       "Date                                                                        \n",
       "2019-09-26       1          1  TEX     BOS       95.238095              -105\n",
       "2019-09-27       1          1  PHI     MIA       55.555556               155\n",
       "2019-09-27       1          1  NYM     ATL       84.033613              -101\n",
       "2019-09-28       1          1  WAS     CLE       50.000000               170\n",
       "2019-09-29       1          1  STL     CUB       35.714286               230"
      ]
     },
     "execution_count": 420,
     "metadata": {},
     "output_type": "execute_result"
    }
   ],
   "source": [
    "bet_results_fav.tail()"
   ]
  },
  {
   "cell_type": "code",
   "execution_count": 421,
   "metadata": {},
   "outputs": [
    {
     "data": {
      "text/plain": [
       "-766.0513122555149"
      ]
     },
     "execution_count": 421,
     "metadata": {},
     "output_type": "execute_result"
    }
   ],
   "source": [
    "bet_results_fav['Home_Open_Odds'].sum()"
   ]
  },
  {
   "cell_type": "code",
   "execution_count": 422,
   "metadata": {},
   "outputs": [],
   "source": [
    "home_win_dog = home_win_dog[home_win_dog['Home_Open_Odds'] > 0]"
   ]
  },
  {
   "cell_type": "code",
   "execution_count": 423,
   "metadata": {},
   "outputs": [],
   "source": [
    "home_win_dog_true = home_win_dog[home_win_dog['Actual']==1]\n",
    "home_win_dog_false = home_win_dog[home_win_dog['Actual']==0]"
   ]
  },
  {
   "cell_type": "code",
   "execution_count": 424,
   "metadata": {},
   "outputs": [],
   "source": [
    "home_win_dog_true['Home_Open_Odds'] = home_win_dog_true['Home_Open_Odds']\n",
    "home_win_dog_false['Home_Open_Odds'] = -100"
   ]
  },
  {
   "cell_type": "code",
   "execution_count": 425,
   "metadata": {},
   "outputs": [
    {
     "data": {
      "text/plain": [
       "-1389"
      ]
     },
     "execution_count": 425,
     "metadata": {},
     "output_type": "execute_result"
    }
   ],
   "source": [
    "home_win_dog_true['Home_Open_Odds'].sum() + home_win_dog_false['Home_Open_Odds'].sum()"
   ]
  },
  {
   "cell_type": "code",
   "execution_count": 426,
   "metadata": {},
   "outputs": [],
   "source": [
    "bet_results_dog = pd.concat([home_win_dog_true, home_win_dog_false])"
   ]
  },
  {
   "cell_type": "code",
   "execution_count": 427,
   "metadata": {},
   "outputs": [],
   "source": [
    "bet_results_total_100 = pd.concat([bet_results_dog,bet_results_fav])"
   ]
  },
  {
   "cell_type": "code",
   "execution_count": 428,
   "metadata": {},
   "outputs": [
    {
     "data": {
      "text/plain": [
       "-2155.051312255513"
      ]
     },
     "execution_count": 428,
     "metadata": {},
     "output_type": "execute_result"
    }
   ],
   "source": [
    "bet_results_total_100['Home_Open_Odds'].sum()"
   ]
  },
  {
   "cell_type": "code",
   "execution_count": null,
   "metadata": {},
   "outputs": [],
   "source": []
  }
 ],
 "metadata": {
  "kernelspec": {
   "display_name": "Python 3",
   "language": "python",
   "name": "python3"
  },
  "language_info": {
   "codemirror_mode": {
    "name": "ipython",
    "version": 3
   },
   "file_extension": ".py",
   "mimetype": "text/x-python",
   "name": "python",
   "nbconvert_exporter": "python",
   "pygments_lexer": "ipython3",
   "version": "3.7.3"
  }
 },
 "nbformat": 4,
 "nbformat_minor": 4
}
