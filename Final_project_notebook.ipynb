{
 "cells": [
  {
   "cell_type": "markdown",
   "metadata": {},
   "source": [
    "# Baseball Game Predictor and Gambling Program\n",
    "----------------------------------------------"
   ]
  },
  {
   "cell_type": "markdown",
   "metadata": {},
   "source": [
    "This notebook will go through the entire process of pulling data, cleaning data, feature engineering, and machine learning model creation \n",
    "to predict games and ultimately show the results of a betting strategy based upon the model's predictions."
   ]
  },
  {
   "cell_type": "markdown",
   "metadata": {},
   "source": [
    "## Pulling Data from PyBaseball's API\n",
    "--------------------------------"
   ]
  },
  {
   "cell_type": "markdown",
   "metadata": {},
   "source": [
    "The initial raw data will be pulled from PyBaseball.  Two functions are being used that pull our batting and hitting statistics. The is a little light\n",
    "cleaning of the initial raw data to drop unneeded columns and format to a datetime index.  These function are located in the libs folder inside \n",
    "the PyBaseball_data_pull_and_cleaning.py file. After pulling and cleaning data the csv files were saved in the Data folder.  DO NOT RUN THESE\n",
    "CELLS.  The data has already been saved.  The process of pulling this data takes a considerable amount of time."
   ]
  },
  {
   "cell_type": "code",
   "execution_count": null,
   "metadata": {},
   "outputs": [],
   "source": [
    "# import functions from Libs\n",
    "from Libs.PyBaseball_data_pull_and_cleaning import get_batting_data, get_pitching_data, clean_batting_data, clean_pitching_data\n",
    "import pandas as pd"
   ]
  },
  {
   "cell_type": "code",
   "execution_count": null,
   "metadata": {},
   "outputs": [],
   "source": [
    "# Pull batting and pitching data for 2016, 2017, 2018, and 2019 \n",
    "batting_data_2016 = get_batting_data('2016-04-03', '2016-10-02')\n",
    "batting_data_2017 = get_batting_data('2017-04-02', '2017-10-01')\n",
    "batting_data_2018 = get_batting_data('2018-03-29', '2018-10-01')\n",
    "batting_data_2019 = get_batting_data('2019-03-28', '2019-09-29')\n",
    "\n",
    "pitching_data_2016 = get_pitching_data('2016-04-03','2016-10-02')\n",
    "pitching_data_2017 = get_pitching_data('2017-04-02', '2017-10-01')\n",
    "pitching_data_2018 = get_pitching_data('2018-03-29', '2018-10-01')\n",
    "pitching_data_2019 = get_pitching_data('2019-03-28', '2019-09-29')\n"
   ]
  },
  {
   "cell_type": "code",
   "execution_count": null,
   "metadata": {},
   "outputs": [],
   "source": [
    "# Example of raw batting_data.  These cells can be run.\n",
    "raw_hitting_data = pd.read_csv('./Data/Batting/Raw_Data/raw_batting_data_2017.csv')\n",
    "raw_hitting_data"
   ]
  },
  {
   "cell_type": "code",
   "execution_count": null,
   "metadata": {},
   "outputs": [],
   "source": [
    "# Example of raw pitching data\n",
    "raw_pitching_data = pd.read_csv('./Data/Pitching/Raw_Data/raw_pitching_data_2017.csv')\n",
    "raw_pitching_data.head()"
   ]
  },
  {
   "cell_type": "code",
   "execution_count": null,
   "metadata": {},
   "outputs": [],
   "source": [
    "# Initial light cleaning of pulled data \n",
    "batting_data_clean_2016 = clean_batting_data(batting_data_2016)\n",
    "batting_data_clean_2017 = clean_batting_data(batting_data_2017)\n",
    "batting_data_clean_2018 = clean_batting_data(batting_data_2018)\n",
    "batting_data_clean_2019 = clean_batting_data(batting_data_2019)\n",
    "pitching_data_clean_2016 = clean_pitching_data(pitching_data_2016)\n",
    "pitching_data_clean_2017 = clean_pitching_data(pitching_data_2017)\n",
    "pitching_data_clean_2018 = clean_pitching_data(pitching_data_2018)\n",
    "pitching_data_clean_2019 = clean_pitching_data(pitching_data_2019)\n"
   ]
  },
  {
   "cell_type": "code",
   "execution_count": null,
   "metadata": {},
   "outputs": [],
   "source": [
    "# Example of clean batting_data \n",
    "clean_hitting_data = pd.read_csv('./Data/Batting/Clean_Data/clean_batting_data_2017.csv', parse_dates = True, index_col = 'Date', infer_datetime_format = True)\n",
    "clean_hitting_data.head()"
   ]
  },
  {
   "cell_type": "code",
   "execution_count": null,
   "metadata": {},
   "outputs": [],
   "source": [
    "# Example of clean pitching_data\n",
    "clean_pitching_data = pd.read_csv('./Data/Pitching/Clean_Data/clean_pitching_data_2017.csv', parse_dates = True, index_col = 'Date', infer_datetime_format = True)\n",
    "clean_pitching_data.head()"
   ]
  },
  {
   "cell_type": "markdown",
   "metadata": {},
   "source": [
    "## Creating DataFrame for Feature Selection\n",
    "---------------------------------------------"
   ]
  },
  {
   "cell_type": "markdown",
   "metadata": {},
   "source": [
    "This section will create a dataframe from our saved batting and pitching csv files and concatenate it with the odds csv\n",
    "files we downloaded to create one dataframe for each season.  The functions used for this process are in the Training_DataFrame_creation.py\n",
    "file. The resulting dataframes have been saved in the Training Data folder.  Many different features were experimented with but ultimately\n",
    "these are the features we settled upon. A look back period of 10 days to calculate stats resulted in the best performing model."
   ]
  },
  {
   "cell_type": "code",
   "execution_count": null,
   "metadata": {},
   "outputs": [],
   "source": [
    "# Import functions for dataframe creation and pandas to read in csv files\n",
    "import pandas as pd\n",
    "from Libs.Training_DataFrame_creation import df_for_feature_selection"
   ]
  },
  {
   "cell_type": "code",
   "execution_count": null,
   "metadata": {},
   "outputs": [],
   "source": [
    "# Read in necessary data files for batting, pitching, and gambling odds\n",
    "batting_data_2016 = pd.read_csv('./Data/Batting/Clean_Data/clean_batting_data_2016.csv', parse_dates = True, index_col = 'Date', infer_datetime_format = True)\n",
    "batting_data_2017 = pd.read_csv('./Data/Batting/Clean_Data/clean_batting_data_2017.csv', parse_dates = True, index_col = 'Date', infer_datetime_format = True)\n",
    "batting_data_2018 = pd.read_csv('./Data/Batting/Clean_Data/clean_batting_data_2018.csv', parse_dates = True, index_col = 'Date', infer_datetime_format = True)\n",
    "batting_data_2019 = pd.read_csv('./Data/Batting/Clean_Data/clean_batting_data_2019.csv', parse_dates = True, index_col = 'Date', infer_datetime_format = True)\n",
    "\n",
    "pitching_data_2016 = pd.read_csv('./Data/Pitching/Clean_Data/clean_pitching_data_2016.csv', parse_dates = True, index_col = 'Date', infer_datetime_format = True)\n",
    "pitching_data_2017 = pd.read_csv('./Data/Pitching/Clean_Data/clean_pitching_data_2017.csv', parse_dates = True, index_col = 'Date', infer_datetime_format = True)\n",
    "pitching_data_2018 = pd.read_csv('./Data/Pitching/Clean_Data/clean_pitching_data_2018.csv', parse_dates = True, index_col = 'Date', infer_datetime_format = True)\n",
    "pitching_data_2019 = pd.read_csv('./Data/Pitching/Clean_Data/clean_pitching_data_2019.csv', parse_dates = True, index_col = 'Date', infer_datetime_format = True)\n",
    "\n",
    "odds_df_2016 = pd.read_csv('./Betting_Odds/Clean_Odds/mlb_odds_2016.csv', parse_dates = True, index_col = 'Date', infer_datetime_format = True)\n",
    "odds_df_2017 = pd.read_csv('./Betting_Odds/Clean_Odds/mlb_odds_2017.csv', parse_dates = True, index_col = 'Date', infer_datetime_format = True)\n",
    "odds_df_2018 = pd.read_csv('./Betting_Odds/Clean_Odds/mlb_odds_2018.csv', parse_dates = True, index_col = 'Date', infer_datetime_format = True)\n",
    "odds_df_2019 = pd.read_csv('./Betting_Odds/Clean_Odds/mlb_odds_2019.csv', parse_dates = True, index_col = 'Date', infer_datetime_format = True)\n"
   ]
  },
  {
   "cell_type": "code",
   "execution_count": null,
   "metadata": {},
   "outputs": [],
   "source": [
    "batting_data_2016.head()"
   ]
  },
  {
   "cell_type": "code",
   "execution_count": null,
   "metadata": {},
   "outputs": [],
   "source": [
    "pitching_data_2016.head()"
   ]
  },
  {
   "cell_type": "code",
   "execution_count": null,
   "metadata": {},
   "outputs": [],
   "source": [
    "odds_df_2016.head()"
   ]
  },
  {
   "cell_type": "code",
   "execution_count": null,
   "metadata": {},
   "outputs": [],
   "source": [
    "#Create training dataframes for each season\n",
    "training_df_2016 = df_for_feature_selection(odds_df_2016, batting_data_2016, pitching_data_2016, look_back = 10)\n",
    "training_df_2017 = df_for_feature_selection(odds_df_2017, batting_data_2017, pitching_data_2017, look_back = 10)\n",
    "training_df_2018 = df_for_feature_selection(odds_df_2018, batting_data_2018, pitching_data_2018, look_back = 10)\n",
    "training_df_2019 = df_for_feature_selection(odds_df_2019, batting_data_2019, pitching_data_2019, look_back = 10)\n"
   ]
  },
  {
   "cell_type": "code",
   "execution_count": null,
   "metadata": {},
   "outputs": [],
   "source": [
    "training_df_2016.head()"
   ]
  },
  {
   "cell_type": "code",
   "execution_count": null,
   "metadata": {},
   "outputs": [],
   "source": [
    "training_df_2017.head()"
   ]
  },
  {
   "cell_type": "code",
   "execution_count": null,
   "metadata": {},
   "outputs": [],
   "source": [
    "training_df_2018"
   ]
  },
  {
   "cell_type": "code",
   "execution_count": null,
   "metadata": {},
   "outputs": [],
   "source": [
    "training_df_2019.head()"
   ]
  },
  {
   "cell_type": "markdown",
   "metadata": {},
   "source": [
    "## Feature Selection and Stat Calculations "
   ]
  },
  {
   "cell_type": "markdown",
   "metadata": {},
   "source": [
    "Now that are dataframes are created for each season, our features are selected and stats are calculated using functions in the Baseball_stats.py\n",
    "file located in Libs."
   ]
  },
  {
   "cell_type": "code",
   "execution_count": null,
   "metadata": {},
   "outputs": [],
   "source": [
    "# import functions from Baseball_stats.py in Libs folder\n",
    "from Libs.Baseball_stats import baseball_stats_calculator_hitting, baseball_stats_calculator_pitching"
   ]
  },
  {
   "cell_type": "code",
   "execution_count": null,
   "metadata": {},
   "outputs": [],
   "source": [
    "# Calculate stats\n",
    "feature_df_hitting_2016 = baseball_stats_calculator_hitting(training_df_2016)\n",
    "final_feature_df_2016 = baseball_stats_calculator_pitching(feature_df_hitting_2016)\n",
    "feature_df_hitting_2017 = baseball_stats_calculator_hitting(training_df_2017)\n",
    "final_feature_df_2017 = baseball_stats_calculator_pitching(feature_df_hitting_2017)\n",
    "feature_df_hitting_2018 = baseball_stats_calculator_hitting(training_df_2018)\n",
    "final_feature_df_2018 = baseball_stats_calculator_pitching(feature_df_hitting_2018)\n",
    "feature_df_hitting_2019 = baseball_stats_calculator_hitting(training_df_2019)\n",
    "final_feature_df_2019 = baseball_stats_calculator_pitching(feature_df_hitting_2019)\n"
   ]
  },
  {
   "cell_type": "code",
   "execution_count": null,
   "metadata": {},
   "outputs": [],
   "source": [
    "final_feature_df_2016.head()"
   ]
  },
  {
   "cell_type": "code",
   "execution_count": null,
   "metadata": {},
   "outputs": [],
   "source": [
    "final_feature_df_2017.head()"
   ]
  },
  {
   "cell_type": "code",
   "execution_count": null,
   "metadata": {},
   "outputs": [],
   "source": [
    "final_feature_df_2018.head()"
   ]
  },
  {
   "cell_type": "code",
   "execution_count": null,
   "metadata": {},
   "outputs": [],
   "source": [
    "final_feature_df_2019.head()"
   ]
  },
  {
   "cell_type": "markdown",
   "metadata": {},
   "source": [
    "## Model creation\n",
    "---------------------"
   ]
  },
  {
   "cell_type": "markdown",
   "metadata": {},
   "source": [
    "We tried many different machine learning models such as SVM, RandomForestClassifier, AdaBoostClassifier, and Neural Networks. The AdaBoostClassifier\n",
    "returned the best model. "
   ]
  },
  {
   "cell_type": "code",
   "execution_count": null,
   "metadata": {},
   "outputs": [],
   "source": [
    "import numpy as np\n",
    "import pandas as pd\n",
    "from sklearn.metrics import balanced_accuracy_score\n",
    "from sklearn.metrics import confusion_matrix\n",
    "from sklearn.ensemble import AdaBoostClassifier\n",
    "from sklearn.svm import SVC\n",
    "from sklearn.preprocessing import StandardScaler\n",
    "from sklearn.ensemble import RandomForestClassifier\n",
    "from sklearn.metrics import confusion_matrix, accuracy_score, classification_report\n",
    "\n",
    "\n"
   ]
  },
  {
   "cell_type": "code",
   "execution_count": 4,
   "metadata": {},
   "outputs": [],
   "source": [
    "baseball_data_2017 = pd.read_csv('./Training_Data/2017_10_day.csv',index_col = 'Date', infer_datetime_format = True, parse_dates = True)\n"
   ]
  },
  {
   "cell_type": "code",
   "execution_count": null,
   "metadata": {},
   "outputs": [],
   "source": [
    "no_lines = baseball_data_2019[baseball_data_2019['home_open_odds'] == 'NL']\n",
    "no_lines.head()"
   ]
  },
  {
   "cell_type": "code",
   "execution_count": 5,
   "metadata": {},
   "outputs": [
    {
     "data": {
      "text/html": [
       "<div>\n",
       "<style scoped>\n",
       "    .dataframe tbody tr th:only-of-type {\n",
       "        vertical-align: middle;\n",
       "    }\n",
       "\n",
       "    .dataframe tbody tr th {\n",
       "        vertical-align: top;\n",
       "    }\n",
       "\n",
       "    .dataframe thead th {\n",
       "        text-align: right;\n",
       "    }\n",
       "</style>\n",
       "<table border=\"1\" class=\"dataframe\">\n",
       "  <thead>\n",
       "    <tr style=\"text-align: right;\">\n",
       "      <th></th>\n",
       "      <th>home</th>\n",
       "      <th>visitor</th>\n",
       "      <th>home_open_odds</th>\n",
       "      <th>visitor_open_odds</th>\n",
       "      <th>home_close_odds</th>\n",
       "      <th>visitor_close_odds</th>\n",
       "      <th>home_win_loss</th>\n",
       "      <th>visitor_win_loss</th>\n",
       "      <th>Home_PitchingK%</th>\n",
       "      <th>Home_PitchingBB%</th>\n",
       "      <th>...</th>\n",
       "      <th>Visitor_PitchingOBP_allowed</th>\n",
       "      <th>Visitor_PitchingSLG%_allowed</th>\n",
       "      <th>Home_HittingK%</th>\n",
       "      <th>Home_HittingBB%</th>\n",
       "      <th>Home_HittingOBP</th>\n",
       "      <th>Home_HittingSLG%</th>\n",
       "      <th>Visitor_HittingK%</th>\n",
       "      <th>Visitor_HittingBB%</th>\n",
       "      <th>Visitor_HittingOBP</th>\n",
       "      <th>Visitor_HittingSLG%</th>\n",
       "    </tr>\n",
       "    <tr>\n",
       "      <th>Date</th>\n",
       "      <th></th>\n",
       "      <th></th>\n",
       "      <th></th>\n",
       "      <th></th>\n",
       "      <th></th>\n",
       "      <th></th>\n",
       "      <th></th>\n",
       "      <th></th>\n",
       "      <th></th>\n",
       "      <th></th>\n",
       "      <th></th>\n",
       "      <th></th>\n",
       "      <th></th>\n",
       "      <th></th>\n",
       "      <th></th>\n",
       "      <th></th>\n",
       "      <th></th>\n",
       "      <th></th>\n",
       "      <th></th>\n",
       "      <th></th>\n",
       "      <th></th>\n",
       "    </tr>\n",
       "  </thead>\n",
       "  <tbody>\n",
       "    <tr>\n",
       "      <td>2017-04-12</td>\n",
       "      <td>COL</td>\n",
       "      <td>SDG</td>\n",
       "      <td>-166</td>\n",
       "      <td>146</td>\n",
       "      <td>-153</td>\n",
       "      <td>138</td>\n",
       "      <td>0</td>\n",
       "      <td>1</td>\n",
       "      <td>0.278287</td>\n",
       "      <td>0.091743</td>\n",
       "      <td>...</td>\n",
       "      <td>0.316923</td>\n",
       "      <td>0.452962</td>\n",
       "      <td>0.225000</td>\n",
       "      <td>0.081250</td>\n",
       "      <td>0.304762</td>\n",
       "      <td>0.440559</td>\n",
       "      <td>0.221875</td>\n",
       "      <td>0.084375</td>\n",
       "      <td>0.282540</td>\n",
       "      <td>0.385159</td>\n",
       "    </tr>\n",
       "    <tr>\n",
       "      <td>2017-04-12</td>\n",
       "      <td>PIT</td>\n",
       "      <td>CIN</td>\n",
       "      <td>-151</td>\n",
       "      <td>136</td>\n",
       "      <td>-147</td>\n",
       "      <td>132</td>\n",
       "      <td>0</td>\n",
       "      <td>1</td>\n",
       "      <td>0.167247</td>\n",
       "      <td>0.080139</td>\n",
       "      <td>...</td>\n",
       "      <td>0.297945</td>\n",
       "      <td>0.304348</td>\n",
       "      <td>0.172161</td>\n",
       "      <td>0.087912</td>\n",
       "      <td>0.307407</td>\n",
       "      <td>0.290456</td>\n",
       "      <td>0.171717</td>\n",
       "      <td>0.067340</td>\n",
       "      <td>0.320819</td>\n",
       "      <td>0.484962</td>\n",
       "    </tr>\n",
       "    <tr>\n",
       "      <td>2017-04-12</td>\n",
       "      <td>PHI</td>\n",
       "      <td>NYM</td>\n",
       "      <td>-111</td>\n",
       "      <td>101</td>\n",
       "      <td>-118</td>\n",
       "      <td>108</td>\n",
       "      <td>0</td>\n",
       "      <td>1</td>\n",
       "      <td>0.229508</td>\n",
       "      <td>0.088525</td>\n",
       "      <td>...</td>\n",
       "      <td>0.303226</td>\n",
       "      <td>0.367491</td>\n",
       "      <td>0.243421</td>\n",
       "      <td>0.105263</td>\n",
       "      <td>0.332237</td>\n",
       "      <td>0.453532</td>\n",
       "      <td>0.214286</td>\n",
       "      <td>0.094156</td>\n",
       "      <td>0.305195</td>\n",
       "      <td>0.449275</td>\n",
       "    </tr>\n",
       "    <tr>\n",
       "      <td>2017-04-12</td>\n",
       "      <td>WAS</td>\n",
       "      <td>STL</td>\n",
       "      <td>-201</td>\n",
       "      <td>176</td>\n",
       "      <td>-180</td>\n",
       "      <td>160</td>\n",
       "      <td>0</td>\n",
       "      <td>1</td>\n",
       "      <td>0.205788</td>\n",
       "      <td>0.067524</td>\n",
       "      <td>...</td>\n",
       "      <td>0.350318</td>\n",
       "      <td>0.464286</td>\n",
       "      <td>0.212025</td>\n",
       "      <td>0.110759</td>\n",
       "      <td>0.385350</td>\n",
       "      <td>0.521739</td>\n",
       "      <td>0.213333</td>\n",
       "      <td>0.103333</td>\n",
       "      <td>0.302013</td>\n",
       "      <td>0.324427</td>\n",
       "    </tr>\n",
       "    <tr>\n",
       "      <td>2017-04-12</td>\n",
       "      <td>MIA</td>\n",
       "      <td>ATL</td>\n",
       "      <td>-126</td>\n",
       "      <td>111</td>\n",
       "      <td>-109</td>\n",
       "      <td>-101</td>\n",
       "      <td>0</td>\n",
       "      <td>1</td>\n",
       "      <td>0.243137</td>\n",
       "      <td>0.086275</td>\n",
       "      <td>...</td>\n",
       "      <td>0.347170</td>\n",
       "      <td>0.396552</td>\n",
       "      <td>0.223443</td>\n",
       "      <td>0.080586</td>\n",
       "      <td>0.344444</td>\n",
       "      <td>0.400826</td>\n",
       "      <td>0.225806</td>\n",
       "      <td>0.060932</td>\n",
       "      <td>0.306859</td>\n",
       "      <td>0.395257</td>\n",
       "    </tr>\n",
       "  </tbody>\n",
       "</table>\n",
       "<p>5 rows × 24 columns</p>\n",
       "</div>"
      ],
      "text/plain": [
       "           home visitor  home_open_odds  visitor_open_odds  home_close_odds  \\\n",
       "Date                                                                          \n",
       "2017-04-12  COL     SDG            -166                146             -153   \n",
       "2017-04-12  PIT     CIN            -151                136             -147   \n",
       "2017-04-12  PHI     NYM            -111                101             -118   \n",
       "2017-04-12  WAS     STL            -201                176             -180   \n",
       "2017-04-12  MIA     ATL            -126                111             -109   \n",
       "\n",
       "            visitor_close_odds  home_win_loss  visitor_win_loss  \\\n",
       "Date                                                              \n",
       "2017-04-12                 138              0                 1   \n",
       "2017-04-12                 132              0                 1   \n",
       "2017-04-12                 108              0                 1   \n",
       "2017-04-12                 160              0                 1   \n",
       "2017-04-12                -101              0                 1   \n",
       "\n",
       "            Home_PitchingK%  Home_PitchingBB%  ...  \\\n",
       "Date                                           ...   \n",
       "2017-04-12         0.278287          0.091743  ...   \n",
       "2017-04-12         0.167247          0.080139  ...   \n",
       "2017-04-12         0.229508          0.088525  ...   \n",
       "2017-04-12         0.205788          0.067524  ...   \n",
       "2017-04-12         0.243137          0.086275  ...   \n",
       "\n",
       "            Visitor_PitchingOBP_allowed  Visitor_PitchingSLG%_allowed  \\\n",
       "Date                                                                    \n",
       "2017-04-12                     0.316923                      0.452962   \n",
       "2017-04-12                     0.297945                      0.304348   \n",
       "2017-04-12                     0.303226                      0.367491   \n",
       "2017-04-12                     0.350318                      0.464286   \n",
       "2017-04-12                     0.347170                      0.396552   \n",
       "\n",
       "            Home_HittingK%  Home_HittingBB%  Home_HittingOBP  \\\n",
       "Date                                                           \n",
       "2017-04-12        0.225000         0.081250         0.304762   \n",
       "2017-04-12        0.172161         0.087912         0.307407   \n",
       "2017-04-12        0.243421         0.105263         0.332237   \n",
       "2017-04-12        0.212025         0.110759         0.385350   \n",
       "2017-04-12        0.223443         0.080586         0.344444   \n",
       "\n",
       "            Home_HittingSLG%  Visitor_HittingK%  Visitor_HittingBB%  \\\n",
       "Date                                                                  \n",
       "2017-04-12          0.440559           0.221875            0.084375   \n",
       "2017-04-12          0.290456           0.171717            0.067340   \n",
       "2017-04-12          0.453532           0.214286            0.094156   \n",
       "2017-04-12          0.521739           0.213333            0.103333   \n",
       "2017-04-12          0.400826           0.225806            0.060932   \n",
       "\n",
       "            Visitor_HittingOBP  Visitor_HittingSLG%  \n",
       "Date                                                 \n",
       "2017-04-12            0.282540             0.385159  \n",
       "2017-04-12            0.320819             0.484962  \n",
       "2017-04-12            0.305195             0.449275  \n",
       "2017-04-12            0.302013             0.324427  \n",
       "2017-04-12            0.306859             0.395257  \n",
       "\n",
       "[5 rows x 24 columns]"
      ]
     },
     "execution_count": 5,
     "metadata": {},
     "output_type": "execute_result"
    }
   ],
   "source": [
    "baseball_data_2017.head()\n"
   ]
  },
  {
   "cell_type": "code",
   "execution_count": 6,
   "metadata": {},
   "outputs": [
    {
     "name": "stderr",
     "output_type": "stream",
     "text": [
      "C:\\Users\\willi\\Anaconda3\\lib\\site-packages\\pandas\\core\\ops\\__init__.py:1115: FutureWarning: elementwise comparison failed; returning scalar instead, but in the future will perform elementwise comparison\n",
      "  result = method(y)\n"
     ]
    }
   ],
   "source": [
    "baseball_data_2017 = baseball_data_2017[baseball_data_2017['home_open_odds'] != 'NL'] "
   ]
  },
  {
   "cell_type": "code",
   "execution_count": null,
   "metadata": {},
   "outputs": [],
   "source": []
  },
  {
   "cell_type": "code",
   "execution_count": 7,
   "metadata": {},
   "outputs": [
    {
     "data": {
      "text/html": [
       "<div>\n",
       "<style scoped>\n",
       "    .dataframe tbody tr th:only-of-type {\n",
       "        vertical-align: middle;\n",
       "    }\n",
       "\n",
       "    .dataframe tbody tr th {\n",
       "        vertical-align: top;\n",
       "    }\n",
       "\n",
       "    .dataframe thead th {\n",
       "        text-align: right;\n",
       "    }\n",
       "</style>\n",
       "<table border=\"1\" class=\"dataframe\">\n",
       "  <thead>\n",
       "    <tr style=\"text-align: right;\">\n",
       "      <th></th>\n",
       "      <th>home</th>\n",
       "      <th>visitor</th>\n",
       "      <th>home_open_odds</th>\n",
       "      <th>visitor_open_odds</th>\n",
       "      <th>home_close_odds</th>\n",
       "      <th>visitor_close_odds</th>\n",
       "      <th>home_win_loss</th>\n",
       "      <th>visitor_win_loss</th>\n",
       "      <th>Home_PitchingK%</th>\n",
       "      <th>Home_PitchingBB%</th>\n",
       "      <th>...</th>\n",
       "      <th>Visitor_PitchingOBP_allowed</th>\n",
       "      <th>Visitor_PitchingSLG%_allowed</th>\n",
       "      <th>Home_HittingK%</th>\n",
       "      <th>Home_HittingBB%</th>\n",
       "      <th>Home_HittingOBP</th>\n",
       "      <th>Home_HittingSLG%</th>\n",
       "      <th>Visitor_HittingK%</th>\n",
       "      <th>Visitor_HittingBB%</th>\n",
       "      <th>Visitor_HittingOBP</th>\n",
       "      <th>Visitor_HittingSLG%</th>\n",
       "    </tr>\n",
       "    <tr>\n",
       "      <th>Date</th>\n",
       "      <th></th>\n",
       "      <th></th>\n",
       "      <th></th>\n",
       "      <th></th>\n",
       "      <th></th>\n",
       "      <th></th>\n",
       "      <th></th>\n",
       "      <th></th>\n",
       "      <th></th>\n",
       "      <th></th>\n",
       "      <th></th>\n",
       "      <th></th>\n",
       "      <th></th>\n",
       "      <th></th>\n",
       "      <th></th>\n",
       "      <th></th>\n",
       "      <th></th>\n",
       "      <th></th>\n",
       "      <th></th>\n",
       "      <th></th>\n",
       "      <th></th>\n",
       "    </tr>\n",
       "  </thead>\n",
       "  <tbody>\n",
       "    <tr>\n",
       "      <td>2017-04-12</td>\n",
       "      <td>COL</td>\n",
       "      <td>SDG</td>\n",
       "      <td>-166</td>\n",
       "      <td>146</td>\n",
       "      <td>-153</td>\n",
       "      <td>138</td>\n",
       "      <td>0</td>\n",
       "      <td>1</td>\n",
       "      <td>0.278287</td>\n",
       "      <td>0.091743</td>\n",
       "      <td>...</td>\n",
       "      <td>0.316923</td>\n",
       "      <td>0.452962</td>\n",
       "      <td>0.225000</td>\n",
       "      <td>0.081250</td>\n",
       "      <td>0.304762</td>\n",
       "      <td>0.440559</td>\n",
       "      <td>0.221875</td>\n",
       "      <td>0.084375</td>\n",
       "      <td>0.282540</td>\n",
       "      <td>0.385159</td>\n",
       "    </tr>\n",
       "    <tr>\n",
       "      <td>2017-04-12</td>\n",
       "      <td>PIT</td>\n",
       "      <td>CIN</td>\n",
       "      <td>-151</td>\n",
       "      <td>136</td>\n",
       "      <td>-147</td>\n",
       "      <td>132</td>\n",
       "      <td>0</td>\n",
       "      <td>1</td>\n",
       "      <td>0.167247</td>\n",
       "      <td>0.080139</td>\n",
       "      <td>...</td>\n",
       "      <td>0.297945</td>\n",
       "      <td>0.304348</td>\n",
       "      <td>0.172161</td>\n",
       "      <td>0.087912</td>\n",
       "      <td>0.307407</td>\n",
       "      <td>0.290456</td>\n",
       "      <td>0.171717</td>\n",
       "      <td>0.067340</td>\n",
       "      <td>0.320819</td>\n",
       "      <td>0.484962</td>\n",
       "    </tr>\n",
       "    <tr>\n",
       "      <td>2017-04-12</td>\n",
       "      <td>PHI</td>\n",
       "      <td>NYM</td>\n",
       "      <td>-111</td>\n",
       "      <td>101</td>\n",
       "      <td>-118</td>\n",
       "      <td>108</td>\n",
       "      <td>0</td>\n",
       "      <td>1</td>\n",
       "      <td>0.229508</td>\n",
       "      <td>0.088525</td>\n",
       "      <td>...</td>\n",
       "      <td>0.303226</td>\n",
       "      <td>0.367491</td>\n",
       "      <td>0.243421</td>\n",
       "      <td>0.105263</td>\n",
       "      <td>0.332237</td>\n",
       "      <td>0.453532</td>\n",
       "      <td>0.214286</td>\n",
       "      <td>0.094156</td>\n",
       "      <td>0.305195</td>\n",
       "      <td>0.449275</td>\n",
       "    </tr>\n",
       "    <tr>\n",
       "      <td>2017-04-12</td>\n",
       "      <td>WAS</td>\n",
       "      <td>STL</td>\n",
       "      <td>-201</td>\n",
       "      <td>176</td>\n",
       "      <td>-180</td>\n",
       "      <td>160</td>\n",
       "      <td>0</td>\n",
       "      <td>1</td>\n",
       "      <td>0.205788</td>\n",
       "      <td>0.067524</td>\n",
       "      <td>...</td>\n",
       "      <td>0.350318</td>\n",
       "      <td>0.464286</td>\n",
       "      <td>0.212025</td>\n",
       "      <td>0.110759</td>\n",
       "      <td>0.385350</td>\n",
       "      <td>0.521739</td>\n",
       "      <td>0.213333</td>\n",
       "      <td>0.103333</td>\n",
       "      <td>0.302013</td>\n",
       "      <td>0.324427</td>\n",
       "    </tr>\n",
       "    <tr>\n",
       "      <td>2017-04-12</td>\n",
       "      <td>MIA</td>\n",
       "      <td>ATL</td>\n",
       "      <td>-126</td>\n",
       "      <td>111</td>\n",
       "      <td>-109</td>\n",
       "      <td>-101</td>\n",
       "      <td>0</td>\n",
       "      <td>1</td>\n",
       "      <td>0.243137</td>\n",
       "      <td>0.086275</td>\n",
       "      <td>...</td>\n",
       "      <td>0.347170</td>\n",
       "      <td>0.396552</td>\n",
       "      <td>0.223443</td>\n",
       "      <td>0.080586</td>\n",
       "      <td>0.344444</td>\n",
       "      <td>0.400826</td>\n",
       "      <td>0.225806</td>\n",
       "      <td>0.060932</td>\n",
       "      <td>0.306859</td>\n",
       "      <td>0.395257</td>\n",
       "    </tr>\n",
       "  </tbody>\n",
       "</table>\n",
       "<p>5 rows × 24 columns</p>\n",
       "</div>"
      ],
      "text/plain": [
       "           home visitor  home_open_odds  visitor_open_odds  home_close_odds  \\\n",
       "Date                                                                          \n",
       "2017-04-12  COL     SDG            -166                146             -153   \n",
       "2017-04-12  PIT     CIN            -151                136             -147   \n",
       "2017-04-12  PHI     NYM            -111                101             -118   \n",
       "2017-04-12  WAS     STL            -201                176             -180   \n",
       "2017-04-12  MIA     ATL            -126                111             -109   \n",
       "\n",
       "            visitor_close_odds  home_win_loss  visitor_win_loss  \\\n",
       "Date                                                              \n",
       "2017-04-12                 138              0                 1   \n",
       "2017-04-12                 132              0                 1   \n",
       "2017-04-12                 108              0                 1   \n",
       "2017-04-12                 160              0                 1   \n",
       "2017-04-12                -101              0                 1   \n",
       "\n",
       "            Home_PitchingK%  Home_PitchingBB%  ...  \\\n",
       "Date                                           ...   \n",
       "2017-04-12         0.278287          0.091743  ...   \n",
       "2017-04-12         0.167247          0.080139  ...   \n",
       "2017-04-12         0.229508          0.088525  ...   \n",
       "2017-04-12         0.205788          0.067524  ...   \n",
       "2017-04-12         0.243137          0.086275  ...   \n",
       "\n",
       "            Visitor_PitchingOBP_allowed  Visitor_PitchingSLG%_allowed  \\\n",
       "Date                                                                    \n",
       "2017-04-12                     0.316923                      0.452962   \n",
       "2017-04-12                     0.297945                      0.304348   \n",
       "2017-04-12                     0.303226                      0.367491   \n",
       "2017-04-12                     0.350318                      0.464286   \n",
       "2017-04-12                     0.347170                      0.396552   \n",
       "\n",
       "            Home_HittingK%  Home_HittingBB%  Home_HittingOBP  \\\n",
       "Date                                                           \n",
       "2017-04-12        0.225000         0.081250         0.304762   \n",
       "2017-04-12        0.172161         0.087912         0.307407   \n",
       "2017-04-12        0.243421         0.105263         0.332237   \n",
       "2017-04-12        0.212025         0.110759         0.385350   \n",
       "2017-04-12        0.223443         0.080586         0.344444   \n",
       "\n",
       "            Home_HittingSLG%  Visitor_HittingK%  Visitor_HittingBB%  \\\n",
       "Date                                                                  \n",
       "2017-04-12          0.440559           0.221875            0.084375   \n",
       "2017-04-12          0.290456           0.171717            0.067340   \n",
       "2017-04-12          0.453532           0.214286            0.094156   \n",
       "2017-04-12          0.521739           0.213333            0.103333   \n",
       "2017-04-12          0.400826           0.225806            0.060932   \n",
       "\n",
       "            Visitor_HittingOBP  Visitor_HittingSLG%  \n",
       "Date                                                 \n",
       "2017-04-12            0.282540             0.385159  \n",
       "2017-04-12            0.320819             0.484962  \n",
       "2017-04-12            0.305195             0.449275  \n",
       "2017-04-12            0.302013             0.324427  \n",
       "2017-04-12            0.306859             0.395257  \n",
       "\n",
       "[5 rows x 24 columns]"
      ]
     },
     "execution_count": 7,
     "metadata": {},
     "output_type": "execute_result"
    }
   ],
   "source": [
    "baseball_data_2017.head()"
   ]
  },
  {
   "cell_type": "code",
   "execution_count": 8,
   "metadata": {},
   "outputs": [
    {
     "data": {
      "text/plain": [
       "array(['home', 'visitor', 'home_open_odds', 'visitor_open_odds',\n",
       "       'home_close_odds', 'visitor_close_odds', 'home_win_loss',\n",
       "       'visitor_win_loss', 'Home_PitchingK%', 'Home_PitchingBB%',\n",
       "       'Home_PitchingOBP_allowed', 'Home_PitchingSLG%_allowed',\n",
       "       'Visitor_PitchingK%', 'Visitor_PitchingBB%',\n",
       "       'Visitor_PitchingOBP_allowed', 'Visitor_PitchingSLG%_allowed',\n",
       "       'Home_HittingK%', 'Home_HittingBB%', 'Home_HittingOBP',\n",
       "       'Home_HittingSLG%', 'Visitor_HittingK%', 'Visitor_HittingBB%',\n",
       "       'Visitor_HittingOBP', 'Visitor_HittingSLG%'], dtype=object)"
      ]
     },
     "execution_count": 8,
     "metadata": {},
     "output_type": "execute_result"
    }
   ],
   "source": [
    "baseball_data_2017.columns.values"
   ]
  },
  {
   "cell_type": "code",
   "execution_count": 10,
   "metadata": {},
   "outputs": [],
   "source": [
    "X = baseball_data_2017[['home_open_odds', 'visitor_open_odds',\n",
    "       'home_close_odds', 'visitor_close_odds', 'Home_PitchingK%', 'Home_PitchingBB%',\n",
    "       'Home_PitchingOBP_allowed', 'Home_PitchingSLG%_allowed',\n",
    "       'Visitor_PitchingK%', 'Visitor_PitchingBB%',\n",
    "       'Visitor_PitchingOBP_allowed', 'Visitor_PitchingSLG%_allowed',\n",
    "       'Home_HittingK%', 'Home_HittingBB%', 'Home_HittingOBP',\n",
    "       'Home_HittingSLG%', 'Visitor_HittingK%', 'Visitor_HittingBB%',\n",
    "       'Visitor_HittingOBP', 'Visitor_HittingSLG%']]\n",
    "y = baseball_data_2017['home_win_loss']"
   ]
  },
  {
   "cell_type": "code",
   "execution_count": null,
   "metadata": {},
   "outputs": [],
   "source": []
  },
  {
   "cell_type": "code",
   "execution_count": 11,
   "metadata": {},
   "outputs": [],
   "source": [
    "scaler = StandardScaler()\n",
    "X_transformed = scaler.fit_transform(X)"
   ]
  },
  {
   "cell_type": "code",
   "execution_count": 12,
   "metadata": {},
   "outputs": [
    {
     "data": {
      "text/plain": [
       "1157.5"
      ]
     },
     "execution_count": 12,
     "metadata": {},
     "output_type": "execute_result"
    }
   ],
   "source": [
    "len(baseball_data_2017) * 0.50"
   ]
  },
  {
   "cell_type": "code",
   "execution_count": 13,
   "metadata": {},
   "outputs": [],
   "source": [
    "X_train = X_transformed[:1158]\n",
    "X_test = X_transformed[1159:]\n",
    "y_train = y[:1158]\n",
    "y_test = y[1159:]"
   ]
  },
  {
   "cell_type": "code",
   "execution_count": 14,
   "metadata": {},
   "outputs": [
    {
     "name": "stderr",
     "output_type": "stream",
     "text": [
      "C:\\Users\\willi\\Anaconda3\\lib\\site-packages\\sklearn\\svm\\base.py:193: FutureWarning: The default value of gamma will change from 'auto' to 'scale' in version 0.22 to account better for unscaled features. Set gamma explicitly to 'auto' or 'scale' to avoid this warning.\n",
      "  \"avoid this warning.\", FutureWarning)\n"
     ]
    },
    {
     "data": {
      "text/plain": [
       "SVC(C=1.0, cache_size=200, class_weight=None, coef0=0.0,\n",
       "    decision_function_shape='ovr', degree=3, gamma='auto_deprecated',\n",
       "    kernel='rbf', max_iter=-1, probability=True, random_state=1, shrinking=True,\n",
       "    tol=0.001, verbose=False)"
      ]
     },
     "execution_count": 14,
     "metadata": {},
     "output_type": "execute_result"
    }
   ],
   "source": [
    "model = SVC(kernel = 'rbf', random_state = 1, probability = True)\n",
    "model.fit(X_train, y_train)"
   ]
  },
  {
   "cell_type": "code",
   "execution_count": 15,
   "metadata": {},
   "outputs": [
    {
     "data": {
      "text/plain": [
       "0.5674740484429066"
      ]
     },
     "execution_count": 15,
     "metadata": {},
     "output_type": "execute_result"
    }
   ],
   "source": [
    "model.score(X_test, y_test)"
   ]
  },
  {
   "cell_type": "code",
   "execution_count": 16,
   "metadata": {},
   "outputs": [],
   "source": [
    "rf_model = RandomForestClassifier(n_estimators= 1000, random_state= 1)"
   ]
  },
  {
   "cell_type": "code",
   "execution_count": 17,
   "metadata": {},
   "outputs": [
    {
     "data": {
      "text/plain": [
       "RandomForestClassifier(bootstrap=True, class_weight=None, criterion='gini',\n",
       "                       max_depth=None, max_features='auto', max_leaf_nodes=None,\n",
       "                       min_impurity_decrease=0.0, min_impurity_split=None,\n",
       "                       min_samples_leaf=1, min_samples_split=2,\n",
       "                       min_weight_fraction_leaf=0.0, n_estimators=1000,\n",
       "                       n_jobs=None, oob_score=False, random_state=1, verbose=0,\n",
       "                       warm_start=False)"
      ]
     },
     "execution_count": 17,
     "metadata": {},
     "output_type": "execute_result"
    }
   ],
   "source": [
    "rf_model.fit(X_train, y_train)"
   ]
  },
  {
   "cell_type": "code",
   "execution_count": 18,
   "metadata": {},
   "outputs": [],
   "source": [
    "predictions_rf = rf_model.predict(X_test)"
   ]
  },
  {
   "cell_type": "code",
   "execution_count": 19,
   "metadata": {},
   "outputs": [],
   "source": [
    "acc_score = accuracy_score(y_test, predictions_rf)"
   ]
  },
  {
   "cell_type": "code",
   "execution_count": 20,
   "metadata": {},
   "outputs": [
    {
     "name": "stdout",
     "output_type": "stream",
     "text": [
      "0.5692041522491349\n"
     ]
    }
   ],
   "source": [
    "print(acc_score)"
   ]
  },
  {
   "cell_type": "code",
   "execution_count": null,
   "metadata": {},
   "outputs": [],
   "source": [
    "clf = AdaBoostClassifier(n_estimators = 2500, random_state = 1)"
   ]
  },
  {
   "cell_type": "code",
   "execution_count": null,
   "metadata": {},
   "outputs": [],
   "source": [
    "clf.fit(X_train, y_train)"
   ]
  },
  {
   "cell_type": "code",
   "execution_count": null,
   "metadata": {},
   "outputs": [],
   "source": [
    "predictions_clf = clf.predict(X_test)"
   ]
  },
  {
   "cell_type": "code",
   "execution_count": null,
   "metadata": {},
   "outputs": [],
   "source": [
    "acc_score_clf = balanced_accuracy_score(y_test, predictions_clf)"
   ]
  },
  {
   "cell_type": "code",
   "execution_count": null,
   "metadata": {},
   "outputs": [],
   "source": [
    "print(acc_score_clf)"
   ]
  },
  {
   "cell_type": "code",
   "execution_count": null,
   "metadata": {},
   "outputs": [],
   "source": [
    "actual_df = pd.DataFrame(y_test)\n",
    "actual_df.reset_index(inplace = True)"
   ]
  },
  {
   "cell_type": "code",
   "execution_count": null,
   "metadata": {},
   "outputs": [],
   "source": [
    "predict_df = pd.DataFrame(predictions_rf)\n"
   ]
  },
  {
   "cell_type": "code",
   "execution_count": null,
   "metadata": {},
   "outputs": [],
   "source": [
    "actual_predict_df = pd.concat([actual_df,predict_df], axis = 1, join = 'inner')"
   ]
  },
  {
   "cell_type": "code",
   "execution_count": null,
   "metadata": {},
   "outputs": [],
   "source": [
    "odds_df_new = baseball_data_2019[['home','visitor','home_open_odds','visitor_open_odds']][1200:]\n",
    "odds_df_new.reset_index(inplace = True)\n",
    "odds_df_new.drop(columns = ['Date'],inplace = True)"
   ]
  },
  {
   "cell_type": "code",
   "execution_count": null,
   "metadata": {},
   "outputs": [],
   "source": [
    "df = pd.concat([actual_df,predict_df, odds_df_new], axis = 1, join ='inner')"
   ]
  },
  {
   "cell_type": "code",
   "execution_count": null,
   "metadata": {},
   "outputs": [],
   "source": [
    "df.set_index('Date', inplace = True)"
   ]
  },
  {
   "cell_type": "code",
   "execution_count": null,
   "metadata": {},
   "outputs": [],
   "source": [
    "df.columns = ['Actual','Predicted','Home','Visitor','Home_Open_Odds','Visitor_Open_Odds']"
   ]
  },
  {
   "cell_type": "code",
   "execution_count": null,
   "metadata": {},
   "outputs": [],
   "source": [
    "df.head()"
   ]
  },
  {
   "cell_type": "code",
   "execution_count": null,
   "metadata": {},
   "outputs": [],
   "source": [
    "df.to_csv('./predictions_2019.csv')"
   ]
  },
  {
   "cell_type": "markdown",
   "metadata": {},
   "source": [
    "## Gambling Results\n",
    "---------------------"
   ]
  },
  {
   "cell_type": "markdown",
   "metadata": {},
   "source": [
    "Here we experiment with a few different gambling strategies based on our model's results"
   ]
  },
  {
   "cell_type": "code",
   "execution_count": null,
   "metadata": {},
   "outputs": [],
   "source": []
  }
 ],
 "metadata": {
  "kernelspec": {
   "display_name": "Python 3",
   "language": "python",
   "name": "python3"
  },
  "language_info": {
   "codemirror_mode": {
    "name": "ipython",
    "version": 3
   },
   "file_extension": ".py",
   "mimetype": "text/x-python",
   "name": "python",
   "nbconvert_exporter": "python",
   "pygments_lexer": "ipython3",
   "version": "3.7.3"
  }
 },
 "nbformat": 4,
 "nbformat_minor": 4
}
