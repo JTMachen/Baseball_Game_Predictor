{
 "cells": [
  {
   "cell_type": "markdown",
   "metadata": {},
   "source": [
    "# Baseball Game Predictor and Gambling Program\n",
    "----------------------------------------------"
   ]
  },
  {
   "cell_type": "markdown",
   "metadata": {},
   "source": [
    "This notebook will go through the entire process of pulling data, cleaning data, feature engineering, and machine learning model creation \n",
    "to predict games and ultimately show the results of a betting strategy based upon the model's predictions."
   ]
  },
  {
   "cell_type": "markdown",
   "metadata": {},
   "source": [
    "## Pulling Data from PyBaseball's API\n",
    "--------------------------------"
   ]
  },
  {
   "cell_type": "markdown",
   "metadata": {},
   "source": [
    "The initial raw data will be pulled from PyBaseball.  Two functions are being used that pull our batting and hitting statistics. The is a little light\n",
    "cleaning of the initial raw data to drop unneeded columns and format to a datetime index.  These function are located in the libs folder inside \n",
    "the PyBaseball_data_pull_and_cleaning.py file. After pulling and cleaning data the csv files were saved in the Data folder.  DO NOT RUN THESE\n",
    "CELLS.  The data has already been saved.  The process of pulling this data takes a considerable amount of time."
   ]
  },
  {
   "cell_type": "code",
   "execution_count": null,
   "metadata": {},
   "outputs": [],
   "source": [
    "# import functions from Libs\n",
    "from Libs.PyBaseball_data_pull_and_cleaning import get_batting_data, get_pitching_data, clean_batting_data, clean_pitching_data\n",
    "import pandas as pd"
   ]
  },
  {
   "cell_type": "code",
   "execution_count": null,
   "metadata": {},
   "outputs": [],
   "source": [
    "# Pull batting and pitching data for 2016, 2017, 2018, and 2019 \n",
    "batting_data_2016 = get_batting_data('2016-04-03', '2016-10-02')\n",
    "batting_data_2017 = get_batting_data('2017-04-02', '2017-10-01')\n",
    "batting_data_2018 = get_batting_data('2018-03-29', '2018-10-01')\n",
    "batting_data_2019 = get_batting_data('2019-03-28', '2019-09-29')\n",
    "\n",
    "pitching_data_2016 = get_pitching_data('2016-04-03','2016-10-02')\n",
    "pitching_data_2017 = get_pitching_data('2017-04-02', '2017-10-01')\n",
    "pitching_data_2018 = get_pitching_data('2018-03-29', '2018-10-01')\n",
    "pitching_data_2019 = get_pitching_data('2019-03-28', '2019-09-29')\n"
   ]
  },
  {
   "cell_type": "code",
   "execution_count": null,
   "metadata": {},
   "outputs": [],
   "source": [
    "# Example of raw batting_data.  These cells can be run.\n",
    "raw_hitting_data = pd.read_csv('./Data/Batting/Raw_Data/raw_batting_data_2017.csv')\n",
    "raw_hitting_data"
   ]
  },
  {
   "cell_type": "code",
   "execution_count": null,
   "metadata": {},
   "outputs": [],
   "source": [
    "# Example of raw pitching data\n",
    "raw_pitching_data = pd.read_csv('./Data/Pitching/Raw_Data/raw_pitching_data_2017.csv')\n",
    "raw_pitching_data.head()"
   ]
  },
  {
   "cell_type": "code",
   "execution_count": null,
   "metadata": {},
   "outputs": [],
   "source": [
    "# Initial light cleaning of pulled data \n",
    "batting_data_clean_2016 = clean_batting_data(batting_data_2016)\n",
    "batting_data_clean_2017 = clean_batting_data(batting_data_2017)\n",
    "batting_data_clean_2018 = clean_batting_data(batting_data_2018)\n",
    "batting_data_clean_2019 = clean_batting_data(batting_data_2019)\n",
    "pitching_data_clean_2016 = clean_pitching_data(pitching_data_2016)\n",
    "pitching_data_clean_2017 = clean_pitching_data(pitching_data_2017)\n",
    "pitching_data_clean_2018 = clean_pitching_data(pitching_data_2018)\n",
    "pitching_data_clean_2019 = clean_pitching_data(pitching_data_2019)\n"
   ]
  },
  {
   "cell_type": "code",
   "execution_count": null,
   "metadata": {},
   "outputs": [],
   "source": [
    "# Example of clean batting_data \n",
    "clean_hitting_data = pd.read_csv('./Data/Batting/Clean_Data/clean_batting_data_2017.csv', parse_dates = True, index_col = 'Date', infer_datetime_format = True)\n",
    "clean_hitting_data.head()"
   ]
  },
  {
   "cell_type": "code",
   "execution_count": null,
   "metadata": {},
   "outputs": [],
   "source": [
    "# Example of clean pitching_data\n",
    "clean_pitching_data = pd.read_csv('./Data/Pitching/Clean_Data/clean_pitching_data_2017.csv', parse_dates = True, index_col = 'Date', infer_datetime_format = True)\n",
    "clean_pitching_data.head()"
   ]
  },
  {
   "cell_type": "markdown",
   "metadata": {},
   "source": [
    "## Creating DataFrame for Feature Selection\n",
    "---------------------------------------------"
   ]
  },
  {
   "cell_type": "markdown",
   "metadata": {},
   "source": [
    "This section will create a dataframe from our saved batting and pitching csv files and concatenate it with the odds csv\n",
    "files we downloaded to create one dataframe for each season.  The functions used for this process are in the Training_DataFrame_creation.py\n",
    "file. The resulting dataframes have been saved in the Training Data folder.  Many different features were experimented with but ultimately\n",
    "these are the features we settled upon. A look back period of 10 days to calculate stats resulted in the best performing model."
   ]
  },
  {
   "cell_type": "code",
   "execution_count": null,
   "metadata": {},
   "outputs": [],
   "source": [
    "# Import functions for dataframe creation and pandas to read in csv files\n",
    "import pandas as pd\n",
    "from Libs.Training_DataFrame_creation import df_for_feature_selection"
   ]
  },
  {
   "cell_type": "code",
   "execution_count": null,
   "metadata": {},
   "outputs": [],
   "source": [
    "# Read in necessary data files for batting, pitching, and gambling odds\n",
    "batting_data_2016 = pd.read_csv('./Data/Batting/Clean_Data/clean_batting_data_2016.csv', parse_dates = True, index_col = 'Date', infer_datetime_format = True)\n",
    "batting_data_2017 = pd.read_csv('./Data/Batting/Clean_Data/clean_batting_data_2017.csv', parse_dates = True, index_col = 'Date', infer_datetime_format = True)\n",
    "batting_data_2018 = pd.read_csv('./Data/Batting/Clean_Data/clean_batting_data_2018.csv', parse_dates = True, index_col = 'Date', infer_datetime_format = True)\n",
    "batting_data_2019 = pd.read_csv('./Data/Batting/Clean_Data/clean_batting_data_2019.csv', parse_dates = True, index_col = 'Date', infer_datetime_format = True)\n",
    "\n",
    "pitching_data_2016 = pd.read_csv('./Data/Pitching/Clean_Data/clean_pitching_data_2016.csv', parse_dates = True, index_col = 'Date', infer_datetime_format = True)\n",
    "pitching_data_2017 = pd.read_csv('./Data/Pitching/Clean_Data/clean_pitching_data_2017.csv', parse_dates = True, index_col = 'Date', infer_datetime_format = True)\n",
    "pitching_data_2018 = pd.read_csv('./Data/Pitching/Clean_Data/clean_pitching_data_2018.csv', parse_dates = True, index_col = 'Date', infer_datetime_format = True)\n",
    "pitching_data_2019 = pd.read_csv('./Data/Pitching/Clean_Data/clean_pitching_data_2019.csv', parse_dates = True, index_col = 'Date', infer_datetime_format = True)\n",
    "\n",
    "odds_df_2016 = pd.read_csv('./Betting_Odds/Clean_Odds/mlb_odds_2016.csv', parse_dates = True, index_col = 'Date', infer_datetime_format = True)\n",
    "odds_df_2017 = pd.read_csv('./Betting_Odds/Clean_Odds/mlb_odds_2017.csv', parse_dates = True, index_col = 'Date', infer_datetime_format = True)\n",
    "odds_df_2018 = pd.read_csv('./Betting_Odds/Clean_Odds/mlb_odds_2018.csv', parse_dates = True, index_col = 'Date', infer_datetime_format = True)\n",
    "odds_df_2019 = pd.read_csv('./Betting_Odds/Clean_Odds/mlb_odds_2019.csv', parse_dates = True, index_col = 'Date', infer_datetime_format = True)\n"
   ]
  },
  {
   "cell_type": "code",
   "execution_count": null,
   "metadata": {},
   "outputs": [],
   "source": [
    "batting_data_2016.head()"
   ]
  },
  {
   "cell_type": "code",
   "execution_count": null,
   "metadata": {},
   "outputs": [],
   "source": [
    "pitching_data_2016.head()"
   ]
  },
  {
   "cell_type": "code",
   "execution_count": null,
   "metadata": {},
   "outputs": [],
   "source": [
    "odds_df_2016.head()"
   ]
  },
  {
   "cell_type": "code",
   "execution_count": null,
   "metadata": {},
   "outputs": [],
   "source": [
    "#Create training dataframes for each season\n",
    "training_df_2016 = df_for_feature_selection(odds_df_2016, batting_data_2016, pitching_data_2016, look_back = 10)\n",
    "training_df_2017 = df_for_feature_selection(odds_df_2017, batting_data_2017, pitching_data_2017, look_back = 10)\n",
    "training_df_2018 = df_for_feature_selection(odds_df_2018, batting_data_2018, pitching_data_2018, look_back = 10)\n",
    "training_df_2019 = df_for_feature_selection(odds_df_2019, batting_data_2019, pitching_data_2019, look_back = 10)\n"
   ]
  },
  {
   "cell_type": "code",
   "execution_count": null,
   "metadata": {},
   "outputs": [],
   "source": [
    "training_df_2016.head()"
   ]
  },
  {
   "cell_type": "code",
   "execution_count": null,
   "metadata": {},
   "outputs": [],
   "source": [
    "training_df_2017.head()"
   ]
  },
  {
   "cell_type": "code",
   "execution_count": null,
   "metadata": {},
   "outputs": [],
   "source": [
    "training_df_2018"
   ]
  },
  {
   "cell_type": "code",
   "execution_count": null,
   "metadata": {},
   "outputs": [],
   "source": [
    "training_df_2019.head()"
   ]
  },
  {
   "cell_type": "markdown",
   "metadata": {},
   "source": [
    "## Feature Selection and Stat Calculations "
   ]
  },
  {
   "cell_type": "markdown",
   "metadata": {},
   "source": [
    "Now that are dataframes are created for each season, our features are selected and stats are calculated using functions in the Baseball_stats.py\n",
    "file located in Libs."
   ]
  },
  {
   "cell_type": "code",
   "execution_count": null,
   "metadata": {},
   "outputs": [],
   "source": [
    "# import functions from Baseball_stats.py in Libs folder\n",
    "from Libs.Baseball_stats import baseball_stats_calculator_hitting, baseball_stats_calculator_pitching"
   ]
  },
  {
   "cell_type": "code",
   "execution_count": null,
   "metadata": {},
   "outputs": [],
   "source": [
    "# Calculate stats\n",
    "feature_df_hitting_2016 = baseball_stats_calculator_hitting(training_df_2016)\n",
    "final_feature_df_2016 = baseball_stats_calculator_pitching(feature_df_hitting_2016)\n",
    "feature_df_hitting_2017 = baseball_stats_calculator_hitting(training_df_2017)\n",
    "final_feature_df_2017 = baseball_stats_calculator_pitching(feature_df_hitting_2017)\n",
    "feature_df_hitting_2018 = baseball_stats_calculator_hitting(training_df_2018)\n",
    "final_feature_df_2018 = baseball_stats_calculator_pitching(feature_df_hitting_2018)\n",
    "feature_df_hitting_2019 = baseball_stats_calculator_hitting(training_df_2019)\n",
    "final_feature_df_2019 = baseball_stats_calculator_pitching(feature_df_hitting_2019)\n"
   ]
  },
  {
   "cell_type": "code",
   "execution_count": null,
   "metadata": {},
   "outputs": [],
   "source": [
    "final_feature_df_2016.head()"
   ]
  },
  {
   "cell_type": "code",
   "execution_count": null,
   "metadata": {},
   "outputs": [],
   "source": [
    "final_feature_df_2017.head()"
   ]
  },
  {
   "cell_type": "code",
   "execution_count": null,
   "metadata": {},
   "outputs": [],
   "source": [
    "final_feature_df_2018.head()"
   ]
  },
  {
   "cell_type": "code",
   "execution_count": null,
   "metadata": {},
   "outputs": [],
   "source": [
    "final_feature_df_2019.head()"
   ]
  },
  {
   "cell_type": "markdown",
   "metadata": {},
   "source": [
    "## Model creation\n",
    "---------------------"
   ]
  },
  {
   "cell_type": "markdown",
   "metadata": {},
   "source": [
    "We tried many different machine learning models such as SVM, RandomForestClassifier, AdaBoostClassifier, and Neural Networks. The AdaBoostClassifier\n",
    "returned the best model. "
   ]
  },
  {
   "cell_type": "code",
   "execution_count": 67,
   "metadata": {},
   "outputs": [],
   "source": [
    "import numpy as np\n",
    "import pandas as pd\n",
    "from sklearn.metrics import balanced_accuracy_score\n",
    "from sklearn.metrics import confusion_matrix\n",
    "from sklearn.ensemble import AdaBoostClassifier\n",
    "from sklearn.svm import SVC\n",
    "from sklearn.preprocessing import StandardScaler\n",
    "from sklearn.ensemble import RandomForestClassifier\n",
    "from sklearn.metrics import confusion_matrix, accuracy_score, classification_report\n",
    "from imblearn.metrics import classification_report_imbalanced\n",
    "\n",
    "\n"
   ]
  },
  {
   "cell_type": "code",
   "execution_count": 36,
   "metadata": {},
   "outputs": [],
   "source": [
    "baseball_data_2018 = pd.read_csv('./Training_Data/2018_10_day.csv',index_col = 'Date', infer_datetime_format = True, parse_dates = True)\n"
   ]
  },
  {
   "cell_type": "code",
   "execution_count": null,
   "metadata": {},
   "outputs": [],
   "source": [
    "no_lines = baseball_data_2019[baseball_data_2019['home_open_odds'] == 'NL']\n",
    "no_lines.head()"
   ]
  },
  {
   "cell_type": "code",
   "execution_count": 37,
   "metadata": {},
   "outputs": [
    {
     "data": {
      "text/html": [
       "<div>\n",
       "<style scoped>\n",
       "    .dataframe tbody tr th:only-of-type {\n",
       "        vertical-align: middle;\n",
       "    }\n",
       "\n",
       "    .dataframe tbody tr th {\n",
       "        vertical-align: top;\n",
       "    }\n",
       "\n",
       "    .dataframe thead th {\n",
       "        text-align: right;\n",
       "    }\n",
       "</style>\n",
       "<table border=\"1\" class=\"dataframe\">\n",
       "  <thead>\n",
       "    <tr style=\"text-align: right;\">\n",
       "      <th></th>\n",
       "      <th>home</th>\n",
       "      <th>visitor</th>\n",
       "      <th>home_open_odds</th>\n",
       "      <th>visitor_open_odds</th>\n",
       "      <th>home_close_odds</th>\n",
       "      <th>visitor_close_odds</th>\n",
       "      <th>home_win_loss</th>\n",
       "      <th>visitor_win_loss</th>\n",
       "      <th>Home_PitchingK%</th>\n",
       "      <th>Home_PitchingBB%</th>\n",
       "      <th>...</th>\n",
       "      <th>Visitor_PitchingOBP_allowed</th>\n",
       "      <th>Visitor_PitchingSLG%_allowed</th>\n",
       "      <th>Home_HittingK%</th>\n",
       "      <th>Home_HittingBB%</th>\n",
       "      <th>Home_HittingOBP</th>\n",
       "      <th>Home_HittingSLG%</th>\n",
       "      <th>Visitor_HittingK%</th>\n",
       "      <th>Visitor_HittingBB%</th>\n",
       "      <th>Visitor_HittingOBP</th>\n",
       "      <th>Visitor_HittingSLG%</th>\n",
       "    </tr>\n",
       "    <tr>\n",
       "      <th>Date</th>\n",
       "      <th></th>\n",
       "      <th></th>\n",
       "      <th></th>\n",
       "      <th></th>\n",
       "      <th></th>\n",
       "      <th></th>\n",
       "      <th></th>\n",
       "      <th></th>\n",
       "      <th></th>\n",
       "      <th></th>\n",
       "      <th></th>\n",
       "      <th></th>\n",
       "      <th></th>\n",
       "      <th></th>\n",
       "      <th></th>\n",
       "      <th></th>\n",
       "      <th></th>\n",
       "      <th></th>\n",
       "      <th></th>\n",
       "      <th></th>\n",
       "      <th></th>\n",
       "    </tr>\n",
       "  </thead>\n",
       "  <tbody>\n",
       "    <tr>\n",
       "      <td>2018-04-08</td>\n",
       "      <td>PIT</td>\n",
       "      <td>CIN</td>\n",
       "      <td>-150</td>\n",
       "      <td>135</td>\n",
       "      <td>-155.0</td>\n",
       "      <td>140.0</td>\n",
       "      <td>1</td>\n",
       "      <td>0</td>\n",
       "      <td>0.193939</td>\n",
       "      <td>0.112121</td>\n",
       "      <td>...</td>\n",
       "      <td>0.350365</td>\n",
       "      <td>0.459574</td>\n",
       "      <td>0.153846</td>\n",
       "      <td>0.107692</td>\n",
       "      <td>0.357143</td>\n",
       "      <td>0.441281</td>\n",
       "      <td>0.234201</td>\n",
       "      <td>0.096654</td>\n",
       "      <td>0.334586</td>\n",
       "      <td>0.378723</td>\n",
       "    </tr>\n",
       "    <tr>\n",
       "      <td>2018-04-08</td>\n",
       "      <td>PHI</td>\n",
       "      <td>MIA</td>\n",
       "      <td>-185</td>\n",
       "      <td>165</td>\n",
       "      <td>-200.0</td>\n",
       "      <td>175.0</td>\n",
       "      <td>0</td>\n",
       "      <td>1</td>\n",
       "      <td>0.212687</td>\n",
       "      <td>0.082090</td>\n",
       "      <td>...</td>\n",
       "      <td>0.353887</td>\n",
       "      <td>0.455657</td>\n",
       "      <td>0.274368</td>\n",
       "      <td>0.126354</td>\n",
       "      <td>0.334545</td>\n",
       "      <td>0.402542</td>\n",
       "      <td>0.228739</td>\n",
       "      <td>0.087977</td>\n",
       "      <td>0.297059</td>\n",
       "      <td>0.278689</td>\n",
       "    </tr>\n",
       "    <tr>\n",
       "      <td>2018-04-08</td>\n",
       "      <td>MIL</td>\n",
       "      <td>CUB</td>\n",
       "      <td>115</td>\n",
       "      <td>-130</td>\n",
       "      <td>104.0</td>\n",
       "      <td>-114.0</td>\n",
       "      <td>0</td>\n",
       "      <td>1</td>\n",
       "      <td>0.222527</td>\n",
       "      <td>0.087912</td>\n",
       "      <td>...</td>\n",
       "      <td>0.319149</td>\n",
       "      <td>0.314685</td>\n",
       "      <td>0.247126</td>\n",
       "      <td>0.063218</td>\n",
       "      <td>0.300578</td>\n",
       "      <td>0.383648</td>\n",
       "      <td>0.238764</td>\n",
       "      <td>0.109551</td>\n",
       "      <td>0.325779</td>\n",
       "      <td>0.370492</td>\n",
       "    </tr>\n",
       "    <tr>\n",
       "      <td>2018-04-08</td>\n",
       "      <td>STL</td>\n",
       "      <td>ARI</td>\n",
       "      <td>-145</td>\n",
       "      <td>130</td>\n",
       "      <td>-165.0</td>\n",
       "      <td>145.0</td>\n",
       "      <td>0</td>\n",
       "      <td>1</td>\n",
       "      <td>0.238710</td>\n",
       "      <td>0.109677</td>\n",
       "      <td>...</td>\n",
       "      <td>0.275974</td>\n",
       "      <td>0.354610</td>\n",
       "      <td>0.270903</td>\n",
       "      <td>0.073579</td>\n",
       "      <td>0.304348</td>\n",
       "      <td>0.416974</td>\n",
       "      <td>0.230769</td>\n",
       "      <td>0.132308</td>\n",
       "      <td>0.350932</td>\n",
       "      <td>0.400000</td>\n",
       "    </tr>\n",
       "    <tr>\n",
       "      <td>2018-04-08</td>\n",
       "      <td>COL</td>\n",
       "      <td>ATL</td>\n",
       "      <td>-140</td>\n",
       "      <td>125</td>\n",
       "      <td>-155.0</td>\n",
       "      <td>140.0</td>\n",
       "      <td>0</td>\n",
       "      <td>1</td>\n",
       "      <td>0.190616</td>\n",
       "      <td>0.111437</td>\n",
       "      <td>...</td>\n",
       "      <td>0.345455</td>\n",
       "      <td>0.402878</td>\n",
       "      <td>0.239193</td>\n",
       "      <td>0.106628</td>\n",
       "      <td>0.318841</td>\n",
       "      <td>0.416938</td>\n",
       "      <td>0.168675</td>\n",
       "      <td>0.105422</td>\n",
       "      <td>0.375385</td>\n",
       "      <td>0.464539</td>\n",
       "    </tr>\n",
       "  </tbody>\n",
       "</table>\n",
       "<p>5 rows × 24 columns</p>\n",
       "</div>"
      ],
      "text/plain": [
       "           home visitor  home_open_odds  visitor_open_odds  home_close_odds  \\\n",
       "Date                                                                          \n",
       "2018-04-08  PIT     CIN            -150                135           -155.0   \n",
       "2018-04-08  PHI     MIA            -185                165           -200.0   \n",
       "2018-04-08  MIL     CUB             115               -130            104.0   \n",
       "2018-04-08  STL     ARI            -145                130           -165.0   \n",
       "2018-04-08  COL     ATL            -140                125           -155.0   \n",
       "\n",
       "            visitor_close_odds  home_win_loss  visitor_win_loss  \\\n",
       "Date                                                              \n",
       "2018-04-08               140.0              1                 0   \n",
       "2018-04-08               175.0              0                 1   \n",
       "2018-04-08              -114.0              0                 1   \n",
       "2018-04-08               145.0              0                 1   \n",
       "2018-04-08               140.0              0                 1   \n",
       "\n",
       "            Home_PitchingK%  Home_PitchingBB%  ...  \\\n",
       "Date                                           ...   \n",
       "2018-04-08         0.193939          0.112121  ...   \n",
       "2018-04-08         0.212687          0.082090  ...   \n",
       "2018-04-08         0.222527          0.087912  ...   \n",
       "2018-04-08         0.238710          0.109677  ...   \n",
       "2018-04-08         0.190616          0.111437  ...   \n",
       "\n",
       "            Visitor_PitchingOBP_allowed  Visitor_PitchingSLG%_allowed  \\\n",
       "Date                                                                    \n",
       "2018-04-08                     0.350365                      0.459574   \n",
       "2018-04-08                     0.353887                      0.455657   \n",
       "2018-04-08                     0.319149                      0.314685   \n",
       "2018-04-08                     0.275974                      0.354610   \n",
       "2018-04-08                     0.345455                      0.402878   \n",
       "\n",
       "            Home_HittingK%  Home_HittingBB%  Home_HittingOBP  \\\n",
       "Date                                                           \n",
       "2018-04-08        0.153846         0.107692         0.357143   \n",
       "2018-04-08        0.274368         0.126354         0.334545   \n",
       "2018-04-08        0.247126         0.063218         0.300578   \n",
       "2018-04-08        0.270903         0.073579         0.304348   \n",
       "2018-04-08        0.239193         0.106628         0.318841   \n",
       "\n",
       "            Home_HittingSLG%  Visitor_HittingK%  Visitor_HittingBB%  \\\n",
       "Date                                                                  \n",
       "2018-04-08          0.441281           0.234201            0.096654   \n",
       "2018-04-08          0.402542           0.228739            0.087977   \n",
       "2018-04-08          0.383648           0.238764            0.109551   \n",
       "2018-04-08          0.416974           0.230769            0.132308   \n",
       "2018-04-08          0.416938           0.168675            0.105422   \n",
       "\n",
       "            Visitor_HittingOBP  Visitor_HittingSLG%  \n",
       "Date                                                 \n",
       "2018-04-08            0.334586             0.378723  \n",
       "2018-04-08            0.297059             0.278689  \n",
       "2018-04-08            0.325779             0.370492  \n",
       "2018-04-08            0.350932             0.400000  \n",
       "2018-04-08            0.375385             0.464539  \n",
       "\n",
       "[5 rows x 24 columns]"
      ]
     },
     "execution_count": 37,
     "metadata": {},
     "output_type": "execute_result"
    }
   ],
   "source": [
    "baseball_data_2018.head()\n"
   ]
  },
  {
   "cell_type": "code",
   "execution_count": 38,
   "metadata": {},
   "outputs": [
    {
     "name": "stderr",
     "output_type": "stream",
     "text": [
      "C:\\Users\\willi\\Anaconda3\\lib\\site-packages\\pandas\\core\\ops\\__init__.py:1115: FutureWarning: elementwise comparison failed; returning scalar instead, but in the future will perform elementwise comparison\n",
      "  result = method(y)\n"
     ]
    }
   ],
   "source": [
    "baseball_data_2018 = baseball_data_2018[baseball_data_2018['home_open_odds'] != 'NL'] "
   ]
  },
  {
   "cell_type": "code",
   "execution_count": null,
   "metadata": {},
   "outputs": [],
   "source": []
  },
  {
   "cell_type": "code",
   "execution_count": 39,
   "metadata": {},
   "outputs": [
    {
     "data": {
      "text/html": [
       "<div>\n",
       "<style scoped>\n",
       "    .dataframe tbody tr th:only-of-type {\n",
       "        vertical-align: middle;\n",
       "    }\n",
       "\n",
       "    .dataframe tbody tr th {\n",
       "        vertical-align: top;\n",
       "    }\n",
       "\n",
       "    .dataframe thead th {\n",
       "        text-align: right;\n",
       "    }\n",
       "</style>\n",
       "<table border=\"1\" class=\"dataframe\">\n",
       "  <thead>\n",
       "    <tr style=\"text-align: right;\">\n",
       "      <th></th>\n",
       "      <th>home</th>\n",
       "      <th>visitor</th>\n",
       "      <th>home_open_odds</th>\n",
       "      <th>visitor_open_odds</th>\n",
       "      <th>home_close_odds</th>\n",
       "      <th>visitor_close_odds</th>\n",
       "      <th>home_win_loss</th>\n",
       "      <th>visitor_win_loss</th>\n",
       "      <th>Home_PitchingK%</th>\n",
       "      <th>Home_PitchingBB%</th>\n",
       "      <th>...</th>\n",
       "      <th>Visitor_PitchingOBP_allowed</th>\n",
       "      <th>Visitor_PitchingSLG%_allowed</th>\n",
       "      <th>Home_HittingK%</th>\n",
       "      <th>Home_HittingBB%</th>\n",
       "      <th>Home_HittingOBP</th>\n",
       "      <th>Home_HittingSLG%</th>\n",
       "      <th>Visitor_HittingK%</th>\n",
       "      <th>Visitor_HittingBB%</th>\n",
       "      <th>Visitor_HittingOBP</th>\n",
       "      <th>Visitor_HittingSLG%</th>\n",
       "    </tr>\n",
       "    <tr>\n",
       "      <th>Date</th>\n",
       "      <th></th>\n",
       "      <th></th>\n",
       "      <th></th>\n",
       "      <th></th>\n",
       "      <th></th>\n",
       "      <th></th>\n",
       "      <th></th>\n",
       "      <th></th>\n",
       "      <th></th>\n",
       "      <th></th>\n",
       "      <th></th>\n",
       "      <th></th>\n",
       "      <th></th>\n",
       "      <th></th>\n",
       "      <th></th>\n",
       "      <th></th>\n",
       "      <th></th>\n",
       "      <th></th>\n",
       "      <th></th>\n",
       "      <th></th>\n",
       "      <th></th>\n",
       "    </tr>\n",
       "  </thead>\n",
       "  <tbody>\n",
       "    <tr>\n",
       "      <td>2018-04-08</td>\n",
       "      <td>PIT</td>\n",
       "      <td>CIN</td>\n",
       "      <td>-150</td>\n",
       "      <td>135</td>\n",
       "      <td>-155.0</td>\n",
       "      <td>140.0</td>\n",
       "      <td>1</td>\n",
       "      <td>0</td>\n",
       "      <td>0.193939</td>\n",
       "      <td>0.112121</td>\n",
       "      <td>...</td>\n",
       "      <td>0.350365</td>\n",
       "      <td>0.459574</td>\n",
       "      <td>0.153846</td>\n",
       "      <td>0.107692</td>\n",
       "      <td>0.357143</td>\n",
       "      <td>0.441281</td>\n",
       "      <td>0.234201</td>\n",
       "      <td>0.096654</td>\n",
       "      <td>0.334586</td>\n",
       "      <td>0.378723</td>\n",
       "    </tr>\n",
       "    <tr>\n",
       "      <td>2018-04-08</td>\n",
       "      <td>PHI</td>\n",
       "      <td>MIA</td>\n",
       "      <td>-185</td>\n",
       "      <td>165</td>\n",
       "      <td>-200.0</td>\n",
       "      <td>175.0</td>\n",
       "      <td>0</td>\n",
       "      <td>1</td>\n",
       "      <td>0.212687</td>\n",
       "      <td>0.082090</td>\n",
       "      <td>...</td>\n",
       "      <td>0.353887</td>\n",
       "      <td>0.455657</td>\n",
       "      <td>0.274368</td>\n",
       "      <td>0.126354</td>\n",
       "      <td>0.334545</td>\n",
       "      <td>0.402542</td>\n",
       "      <td>0.228739</td>\n",
       "      <td>0.087977</td>\n",
       "      <td>0.297059</td>\n",
       "      <td>0.278689</td>\n",
       "    </tr>\n",
       "    <tr>\n",
       "      <td>2018-04-08</td>\n",
       "      <td>MIL</td>\n",
       "      <td>CUB</td>\n",
       "      <td>115</td>\n",
       "      <td>-130</td>\n",
       "      <td>104.0</td>\n",
       "      <td>-114.0</td>\n",
       "      <td>0</td>\n",
       "      <td>1</td>\n",
       "      <td>0.222527</td>\n",
       "      <td>0.087912</td>\n",
       "      <td>...</td>\n",
       "      <td>0.319149</td>\n",
       "      <td>0.314685</td>\n",
       "      <td>0.247126</td>\n",
       "      <td>0.063218</td>\n",
       "      <td>0.300578</td>\n",
       "      <td>0.383648</td>\n",
       "      <td>0.238764</td>\n",
       "      <td>0.109551</td>\n",
       "      <td>0.325779</td>\n",
       "      <td>0.370492</td>\n",
       "    </tr>\n",
       "    <tr>\n",
       "      <td>2018-04-08</td>\n",
       "      <td>STL</td>\n",
       "      <td>ARI</td>\n",
       "      <td>-145</td>\n",
       "      <td>130</td>\n",
       "      <td>-165.0</td>\n",
       "      <td>145.0</td>\n",
       "      <td>0</td>\n",
       "      <td>1</td>\n",
       "      <td>0.238710</td>\n",
       "      <td>0.109677</td>\n",
       "      <td>...</td>\n",
       "      <td>0.275974</td>\n",
       "      <td>0.354610</td>\n",
       "      <td>0.270903</td>\n",
       "      <td>0.073579</td>\n",
       "      <td>0.304348</td>\n",
       "      <td>0.416974</td>\n",
       "      <td>0.230769</td>\n",
       "      <td>0.132308</td>\n",
       "      <td>0.350932</td>\n",
       "      <td>0.400000</td>\n",
       "    </tr>\n",
       "    <tr>\n",
       "      <td>2018-04-08</td>\n",
       "      <td>COL</td>\n",
       "      <td>ATL</td>\n",
       "      <td>-140</td>\n",
       "      <td>125</td>\n",
       "      <td>-155.0</td>\n",
       "      <td>140.0</td>\n",
       "      <td>0</td>\n",
       "      <td>1</td>\n",
       "      <td>0.190616</td>\n",
       "      <td>0.111437</td>\n",
       "      <td>...</td>\n",
       "      <td>0.345455</td>\n",
       "      <td>0.402878</td>\n",
       "      <td>0.239193</td>\n",
       "      <td>0.106628</td>\n",
       "      <td>0.318841</td>\n",
       "      <td>0.416938</td>\n",
       "      <td>0.168675</td>\n",
       "      <td>0.105422</td>\n",
       "      <td>0.375385</td>\n",
       "      <td>0.464539</td>\n",
       "    </tr>\n",
       "  </tbody>\n",
       "</table>\n",
       "<p>5 rows × 24 columns</p>\n",
       "</div>"
      ],
      "text/plain": [
       "           home visitor  home_open_odds  visitor_open_odds  home_close_odds  \\\n",
       "Date                                                                          \n",
       "2018-04-08  PIT     CIN            -150                135           -155.0   \n",
       "2018-04-08  PHI     MIA            -185                165           -200.0   \n",
       "2018-04-08  MIL     CUB             115               -130            104.0   \n",
       "2018-04-08  STL     ARI            -145                130           -165.0   \n",
       "2018-04-08  COL     ATL            -140                125           -155.0   \n",
       "\n",
       "            visitor_close_odds  home_win_loss  visitor_win_loss  \\\n",
       "Date                                                              \n",
       "2018-04-08               140.0              1                 0   \n",
       "2018-04-08               175.0              0                 1   \n",
       "2018-04-08              -114.0              0                 1   \n",
       "2018-04-08               145.0              0                 1   \n",
       "2018-04-08               140.0              0                 1   \n",
       "\n",
       "            Home_PitchingK%  Home_PitchingBB%  ...  \\\n",
       "Date                                           ...   \n",
       "2018-04-08         0.193939          0.112121  ...   \n",
       "2018-04-08         0.212687          0.082090  ...   \n",
       "2018-04-08         0.222527          0.087912  ...   \n",
       "2018-04-08         0.238710          0.109677  ...   \n",
       "2018-04-08         0.190616          0.111437  ...   \n",
       "\n",
       "            Visitor_PitchingOBP_allowed  Visitor_PitchingSLG%_allowed  \\\n",
       "Date                                                                    \n",
       "2018-04-08                     0.350365                      0.459574   \n",
       "2018-04-08                     0.353887                      0.455657   \n",
       "2018-04-08                     0.319149                      0.314685   \n",
       "2018-04-08                     0.275974                      0.354610   \n",
       "2018-04-08                     0.345455                      0.402878   \n",
       "\n",
       "            Home_HittingK%  Home_HittingBB%  Home_HittingOBP  \\\n",
       "Date                                                           \n",
       "2018-04-08        0.153846         0.107692         0.357143   \n",
       "2018-04-08        0.274368         0.126354         0.334545   \n",
       "2018-04-08        0.247126         0.063218         0.300578   \n",
       "2018-04-08        0.270903         0.073579         0.304348   \n",
       "2018-04-08        0.239193         0.106628         0.318841   \n",
       "\n",
       "            Home_HittingSLG%  Visitor_HittingK%  Visitor_HittingBB%  \\\n",
       "Date                                                                  \n",
       "2018-04-08          0.441281           0.234201            0.096654   \n",
       "2018-04-08          0.402542           0.228739            0.087977   \n",
       "2018-04-08          0.383648           0.238764            0.109551   \n",
       "2018-04-08          0.416974           0.230769            0.132308   \n",
       "2018-04-08          0.416938           0.168675            0.105422   \n",
       "\n",
       "            Visitor_HittingOBP  Visitor_HittingSLG%  \n",
       "Date                                                 \n",
       "2018-04-08            0.334586             0.378723  \n",
       "2018-04-08            0.297059             0.278689  \n",
       "2018-04-08            0.325779             0.370492  \n",
       "2018-04-08            0.350932             0.400000  \n",
       "2018-04-08            0.375385             0.464539  \n",
       "\n",
       "[5 rows x 24 columns]"
      ]
     },
     "execution_count": 39,
     "metadata": {},
     "output_type": "execute_result"
    }
   ],
   "source": [
    "baseball_data_2018.head()"
   ]
  },
  {
   "cell_type": "code",
   "execution_count": 40,
   "metadata": {},
   "outputs": [
    {
     "data": {
      "text/plain": [
       "array(['home', 'visitor', 'home_open_odds', 'visitor_open_odds',\n",
       "       'home_close_odds', 'visitor_close_odds', 'home_win_loss',\n",
       "       'visitor_win_loss', 'Home_PitchingK%', 'Home_PitchingBB%',\n",
       "       'Home_PitchingOBP_allowed', 'Home_PitchingSLG%_allowed',\n",
       "       'Visitor_PitchingK%', 'Visitor_PitchingBB%',\n",
       "       'Visitor_PitchingOBP_allowed', 'Visitor_PitchingSLG%_allowed',\n",
       "       'Home_HittingK%', 'Home_HittingBB%', 'Home_HittingOBP',\n",
       "       'Home_HittingSLG%', 'Visitor_HittingK%', 'Visitor_HittingBB%',\n",
       "       'Visitor_HittingOBP', 'Visitor_HittingSLG%'], dtype=object)"
      ]
     },
     "execution_count": 40,
     "metadata": {},
     "output_type": "execute_result"
    }
   ],
   "source": [
    "baseball_data_2018.columns.values"
   ]
  },
  {
   "cell_type": "code",
   "execution_count": 85,
   "metadata": {},
   "outputs": [],
   "source": [
    "X = baseball_data_2018[['home_open_odds', 'visitor_open_odds','Home_PitchingK%', 'Home_PitchingBB%',\n",
    "       'Home_PitchingOBP_allowed', 'Home_PitchingSLG%_allowed',\n",
    "       'Visitor_PitchingK%', 'Visitor_PitchingBB%',\n",
    "       'Visitor_PitchingOBP_allowed', 'Visitor_PitchingSLG%_allowed',\n",
    "       'Home_HittingK%', 'Home_HittingBB%', 'Home_HittingOBP',\n",
    "       'Home_HittingSLG%', 'Visitor_HittingK%', 'Visitor_HittingBB%',\n",
    "       'Visitor_HittingOBP', 'Visitor_HittingSLG%']]\n",
    "y = baseball_data_2018['home_win_loss']"
   ]
  },
  {
   "cell_type": "code",
   "execution_count": null,
   "metadata": {},
   "outputs": [],
   "source": []
  },
  {
   "cell_type": "code",
   "execution_count": 86,
   "metadata": {},
   "outputs": [],
   "source": [
    "scaler = StandardScaler()\n",
    "X_transformed = scaler.fit_transform(X)"
   ]
  },
  {
   "cell_type": "code",
   "execution_count": 87,
   "metadata": {},
   "outputs": [
    {
     "data": {
      "text/plain": [
       "1157.5"
      ]
     },
     "execution_count": 87,
     "metadata": {},
     "output_type": "execute_result"
    }
   ],
   "source": [
    "len(baseball_data_2017) * 0.50"
   ]
  },
  {
   "cell_type": "code",
   "execution_count": 88,
   "metadata": {},
   "outputs": [
    {
     "data": {
      "text/html": [
       "<div>\n",
       "<style scoped>\n",
       "    .dataframe tbody tr th:only-of-type {\n",
       "        vertical-align: middle;\n",
       "    }\n",
       "\n",
       "    .dataframe tbody tr th {\n",
       "        vertical-align: top;\n",
       "    }\n",
       "\n",
       "    .dataframe thead th {\n",
       "        text-align: right;\n",
       "    }\n",
       "</style>\n",
       "<table border=\"1\" class=\"dataframe\">\n",
       "  <thead>\n",
       "    <tr style=\"text-align: right;\">\n",
       "      <th></th>\n",
       "      <th>home_open_odds</th>\n",
       "      <th>visitor_open_odds</th>\n",
       "      <th>Home_PitchingK%</th>\n",
       "      <th>Home_PitchingBB%</th>\n",
       "      <th>Home_PitchingOBP_allowed</th>\n",
       "      <th>Home_PitchingSLG%_allowed</th>\n",
       "      <th>Visitor_PitchingK%</th>\n",
       "      <th>Visitor_PitchingBB%</th>\n",
       "      <th>Visitor_PitchingOBP_allowed</th>\n",
       "      <th>Visitor_PitchingSLG%_allowed</th>\n",
       "      <th>Home_HittingK%</th>\n",
       "      <th>Home_HittingBB%</th>\n",
       "      <th>Home_HittingOBP</th>\n",
       "      <th>Home_HittingSLG%</th>\n",
       "      <th>Visitor_HittingK%</th>\n",
       "      <th>Visitor_HittingBB%</th>\n",
       "      <th>Visitor_HittingOBP</th>\n",
       "      <th>Visitor_HittingSLG%</th>\n",
       "    </tr>\n",
       "    <tr>\n",
       "      <th>Date</th>\n",
       "      <th></th>\n",
       "      <th></th>\n",
       "      <th></th>\n",
       "      <th></th>\n",
       "      <th></th>\n",
       "      <th></th>\n",
       "      <th></th>\n",
       "      <th></th>\n",
       "      <th></th>\n",
       "      <th></th>\n",
       "      <th></th>\n",
       "      <th></th>\n",
       "      <th></th>\n",
       "      <th></th>\n",
       "      <th></th>\n",
       "      <th></th>\n",
       "      <th></th>\n",
       "      <th></th>\n",
       "    </tr>\n",
       "  </thead>\n",
       "  <tbody>\n",
       "    <tr>\n",
       "      <td>2018-04-08</td>\n",
       "      <td>-150</td>\n",
       "      <td>135</td>\n",
       "      <td>0.193939</td>\n",
       "      <td>0.112121</td>\n",
       "      <td>0.341463</td>\n",
       "      <td>0.400697</td>\n",
       "      <td>0.163636</td>\n",
       "      <td>0.109091</td>\n",
       "      <td>0.350365</td>\n",
       "      <td>0.459574</td>\n",
       "      <td>0.153846</td>\n",
       "      <td>0.107692</td>\n",
       "      <td>0.357143</td>\n",
       "      <td>0.441281</td>\n",
       "      <td>0.234201</td>\n",
       "      <td>0.096654</td>\n",
       "      <td>0.334586</td>\n",
       "      <td>0.378723</td>\n",
       "    </tr>\n",
       "    <tr>\n",
       "      <td>2018-04-08</td>\n",
       "      <td>-185</td>\n",
       "      <td>165</td>\n",
       "      <td>0.212687</td>\n",
       "      <td>0.082090</td>\n",
       "      <td>0.325758</td>\n",
       "      <td>0.376068</td>\n",
       "      <td>0.218667</td>\n",
       "      <td>0.104000</td>\n",
       "      <td>0.353887</td>\n",
       "      <td>0.455657</td>\n",
       "      <td>0.274368</td>\n",
       "      <td>0.126354</td>\n",
       "      <td>0.334545</td>\n",
       "      <td>0.402542</td>\n",
       "      <td>0.228739</td>\n",
       "      <td>0.087977</td>\n",
       "      <td>0.297059</td>\n",
       "      <td>0.278689</td>\n",
       "    </tr>\n",
       "    <tr>\n",
       "      <td>2018-04-08</td>\n",
       "      <td>115</td>\n",
       "      <td>-130</td>\n",
       "      <td>0.222527</td>\n",
       "      <td>0.087912</td>\n",
       "      <td>0.333333</td>\n",
       "      <td>0.422840</td>\n",
       "      <td>0.216867</td>\n",
       "      <td>0.108434</td>\n",
       "      <td>0.319149</td>\n",
       "      <td>0.314685</td>\n",
       "      <td>0.247126</td>\n",
       "      <td>0.063218</td>\n",
       "      <td>0.300578</td>\n",
       "      <td>0.383648</td>\n",
       "      <td>0.238764</td>\n",
       "      <td>0.109551</td>\n",
       "      <td>0.325779</td>\n",
       "      <td>0.370492</td>\n",
       "    </tr>\n",
       "    <tr>\n",
       "      <td>2018-04-08</td>\n",
       "      <td>-145</td>\n",
       "      <td>130</td>\n",
       "      <td>0.238710</td>\n",
       "      <td>0.109677</td>\n",
       "      <td>0.349673</td>\n",
       "      <td>0.402256</td>\n",
       "      <td>0.275641</td>\n",
       "      <td>0.076923</td>\n",
       "      <td>0.275974</td>\n",
       "      <td>0.354610</td>\n",
       "      <td>0.270903</td>\n",
       "      <td>0.073579</td>\n",
       "      <td>0.304348</td>\n",
       "      <td>0.416974</td>\n",
       "      <td>0.230769</td>\n",
       "      <td>0.132308</td>\n",
       "      <td>0.350932</td>\n",
       "      <td>0.400000</td>\n",
       "    </tr>\n",
       "    <tr>\n",
       "      <td>2018-04-08</td>\n",
       "      <td>-140</td>\n",
       "      <td>125</td>\n",
       "      <td>0.190616</td>\n",
       "      <td>0.111437</td>\n",
       "      <td>0.338235</td>\n",
       "      <td>0.398649</td>\n",
       "      <td>0.228916</td>\n",
       "      <td>0.138554</td>\n",
       "      <td>0.345455</td>\n",
       "      <td>0.402878</td>\n",
       "      <td>0.239193</td>\n",
       "      <td>0.106628</td>\n",
       "      <td>0.318841</td>\n",
       "      <td>0.416938</td>\n",
       "      <td>0.168675</td>\n",
       "      <td>0.105422</td>\n",
       "      <td>0.375385</td>\n",
       "      <td>0.464539</td>\n",
       "    </tr>\n",
       "  </tbody>\n",
       "</table>\n",
       "</div>"
      ],
      "text/plain": [
       "            home_open_odds  visitor_open_odds  Home_PitchingK%  \\\n",
       "Date                                                             \n",
       "2018-04-08            -150                135         0.193939   \n",
       "2018-04-08            -185                165         0.212687   \n",
       "2018-04-08             115               -130         0.222527   \n",
       "2018-04-08            -145                130         0.238710   \n",
       "2018-04-08            -140                125         0.190616   \n",
       "\n",
       "            Home_PitchingBB%  Home_PitchingOBP_allowed  \\\n",
       "Date                                                     \n",
       "2018-04-08          0.112121                  0.341463   \n",
       "2018-04-08          0.082090                  0.325758   \n",
       "2018-04-08          0.087912                  0.333333   \n",
       "2018-04-08          0.109677                  0.349673   \n",
       "2018-04-08          0.111437                  0.338235   \n",
       "\n",
       "            Home_PitchingSLG%_allowed  Visitor_PitchingK%  \\\n",
       "Date                                                        \n",
       "2018-04-08                   0.400697            0.163636   \n",
       "2018-04-08                   0.376068            0.218667   \n",
       "2018-04-08                   0.422840            0.216867   \n",
       "2018-04-08                   0.402256            0.275641   \n",
       "2018-04-08                   0.398649            0.228916   \n",
       "\n",
       "            Visitor_PitchingBB%  Visitor_PitchingOBP_allowed  \\\n",
       "Date                                                           \n",
       "2018-04-08             0.109091                     0.350365   \n",
       "2018-04-08             0.104000                     0.353887   \n",
       "2018-04-08             0.108434                     0.319149   \n",
       "2018-04-08             0.076923                     0.275974   \n",
       "2018-04-08             0.138554                     0.345455   \n",
       "\n",
       "            Visitor_PitchingSLG%_allowed  Home_HittingK%  Home_HittingBB%  \\\n",
       "Date                                                                        \n",
       "2018-04-08                      0.459574        0.153846         0.107692   \n",
       "2018-04-08                      0.455657        0.274368         0.126354   \n",
       "2018-04-08                      0.314685        0.247126         0.063218   \n",
       "2018-04-08                      0.354610        0.270903         0.073579   \n",
       "2018-04-08                      0.402878        0.239193         0.106628   \n",
       "\n",
       "            Home_HittingOBP  Home_HittingSLG%  Visitor_HittingK%  \\\n",
       "Date                                                               \n",
       "2018-04-08         0.357143          0.441281           0.234201   \n",
       "2018-04-08         0.334545          0.402542           0.228739   \n",
       "2018-04-08         0.300578          0.383648           0.238764   \n",
       "2018-04-08         0.304348          0.416974           0.230769   \n",
       "2018-04-08         0.318841          0.416938           0.168675   \n",
       "\n",
       "            Visitor_HittingBB%  Visitor_HittingOBP  Visitor_HittingSLG%  \n",
       "Date                                                                     \n",
       "2018-04-08            0.096654            0.334586             0.378723  \n",
       "2018-04-08            0.087977            0.297059             0.278689  \n",
       "2018-04-08            0.109551            0.325779             0.370492  \n",
       "2018-04-08            0.132308            0.350932             0.400000  \n",
       "2018-04-08            0.105422            0.375385             0.464539  "
      ]
     },
     "execution_count": 88,
     "metadata": {},
     "output_type": "execute_result"
    }
   ],
   "source": [
    "X.head()"
   ]
  },
  {
   "cell_type": "code",
   "execution_count": 89,
   "metadata": {},
   "outputs": [],
   "source": [
    "X_train = X_transformed[:1158]\n",
    "X_test = X_transformed[1159:]\n",
    "y_train = y[:1158]\n",
    "y_test = y[1159:]"
   ]
  },
  {
   "cell_type": "code",
   "execution_count": 90,
   "metadata": {},
   "outputs": [
    {
     "name": "stderr",
     "output_type": "stream",
     "text": [
      "C:\\Users\\willi\\Anaconda3\\lib\\site-packages\\sklearn\\svm\\base.py:193: FutureWarning: The default value of gamma will change from 'auto' to 'scale' in version 0.22 to account better for unscaled features. Set gamma explicitly to 'auto' or 'scale' to avoid this warning.\n",
      "  \"avoid this warning.\", FutureWarning)\n"
     ]
    },
    {
     "data": {
      "text/plain": [
       "SVC(C=1.0, cache_size=200, class_weight=None, coef0=0.0,\n",
       "    decision_function_shape='ovr', degree=3, gamma='auto_deprecated',\n",
       "    kernel='rbf', max_iter=-1, probability=True, random_state=1, shrinking=True,\n",
       "    tol=0.001, verbose=False)"
      ]
     },
     "execution_count": 90,
     "metadata": {},
     "output_type": "execute_result"
    }
   ],
   "source": [
    "model = SVC(kernel = 'rbf', random_state = 1, probability = True)\n",
    "model.fit(X_train, y_train)"
   ]
  },
  {
   "cell_type": "code",
   "execution_count": 91,
   "metadata": {},
   "outputs": [
    {
     "data": {
      "text/plain": [
       "0.5916594265855778"
      ]
     },
     "execution_count": 91,
     "metadata": {},
     "output_type": "execute_result"
    }
   ],
   "source": [
    "model.score(X_test, y_test)"
   ]
  },
  {
   "cell_type": "code",
   "execution_count": 92,
   "metadata": {},
   "outputs": [],
   "source": [
    "rf_model = RandomForestClassifier(n_estimators= 1000, random_state= 1)"
   ]
  },
  {
   "cell_type": "code",
   "execution_count": 93,
   "metadata": {},
   "outputs": [
    {
     "data": {
      "text/plain": [
       "RandomForestClassifier(bootstrap=True, class_weight=None, criterion='gini',\n",
       "                       max_depth=None, max_features='auto', max_leaf_nodes=None,\n",
       "                       min_impurity_decrease=0.0, min_impurity_split=None,\n",
       "                       min_samples_leaf=1, min_samples_split=2,\n",
       "                       min_weight_fraction_leaf=0.0, n_estimators=1000,\n",
       "                       n_jobs=None, oob_score=False, random_state=1, verbose=0,\n",
       "                       warm_start=False)"
      ]
     },
     "execution_count": 93,
     "metadata": {},
     "output_type": "execute_result"
    }
   ],
   "source": [
    "rf_model.fit(X_train, y_train)"
   ]
  },
  {
   "cell_type": "code",
   "execution_count": 94,
   "metadata": {},
   "outputs": [],
   "source": [
    "predictions_rf = rf_model.predict(X_test)"
   ]
  },
  {
   "cell_type": "code",
   "execution_count": 95,
   "metadata": {},
   "outputs": [],
   "source": [
    "acc_score = accuracy_score(y_test, predictions_rf)"
   ]
  },
  {
   "cell_type": "code",
   "execution_count": 96,
   "metadata": {},
   "outputs": [],
   "source": [
    "importances = rf_model.feature_importances_"
   ]
  },
  {
   "cell_type": "code",
   "execution_count": 97,
   "metadata": {},
   "outputs": [
    {
     "data": {
      "text/plain": [
       "[(0.06185174560061404, 'Home_PitchingOBP_allowed'),\n",
       " (0.058797684825467544, 'Visitor_PitchingK%'),\n",
       " (0.05870756949312254, 'Home_PitchingK%'),\n",
       " (0.05768967382679909, 'home_open_odds'),\n",
       " (0.05680163998003066, 'visitor_open_odds'),\n",
       " (0.05590467243592977, 'Home_HittingSLG%'),\n",
       " (0.05542503848346521, 'Visitor_HittingSLG%'),\n",
       " (0.05503421328373044, 'Visitor_PitchingSLG%_allowed'),\n",
       " (0.054748542656268544, 'Home_HittingOBP'),\n",
       " (0.0547470021387975, 'Visitor_PitchingOBP_allowed'),\n",
       " (0.05459646747564976, 'Visitor_HittingBB%'),\n",
       " (0.0544505711789852, 'Home_PitchingBB%'),\n",
       " (0.054388598162900516, 'Visitor_HittingOBP'),\n",
       " (0.054140997826084704, 'Home_HittingK%'),\n",
       " (0.05397506130188192, 'Visitor_HittingK%'),\n",
       " (0.053163888904809026, 'Home_HittingBB%'),\n",
       " (0.05292707037045212, 'Home_PitchingSLG%_allowed'),\n",
       " (0.05264956205501136, 'Visitor_PitchingBB%')]"
      ]
     },
     "execution_count": 97,
     "metadata": {},
     "output_type": "execute_result"
    }
   ],
   "source": [
    "sorted(zip(rf_model.feature_importances_, X.columns), reverse=True)"
   ]
  },
  {
   "cell_type": "code",
   "execution_count": 84,
   "metadata": {},
   "outputs": [
    {
     "name": "stdout",
     "output_type": "stream",
     "text": [
      "0.5412684622067767\n"
     ]
    }
   ],
   "source": [
    "print(acc_score)"
   ]
  },
  {
   "cell_type": "code",
   "execution_count": 68,
   "metadata": {},
   "outputs": [
    {
     "name": "stdout",
     "output_type": "stream",
     "text": [
      "                   pre       rec       spe        f1       geo       iba       sup\n",
      "\n",
      "          0       0.54      0.50      0.64      0.52      0.57      0.32       531\n",
      "          1       0.60      0.64      0.50      0.62      0.57      0.32       620\n",
      "\n",
      "avg / total       0.57      0.58      0.56      0.57      0.57      0.32      1151\n",
      "\n"
     ]
    }
   ],
   "source": [
    "print(classification_report_imbalanced(y_test, predictions_rf))"
   ]
  },
  {
   "cell_type": "code",
   "execution_count": 53,
   "metadata": {},
   "outputs": [],
   "source": [
    "clf = AdaBoostClassifier(n_estimators = 2500, random_state = 1)"
   ]
  },
  {
   "cell_type": "code",
   "execution_count": 54,
   "metadata": {},
   "outputs": [
    {
     "data": {
      "text/plain": [
       "AdaBoostClassifier(algorithm='SAMME.R', base_estimator=None, learning_rate=1.0,\n",
       "                   n_estimators=2500, random_state=1)"
      ]
     },
     "execution_count": 54,
     "metadata": {},
     "output_type": "execute_result"
    }
   ],
   "source": [
    "clf.fit(X_train, y_train)"
   ]
  },
  {
   "cell_type": "code",
   "execution_count": 55,
   "metadata": {},
   "outputs": [],
   "source": [
    "predictions_clf = clf.predict(X_test)"
   ]
  },
  {
   "cell_type": "code",
   "execution_count": 56,
   "metadata": {},
   "outputs": [],
   "source": [
    "acc_score_clf = balanced_accuracy_score(y_test, predictions_clf)"
   ]
  },
  {
   "cell_type": "code",
   "execution_count": 57,
   "metadata": {},
   "outputs": [
    {
     "name": "stdout",
     "output_type": "stream",
     "text": [
      "0.5507502581860154\n"
     ]
    }
   ],
   "source": [
    "print(acc_score_clf)"
   ]
  },
  {
   "cell_type": "code",
   "execution_count": 58,
   "metadata": {},
   "outputs": [],
   "source": [
    "actual_df = pd.DataFrame(y_test)\n",
    "actual_df.reset_index(inplace = True)"
   ]
  },
  {
   "cell_type": "code",
   "execution_count": 59,
   "metadata": {},
   "outputs": [],
   "source": [
    "predict_df = pd.DataFrame(predictions_rf)\n"
   ]
  },
  {
   "cell_type": "code",
   "execution_count": 60,
   "metadata": {},
   "outputs": [],
   "source": [
    "actual_predict_df = pd.concat([actual_df,predict_df], axis = 1, join = 'inner')"
   ]
  },
  {
   "cell_type": "code",
   "execution_count": 61,
   "metadata": {},
   "outputs": [],
   "source": [
    "odds_df_new = baseball_data_2019[['home','visitor','home_open_odds','visitor_open_odds']][1160:]\n",
    "odds_df_new.reset_index(inplace = True)\n",
    "odds_df_new.drop(columns = ['Date'],inplace = True)"
   ]
  },
  {
   "cell_type": "code",
   "execution_count": 62,
   "metadata": {},
   "outputs": [],
   "source": [
    "df = pd.concat([actual_df,predict_df, odds_df_new], axis = 1, join ='inner')"
   ]
  },
  {
   "cell_type": "code",
   "execution_count": 63,
   "metadata": {},
   "outputs": [],
   "source": [
    "df.set_index('Date', inplace = True)"
   ]
  },
  {
   "cell_type": "code",
   "execution_count": 64,
   "metadata": {},
   "outputs": [],
   "source": [
    "df.columns = ['Actual','Predicted','Home','Visitor','Home_Open_Odds','Visitor_Open_Odds']"
   ]
  },
  {
   "cell_type": "code",
   "execution_count": 65,
   "metadata": {},
   "outputs": [
    {
     "data": {
      "text/html": [
       "<div>\n",
       "<style scoped>\n",
       "    .dataframe tbody tr th:only-of-type {\n",
       "        vertical-align: middle;\n",
       "    }\n",
       "\n",
       "    .dataframe tbody tr th {\n",
       "        vertical-align: top;\n",
       "    }\n",
       "\n",
       "    .dataframe thead th {\n",
       "        text-align: right;\n",
       "    }\n",
       "</style>\n",
       "<table border=\"1\" class=\"dataframe\">\n",
       "  <thead>\n",
       "    <tr style=\"text-align: right;\">\n",
       "      <th></th>\n",
       "      <th>Actual</th>\n",
       "      <th>Predicted</th>\n",
       "      <th>Home</th>\n",
       "      <th>Visitor</th>\n",
       "      <th>Home_Open_Odds</th>\n",
       "      <th>Visitor_Open_Odds</th>\n",
       "    </tr>\n",
       "    <tr>\n",
       "      <th>Date</th>\n",
       "      <th></th>\n",
       "      <th></th>\n",
       "      <th></th>\n",
       "      <th></th>\n",
       "      <th></th>\n",
       "      <th></th>\n",
       "    </tr>\n",
       "  </thead>\n",
       "  <tbody>\n",
       "    <tr>\n",
       "      <td>2018-07-04</td>\n",
       "      <td>0</td>\n",
       "      <td>0</td>\n",
       "      <td>TAM</td>\n",
       "      <td>BOS</td>\n",
       "      <td>134</td>\n",
       "      <td>-149</td>\n",
       "    </tr>\n",
       "    <tr>\n",
       "      <td>2018-07-04</td>\n",
       "      <td>0</td>\n",
       "      <td>0</td>\n",
       "      <td>MIN</td>\n",
       "      <td>BAL</td>\n",
       "      <td>-156</td>\n",
       "      <td>141</td>\n",
       "    </tr>\n",
       "    <tr>\n",
       "      <td>2018-07-04</td>\n",
       "      <td>0</td>\n",
       "      <td>0</td>\n",
       "      <td>SEA</td>\n",
       "      <td>OAK</td>\n",
       "      <td>-144</td>\n",
       "      <td>129</td>\n",
       "    </tr>\n",
       "    <tr>\n",
       "      <td>2018-07-04</td>\n",
       "      <td>1</td>\n",
       "      <td>1</td>\n",
       "      <td>DET</td>\n",
       "      <td>SFO</td>\n",
       "      <td>-111</td>\n",
       "      <td>101</td>\n",
       "    </tr>\n",
       "    <tr>\n",
       "      <td>2018-07-04</td>\n",
       "      <td>1</td>\n",
       "      <td>0</td>\n",
       "      <td>CLE</td>\n",
       "      <td>SDG</td>\n",
       "      <td>-184</td>\n",
       "      <td>164</td>\n",
       "    </tr>\n",
       "  </tbody>\n",
       "</table>\n",
       "</div>"
      ],
      "text/plain": [
       "            Actual  Predicted Home Visitor  Home_Open_Odds  Visitor_Open_Odds\n",
       "Date                                                                         \n",
       "2018-07-04       0          0  TAM     BOS             134               -149\n",
       "2018-07-04       0          0  MIN     BAL            -156                141\n",
       "2018-07-04       0          0  SEA     OAK            -144                129\n",
       "2018-07-04       1          1  DET     SFO            -111                101\n",
       "2018-07-04       1          0  CLE     SDG            -184                164"
      ]
     },
     "execution_count": 65,
     "metadata": {},
     "output_type": "execute_result"
    }
   ],
   "source": [
    "df.head()"
   ]
  },
  {
   "cell_type": "code",
   "execution_count": 66,
   "metadata": {},
   "outputs": [],
   "source": [
    "df.to_csv('./predictions_2018.csv')"
   ]
  },
  {
   "cell_type": "markdown",
   "metadata": {},
   "source": [
    "## Gambling Results\n",
    "---------------------"
   ]
  },
  {
   "cell_type": "markdown",
   "metadata": {},
   "source": [
    "Here we experiment with a few different gambling strategies based on our model's results"
   ]
  },
  {
   "cell_type": "code",
   "execution_count": null,
   "metadata": {},
   "outputs": [],
   "source": []
  }
 ],
 "metadata": {
  "kernelspec": {
   "display_name": "Python 3",
   "language": "python",
   "name": "python3"
  },
  "language_info": {
   "codemirror_mode": {
    "name": "ipython",
    "version": 3
   },
   "file_extension": ".py",
   "mimetype": "text/x-python",
   "name": "python",
   "nbconvert_exporter": "python",
   "pygments_lexer": "ipython3",
   "version": "3.7.3"
  }
 },
 "nbformat": 4,
 "nbformat_minor": 4
}
