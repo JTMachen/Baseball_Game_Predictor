{
 "cells": [
  {
   "cell_type": "markdown",
   "metadata": {},
   "source": [
    "# Baseball Game Predictor and Gambling Program\n",
    "----------------------------------------------"
   ]
  },
  {
   "cell_type": "markdown",
   "metadata": {},
   "source": [
    "This notebook will go through the entire process of pulling data, cleaning data, feature engineering, and machine learning model creation \n",
    "to predict games and ultimately show the results of a betting strategy based upon the model's predictions."
   ]
  },
  {
   "cell_type": "markdown",
   "metadata": {},
   "source": [
    "## Pulling Data from PyBaseball's API\n",
    "--------------------------------"
   ]
  },
  {
   "cell_type": "markdown",
   "metadata": {},
   "source": [
    "The initial raw data will be pulled from PyBaseball.  Two functions are being used that pull our batting and hitting statistics. The is a little light\n",
    "cleaning of the initial raw data to drop unneeded columns and format to a datetime index.  These function are located in the libs folder inside \n",
    "the PyBaseball_data_pull_and_cleaning.py file. After pulling and cleaning data the csv files were saved in the Data folder.  DO NOT RUN THESE\n",
    "CELLS.  The data has already been saved.  The process of pulling this data takes a considerable amount of time."
   ]
  },
  {
   "cell_type": "code",
   "execution_count": null,
   "metadata": {},
   "outputs": [],
   "source": [
    "# import functions from Libs\n",
    "from Libs.PyBaseball_data_pull_and_cleaning import get_batting_data, get_pitching_data, clean_batting_data, clean_pitching_data\n",
    "import pandas as pd"
   ]
  },
  {
   "cell_type": "code",
   "execution_count": null,
   "metadata": {},
   "outputs": [],
   "source": [
    "# Pull batting and pitching data for 2016, 2017, 2018, and 2019 \n",
    "batting_data_2016 = get_batting_data('2016-04-03', '2016-10-02')\n",
    "batting_data_2017 = get_batting_data('2017-04-02', '2017-10-01')\n",
    "batting_data_2018 = get_batting_data('2018-03-29', '2018-10-01')\n",
    "batting_data_2019 = get_batting_data('2019-03-28', '2019-09-29')\n",
    "\n",
    "pitching_data_2016 = get_pitching_data('2016-04-03','2016-10-02')\n",
    "pitching_data_2017 = get_pitching_data('2017-04-02', '2017-10-01')\n",
    "pitching_data_2018 = get_pitching_data('2018-03-29', '2018-10-01')\n",
    "pitching_data_2019 = get_pitching_data('2019-03-28', '2019-09-29')\n"
   ]
  },
  {
   "cell_type": "code",
   "execution_count": null,
   "metadata": {},
   "outputs": [],
   "source": [
    "# Example of raw batting_data.  These cells can be run.\n",
    "raw_hitting_data = pd.read_csv('./Data/Batting/Raw_Data/raw_batting_data_2017.csv')\n",
    "raw_hitting_data"
   ]
  },
  {
   "cell_type": "code",
   "execution_count": null,
   "metadata": {},
   "outputs": [],
   "source": [
    "# Example of raw pitching data\n",
    "raw_pitching_data = pd.read_csv('./Data/Pitching/Raw_Data/raw_pitching_data_2017.csv')\n",
    "raw_pitching_data.head()"
   ]
  },
  {
   "cell_type": "code",
   "execution_count": null,
   "metadata": {},
   "outputs": [],
   "source": [
    "# Initial light cleaning of pulled data \n",
    "batting_data_clean_2016 = clean_batting_data(batting_data_2016)\n",
    "batting_data_clean_2017 = clean_batting_data(batting_data_2017)\n",
    "batting_data_clean_2018 = clean_batting_data(batting_data_2018)\n",
    "batting_data_clean_2019 = clean_batting_data(batting_data_2019)\n",
    "pitching_data_clean_2016 = clean_pitching_data(pitching_data_2016)\n",
    "pitching_data_clean_2017 = clean_pitching_data(pitching_data_2017)\n",
    "pitching_data_clean_2018 = clean_pitching_data(pitching_data_2018)\n",
    "pitching_data_clean_2019 = clean_pitching_data(pitching_data_2019)\n"
   ]
  },
  {
   "cell_type": "code",
   "execution_count": null,
   "metadata": {},
   "outputs": [],
   "source": [
    "# Example of clean batting_data \n",
    "clean_hitting_data = pd.read_csv('./Data/Batting/Clean_Data/clean_batting_data_2017.csv', parse_dates = True, index_col = 'Date', infer_datetime_format = True)\n",
    "clean_hitting_data.head()"
   ]
  },
  {
   "cell_type": "code",
   "execution_count": null,
   "metadata": {},
   "outputs": [],
   "source": [
    "# Example of clean pitching_data\n",
    "clean_pitching_data = pd.read_csv('./Data/Pitching/Clean_Data/clean_pitching_data_2017.csv', parse_dates = True, index_col = 'Date', infer_datetime_format = True)\n",
    "clean_pitching_data.head()"
   ]
  },
  {
   "cell_type": "markdown",
   "metadata": {},
   "source": [
    "## Creating DataFrame for Feature Selection\n",
    "---------------------------------------------"
   ]
  },
  {
   "cell_type": "markdown",
   "metadata": {},
   "source": [
    "This section will create a dataframe from our saved batting and pitching csv files and concatenate it with the odds csv\n",
    "files we downloaded to create one dataframe for each season.  The functions used for this process are in the Training_DataFrame_creation.py\n",
    "file. The resulting dataframes have been saved in the Training Data folder.  Many different features were experimented with but ultimately\n",
    "these are the features we settled upon. A look back period of 10 days to calculate stats resulted in the best performing model."
   ]
  },
  {
   "cell_type": "code",
   "execution_count": null,
   "metadata": {},
   "outputs": [],
   "source": [
    "# Import functions for dataframe creation and pandas to read in csv files\n",
    "import pandas as pd\n",
    "from Libs.Training_DataFrame_creation import df_for_feature_selection"
   ]
  },
  {
   "cell_type": "code",
   "execution_count": null,
   "metadata": {},
   "outputs": [],
   "source": [
    "# Read in necessary data files for batting, pitching, and gambling odds\n",
    "batting_data_2016 = pd.read_csv('./Data/Batting/Clean_Data/clean_batting_data_2016.csv', parse_dates = True, index_col = 'Date', infer_datetime_format = True)\n",
    "batting_data_2017 = pd.read_csv('./Data/Batting/Clean_Data/clean_batting_data_2017.csv', parse_dates = True, index_col = 'Date', infer_datetime_format = True)\n",
    "batting_data_2018 = pd.read_csv('./Data/Batting/Clean_Data/clean_batting_data_2018.csv', parse_dates = True, index_col = 'Date', infer_datetime_format = True)\n",
    "batting_data_2019 = pd.read_csv('./Data/Batting/Clean_Data/clean_batting_data_2019.csv', parse_dates = True, index_col = 'Date', infer_datetime_format = True)\n",
    "\n",
    "pitching_data_2016 = pd.read_csv('./Data/Pitching/Clean_Data/clean_pitching_data_2016.csv', parse_dates = True, index_col = 'Date', infer_datetime_format = True)\n",
    "pitching_data_2017 = pd.read_csv('./Data/Pitching/Clean_Data/clean_pitching_data_2017.csv', parse_dates = True, index_col = 'Date', infer_datetime_format = True)\n",
    "pitching_data_2018 = pd.read_csv('./Data/Pitching/Clean_Data/clean_pitching_data_2018.csv', parse_dates = True, index_col = 'Date', infer_datetime_format = True)\n",
    "pitching_data_2019 = pd.read_csv('./Data/Pitching/Clean_Data/clean_pitching_data_2019.csv', parse_dates = True, index_col = 'Date', infer_datetime_format = True)\n",
    "\n",
    "odds_df_2016 = pd.read_csv('./Betting_Odds/Clean_Odds/mlb_odds_2016.csv', parse_dates = True, index_col = 'Date', infer_datetime_format = True)\n",
    "odds_df_2017 = pd.read_csv('./Betting_Odds/Clean_Odds/mlb_odds_2017.csv', parse_dates = True, index_col = 'Date', infer_datetime_format = True)\n",
    "odds_df_2018 = pd.read_csv('./Betting_Odds/Clean_Odds/mlb_odds_2018.csv', parse_dates = True, index_col = 'Date', infer_datetime_format = True)\n",
    "odds_df_2019 = pd.read_csv('./Betting_Odds/Clean_Odds/mlb_odds_2019.csv', parse_dates = True, index_col = 'Date', infer_datetime_format = True)\n"
   ]
  },
  {
   "cell_type": "code",
   "execution_count": null,
   "metadata": {},
   "outputs": [],
   "source": [
    "batting_data_2016.head()"
   ]
  },
  {
   "cell_type": "code",
   "execution_count": null,
   "metadata": {},
   "outputs": [],
   "source": [
    "pitching_data_2016.head()"
   ]
  },
  {
   "cell_type": "code",
   "execution_count": null,
   "metadata": {},
   "outputs": [],
   "source": [
    "odds_df_2016.head()"
   ]
  },
  {
   "cell_type": "code",
   "execution_count": null,
   "metadata": {},
   "outputs": [],
   "source": [
    "#Create training dataframes for each season\n",
    "training_df_2016 = df_for_feature_selection(odds_df_2016, batting_data_2016, pitching_data_2016, look_back = 10)\n",
    "training_df_2017 = df_for_feature_selection(odds_df_2017, batting_data_2017, pitching_data_2017, look_back = 10)\n",
    "training_df_2018 = df_for_feature_selection(odds_df_2018, batting_data_2018, pitching_data_2018, look_back = 10)\n",
    "training_df_2019 = df_for_feature_selection(odds_df_2019, batting_data_2019, pitching_data_2019, look_back = 10)\n"
   ]
  },
  {
   "cell_type": "code",
   "execution_count": null,
   "metadata": {},
   "outputs": [],
   "source": [
    "training_df_2016.head()"
   ]
  },
  {
   "cell_type": "code",
   "execution_count": null,
   "metadata": {},
   "outputs": [],
   "source": [
    "training_df_2017.head()"
   ]
  },
  {
   "cell_type": "code",
   "execution_count": null,
   "metadata": {},
   "outputs": [],
   "source": [
    "training_df_2018"
   ]
  },
  {
   "cell_type": "code",
   "execution_count": null,
   "metadata": {},
   "outputs": [],
   "source": [
    "training_df_2019.head()"
   ]
  },
  {
   "cell_type": "markdown",
   "metadata": {},
   "source": [
    "## Feature Selection and Stat Calculations "
   ]
  },
  {
   "cell_type": "markdown",
   "metadata": {},
   "source": [
    "Now that are dataframes are created for each season, our features are selected and stats are calculated using functions in the Baseball_stats.py\n",
    "file located in Libs."
   ]
  },
  {
   "cell_type": "code",
   "execution_count": null,
   "metadata": {},
   "outputs": [],
   "source": [
    "# import functions from Baseball_stats.py in Libs folder\n",
    "from Libs.Baseball_stats import baseball_stats_calculator_hitting, baseball_stats_calculator_pitching"
   ]
  },
  {
   "cell_type": "code",
   "execution_count": null,
   "metadata": {},
   "outputs": [],
   "source": [
    "# Calculate stats\n",
    "feature_df_hitting_2016 = baseball_stats_calculator_hitting(training_df_2016)\n",
    "final_feature_df_2016 = baseball_stats_calculator_pitching(feature_df_hitting_2016)\n",
    "feature_df_hitting_2017 = baseball_stats_calculator_hitting(training_df_2017)\n",
    "final_feature_df_2017 = baseball_stats_calculator_pitching(feature_df_hitting_2017)\n",
    "feature_df_hitting_2018 = baseball_stats_calculator_hitting(training_df_2018)\n",
    "final_feature_df_2018 = baseball_stats_calculator_pitching(feature_df_hitting_2018)\n",
    "feature_df_hitting_2019 = baseball_stats_calculator_hitting(training_df_2019)\n",
    "final_feature_df_2019 = baseball_stats_calculator_pitching(feature_df_hitting_2019)\n"
   ]
  },
  {
   "cell_type": "code",
   "execution_count": null,
   "metadata": {},
   "outputs": [],
   "source": [
    "final_feature_df_2016.head()"
   ]
  },
  {
   "cell_type": "code",
   "execution_count": null,
   "metadata": {},
   "outputs": [],
   "source": [
    "final_feature_df_2017.head()"
   ]
  },
  {
   "cell_type": "code",
   "execution_count": null,
   "metadata": {},
   "outputs": [],
   "source": [
    "final_feature_df_2018.head()"
   ]
  },
  {
   "cell_type": "code",
   "execution_count": null,
   "metadata": {},
   "outputs": [],
   "source": [
    "final_feature_df_2019.head()"
   ]
  },
  {
   "cell_type": "markdown",
   "metadata": {},
   "source": [
    "## Model creation\n",
    "---------------------"
   ]
  },
  {
   "cell_type": "markdown",
   "metadata": {},
   "source": [
    "We tried many different machine learning models such as SVM, RandomForestClassifier, AdaBoostClassifier, and Neural Networks. The AdaBoostClassifier\n",
    "returned the best model. "
   ]
  },
  {
   "cell_type": "code",
   "execution_count": 12,
   "metadata": {},
   "outputs": [],
   "source": [
    "import numpy as np\n",
    "import pandas as pd\n",
    "from sklearn.metrics import balanced_accuracy_score\n",
    "from sklearn.metrics import confusion_matrix\n",
    "from sklearn.ensemble import AdaBoostClassifier\n",
    "from sklearn.svm import SVC\n",
    "from sklearn.preprocessing import StandardScaler\n",
    "from sklearn.ensemble import RandomForestClassifier\n",
    "from sklearn.metrics import confusion_matrix, accuracy_score, classification_report\n",
    "\n",
    "\n"
   ]
  },
  {
   "cell_type": "code",
   "execution_count": 13,
   "metadata": {},
   "outputs": [],
   "source": [
    "baseball_data_2019 = pd.read_csv('./Training_Data/2019_10_day.csv',index_col = 'Date', infer_datetime_format = True, parse_dates = True)\n"
   ]
  },
  {
   "cell_type": "code",
   "execution_count": 14,
   "metadata": {},
   "outputs": [
    {
     "data": {
      "text/html": [
       "<div>\n",
       "<style scoped>\n",
       "    .dataframe tbody tr th:only-of-type {\n",
       "        vertical-align: middle;\n",
       "    }\n",
       "\n",
       "    .dataframe tbody tr th {\n",
       "        vertical-align: top;\n",
       "    }\n",
       "\n",
       "    .dataframe thead th {\n",
       "        text-align: right;\n",
       "    }\n",
       "</style>\n",
       "<table border=\"1\" class=\"dataframe\">\n",
       "  <thead>\n",
       "    <tr style=\"text-align: right;\">\n",
       "      <th></th>\n",
       "      <th>home</th>\n",
       "      <th>visitor</th>\n",
       "      <th>home_open_odds</th>\n",
       "      <th>visitor_open_odds</th>\n",
       "      <th>home_close_odds</th>\n",
       "      <th>visitor_close_odds</th>\n",
       "      <th>home_win_loss</th>\n",
       "      <th>visitor_win_loss</th>\n",
       "      <th>Home_PitchingK%</th>\n",
       "      <th>Home_PitchingBB%</th>\n",
       "      <th>...</th>\n",
       "      <th>Visitor_PitchingOBP_allowed</th>\n",
       "      <th>Visitor_PitchingSLG%_allowed</th>\n",
       "      <th>Home_HittingK%</th>\n",
       "      <th>Home_HittingBB%</th>\n",
       "      <th>Home_HittingOBP</th>\n",
       "      <th>Home_HittingSLG%</th>\n",
       "      <th>Visitor_HittingK%</th>\n",
       "      <th>Visitor_HittingBB%</th>\n",
       "      <th>Visitor_HittingOBP</th>\n",
       "      <th>Visitor_HittingSLG%</th>\n",
       "    </tr>\n",
       "    <tr>\n",
       "      <th>Date</th>\n",
       "      <th></th>\n",
       "      <th></th>\n",
       "      <th></th>\n",
       "      <th></th>\n",
       "      <th></th>\n",
       "      <th></th>\n",
       "      <th></th>\n",
       "      <th></th>\n",
       "      <th></th>\n",
       "      <th></th>\n",
       "      <th></th>\n",
       "      <th></th>\n",
       "      <th></th>\n",
       "      <th></th>\n",
       "      <th></th>\n",
       "      <th></th>\n",
       "      <th></th>\n",
       "      <th></th>\n",
       "      <th></th>\n",
       "      <th></th>\n",
       "      <th></th>\n",
       "    </tr>\n",
       "  </thead>\n",
       "  <tbody>\n",
       "    <tr>\n",
       "      <td>2019-04-13</td>\n",
       "      <td>WAS</td>\n",
       "      <td>PIT</td>\n",
       "      <td>NL</td>\n",
       "      <td>NL</td>\n",
       "      <td>-119</td>\n",
       "      <td>109</td>\n",
       "      <td>1</td>\n",
       "      <td>0</td>\n",
       "      <td>0.266026</td>\n",
       "      <td>0.092949</td>\n",
       "      <td>...</td>\n",
       "      <td>0.252280</td>\n",
       "      <td>0.359736</td>\n",
       "      <td>0.202985</td>\n",
       "      <td>0.122388</td>\n",
       "      <td>0.364458</td>\n",
       "      <td>0.496479</td>\n",
       "      <td>0.250000</td>\n",
       "      <td>0.062500</td>\n",
       "      <td>0.306306</td>\n",
       "      <td>0.401294</td>\n",
       "    </tr>\n",
       "    <tr>\n",
       "      <td>2019-04-18</td>\n",
       "      <td>TAM</td>\n",
       "      <td>BAL</td>\n",
       "      <td>NL</td>\n",
       "      <td>NL</td>\n",
       "      <td>-250</td>\n",
       "      <td>220</td>\n",
       "      <td>0</td>\n",
       "      <td>1</td>\n",
       "      <td>0.326241</td>\n",
       "      <td>0.070922</td>\n",
       "      <td>...</td>\n",
       "      <td>0.342246</td>\n",
       "      <td>0.537092</td>\n",
       "      <td>0.213650</td>\n",
       "      <td>0.130564</td>\n",
       "      <td>0.404762</td>\n",
       "      <td>0.574913</td>\n",
       "      <td>0.211382</td>\n",
       "      <td>0.089431</td>\n",
       "      <td>0.288828</td>\n",
       "      <td>0.373494</td>\n",
       "    </tr>\n",
       "    <tr>\n",
       "      <td>2019-04-20</td>\n",
       "      <td>CLE</td>\n",
       "      <td>ATL</td>\n",
       "      <td>NL</td>\n",
       "      <td>NL</td>\n",
       "      <td>-134</td>\n",
       "      <td>124</td>\n",
       "      <td>1</td>\n",
       "      <td>0</td>\n",
       "      <td>0.250859</td>\n",
       "      <td>0.092784</td>\n",
       "      <td>...</td>\n",
       "      <td>0.358108</td>\n",
       "      <td>0.417969</td>\n",
       "      <td>0.230508</td>\n",
       "      <td>0.105085</td>\n",
       "      <td>0.306122</td>\n",
       "      <td>0.323077</td>\n",
       "      <td>0.278986</td>\n",
       "      <td>0.112319</td>\n",
       "      <td>0.350365</td>\n",
       "      <td>0.458333</td>\n",
       "    </tr>\n",
       "    <tr>\n",
       "      <td>2019-04-28</td>\n",
       "      <td>CWS</td>\n",
       "      <td>DET</td>\n",
       "      <td>NL</td>\n",
       "      <td>NL</td>\n",
       "      <td>110</td>\n",
       "      <td>-120</td>\n",
       "      <td>1</td>\n",
       "      <td>0</td>\n",
       "      <td>0.204545</td>\n",
       "      <td>0.068182</td>\n",
       "      <td>...</td>\n",
       "      <td>0.377358</td>\n",
       "      <td>0.485816</td>\n",
       "      <td>0.200704</td>\n",
       "      <td>0.073944</td>\n",
       "      <td>0.352113</td>\n",
       "      <td>0.469466</td>\n",
       "      <td>0.245161</td>\n",
       "      <td>0.093548</td>\n",
       "      <td>0.367742</td>\n",
       "      <td>0.525547</td>\n",
       "    </tr>\n",
       "    <tr>\n",
       "      <td>2019-05-01</td>\n",
       "      <td>KAN</td>\n",
       "      <td>TAM</td>\n",
       "      <td>NL</td>\n",
       "      <td>NL</td>\n",
       "      <td>200</td>\n",
       "      <td>-220</td>\n",
       "      <td>1</td>\n",
       "      <td>0</td>\n",
       "      <td>0.171521</td>\n",
       "      <td>0.100324</td>\n",
       "      <td>...</td>\n",
       "      <td>0.303371</td>\n",
       "      <td>0.403433</td>\n",
       "      <td>0.250825</td>\n",
       "      <td>0.085809</td>\n",
       "      <td>0.313531</td>\n",
       "      <td>0.424354</td>\n",
       "      <td>0.258555</td>\n",
       "      <td>0.114068</td>\n",
       "      <td>0.319392</td>\n",
       "      <td>0.385965</td>\n",
       "    </tr>\n",
       "  </tbody>\n",
       "</table>\n",
       "<p>5 rows × 24 columns</p>\n",
       "</div>"
      ],
      "text/plain": [
       "           home visitor home_open_odds visitor_open_odds  home_close_odds  \\\n",
       "Date                                                                        \n",
       "2019-04-13  WAS     PIT             NL                NL             -119   \n",
       "2019-04-18  TAM     BAL             NL                NL             -250   \n",
       "2019-04-20  CLE     ATL             NL                NL             -134   \n",
       "2019-04-28  CWS     DET             NL                NL              110   \n",
       "2019-05-01  KAN     TAM             NL                NL              200   \n",
       "\n",
       "            visitor_close_odds  home_win_loss  visitor_win_loss  \\\n",
       "Date                                                              \n",
       "2019-04-13                 109              1                 0   \n",
       "2019-04-18                 220              0                 1   \n",
       "2019-04-20                 124              1                 0   \n",
       "2019-04-28                -120              1                 0   \n",
       "2019-05-01                -220              1                 0   \n",
       "\n",
       "            Home_PitchingK%  Home_PitchingBB%  ...  \\\n",
       "Date                                           ...   \n",
       "2019-04-13         0.266026          0.092949  ...   \n",
       "2019-04-18         0.326241          0.070922  ...   \n",
       "2019-04-20         0.250859          0.092784  ...   \n",
       "2019-04-28         0.204545          0.068182  ...   \n",
       "2019-05-01         0.171521          0.100324  ...   \n",
       "\n",
       "            Visitor_PitchingOBP_allowed  Visitor_PitchingSLG%_allowed  \\\n",
       "Date                                                                    \n",
       "2019-04-13                     0.252280                      0.359736   \n",
       "2019-04-18                     0.342246                      0.537092   \n",
       "2019-04-20                     0.358108                      0.417969   \n",
       "2019-04-28                     0.377358                      0.485816   \n",
       "2019-05-01                     0.303371                      0.403433   \n",
       "\n",
       "            Home_HittingK%  Home_HittingBB%  Home_HittingOBP  \\\n",
       "Date                                                           \n",
       "2019-04-13        0.202985         0.122388         0.364458   \n",
       "2019-04-18        0.213650         0.130564         0.404762   \n",
       "2019-04-20        0.230508         0.105085         0.306122   \n",
       "2019-04-28        0.200704         0.073944         0.352113   \n",
       "2019-05-01        0.250825         0.085809         0.313531   \n",
       "\n",
       "            Home_HittingSLG%  Visitor_HittingK%  Visitor_HittingBB%  \\\n",
       "Date                                                                  \n",
       "2019-04-13          0.496479           0.250000            0.062500   \n",
       "2019-04-18          0.574913           0.211382            0.089431   \n",
       "2019-04-20          0.323077           0.278986            0.112319   \n",
       "2019-04-28          0.469466           0.245161            0.093548   \n",
       "2019-05-01          0.424354           0.258555            0.114068   \n",
       "\n",
       "            Visitor_HittingOBP  Visitor_HittingSLG%  \n",
       "Date                                                 \n",
       "2019-04-13            0.306306             0.401294  \n",
       "2019-04-18            0.288828             0.373494  \n",
       "2019-04-20            0.350365             0.458333  \n",
       "2019-04-28            0.367742             0.525547  \n",
       "2019-05-01            0.319392             0.385965  \n",
       "\n",
       "[5 rows x 24 columns]"
      ]
     },
     "execution_count": 14,
     "metadata": {},
     "output_type": "execute_result"
    }
   ],
   "source": [
    "no_lines = baseball_data_2019[baseball_data_2019['home_open_odds'] == 'NL']\n",
    "no_lines.head()"
   ]
  },
  {
   "cell_type": "code",
   "execution_count": 15,
   "metadata": {},
   "outputs": [
    {
     "data": {
      "text/html": [
       "<div>\n",
       "<style scoped>\n",
       "    .dataframe tbody tr th:only-of-type {\n",
       "        vertical-align: middle;\n",
       "    }\n",
       "\n",
       "    .dataframe tbody tr th {\n",
       "        vertical-align: top;\n",
       "    }\n",
       "\n",
       "    .dataframe thead th {\n",
       "        text-align: right;\n",
       "    }\n",
       "</style>\n",
       "<table border=\"1\" class=\"dataframe\">\n",
       "  <thead>\n",
       "    <tr style=\"text-align: right;\">\n",
       "      <th></th>\n",
       "      <th>home</th>\n",
       "      <th>visitor</th>\n",
       "      <th>home_open_odds</th>\n",
       "      <th>visitor_open_odds</th>\n",
       "      <th>home_close_odds</th>\n",
       "      <th>visitor_close_odds</th>\n",
       "      <th>home_win_loss</th>\n",
       "      <th>visitor_win_loss</th>\n",
       "      <th>Home_PitchingK%</th>\n",
       "      <th>Home_PitchingBB%</th>\n",
       "      <th>...</th>\n",
       "      <th>Visitor_PitchingOBP_allowed</th>\n",
       "      <th>Visitor_PitchingSLG%_allowed</th>\n",
       "      <th>Home_HittingK%</th>\n",
       "      <th>Home_HittingBB%</th>\n",
       "      <th>Home_HittingOBP</th>\n",
       "      <th>Home_HittingSLG%</th>\n",
       "      <th>Visitor_HittingK%</th>\n",
       "      <th>Visitor_HittingBB%</th>\n",
       "      <th>Visitor_HittingOBP</th>\n",
       "      <th>Visitor_HittingSLG%</th>\n",
       "    </tr>\n",
       "    <tr>\n",
       "      <th>Date</th>\n",
       "      <th></th>\n",
       "      <th></th>\n",
       "      <th></th>\n",
       "      <th></th>\n",
       "      <th></th>\n",
       "      <th></th>\n",
       "      <th></th>\n",
       "      <th></th>\n",
       "      <th></th>\n",
       "      <th></th>\n",
       "      <th></th>\n",
       "      <th></th>\n",
       "      <th></th>\n",
       "      <th></th>\n",
       "      <th></th>\n",
       "      <th></th>\n",
       "      <th></th>\n",
       "      <th></th>\n",
       "      <th></th>\n",
       "      <th></th>\n",
       "      <th></th>\n",
       "    </tr>\n",
       "  </thead>\n",
       "  <tbody>\n",
       "    <tr>\n",
       "      <td>2019-03-30</td>\n",
       "      <td>WAS</td>\n",
       "      <td>NYM</td>\n",
       "      <td>-130</td>\n",
       "      <td>110</td>\n",
       "      <td>-112</td>\n",
       "      <td>102</td>\n",
       "      <td>0</td>\n",
       "      <td>1</td>\n",
       "      <td>0.352941</td>\n",
       "      <td>0.088235</td>\n",
       "      <td>...</td>\n",
       "      <td>0.212121</td>\n",
       "      <td>0.193548</td>\n",
       "      <td>0.424242</td>\n",
       "      <td>0.030303</td>\n",
       "      <td>0.212121</td>\n",
       "      <td>0.193548</td>\n",
       "      <td>0.352941</td>\n",
       "      <td>0.088235</td>\n",
       "      <td>0.235294</td>\n",
       "      <td>0.258065</td>\n",
       "    </tr>\n",
       "    <tr>\n",
       "      <td>2019-03-30</td>\n",
       "      <td>PHI</td>\n",
       "      <td>ATL</td>\n",
       "      <td>-145</td>\n",
       "      <td>125</td>\n",
       "      <td>-145</td>\n",
       "      <td>135</td>\n",
       "      <td>1</td>\n",
       "      <td>0</td>\n",
       "      <td>0.250000</td>\n",
       "      <td>0.166667</td>\n",
       "      <td>...</td>\n",
       "      <td>0.351351</td>\n",
       "      <td>0.516129</td>\n",
       "      <td>0.243243</td>\n",
       "      <td>0.162162</td>\n",
       "      <td>0.351351</td>\n",
       "      <td>0.516129</td>\n",
       "      <td>0.250000</td>\n",
       "      <td>0.166667</td>\n",
       "      <td>0.361111</td>\n",
       "      <td>0.366667</td>\n",
       "    </tr>\n",
       "    <tr>\n",
       "      <td>2019-03-30</td>\n",
       "      <td>MIA</td>\n",
       "      <td>COL</td>\n",
       "      <td>125</td>\n",
       "      <td>-145</td>\n",
       "      <td>118</td>\n",
       "      <td>-128</td>\n",
       "      <td>1</td>\n",
       "      <td>0</td>\n",
       "      <td>0.148148</td>\n",
       "      <td>0.086420</td>\n",
       "      <td>...</td>\n",
       "      <td>0.184615</td>\n",
       "      <td>0.305085</td>\n",
       "      <td>0.246154</td>\n",
       "      <td>0.061538</td>\n",
       "      <td>0.184615</td>\n",
       "      <td>0.305085</td>\n",
       "      <td>0.148148</td>\n",
       "      <td>0.086420</td>\n",
       "      <td>0.333333</td>\n",
       "      <td>0.432432</td>\n",
       "    </tr>\n",
       "    <tr>\n",
       "      <td>2019-03-30</td>\n",
       "      <td>MIL</td>\n",
       "      <td>STL</td>\n",
       "      <td>-125</td>\n",
       "      <td>105</td>\n",
       "      <td>-132</td>\n",
       "      <td>122</td>\n",
       "      <td>1</td>\n",
       "      <td>0</td>\n",
       "      <td>0.253012</td>\n",
       "      <td>0.108434</td>\n",
       "      <td>...</td>\n",
       "      <td>0.298507</td>\n",
       "      <td>0.508197</td>\n",
       "      <td>0.194030</td>\n",
       "      <td>0.059701</td>\n",
       "      <td>0.298507</td>\n",
       "      <td>0.508197</td>\n",
       "      <td>0.253012</td>\n",
       "      <td>0.108434</td>\n",
       "      <td>0.353659</td>\n",
       "      <td>0.555556</td>\n",
       "    </tr>\n",
       "    <tr>\n",
       "      <td>2019-03-30</td>\n",
       "      <td>SDG</td>\n",
       "      <td>SFO</td>\n",
       "      <td>-125</td>\n",
       "      <td>105</td>\n",
       "      <td>-130</td>\n",
       "      <td>120</td>\n",
       "      <td>0</td>\n",
       "      <td>1</td>\n",
       "      <td>0.250000</td>\n",
       "      <td>0.058824</td>\n",
       "      <td>...</td>\n",
       "      <td>0.322581</td>\n",
       "      <td>0.418182</td>\n",
       "      <td>0.290323</td>\n",
       "      <td>0.080645</td>\n",
       "      <td>0.322581</td>\n",
       "      <td>0.418182</td>\n",
       "      <td>0.250000</td>\n",
       "      <td>0.058824</td>\n",
       "      <td>0.235294</td>\n",
       "      <td>0.269841</td>\n",
       "    </tr>\n",
       "  </tbody>\n",
       "</table>\n",
       "<p>5 rows × 24 columns</p>\n",
       "</div>"
      ],
      "text/plain": [
       "           home visitor home_open_odds visitor_open_odds  home_close_odds  \\\n",
       "Date                                                                        \n",
       "2019-03-30  WAS     NYM           -130               110             -112   \n",
       "2019-03-30  PHI     ATL           -145               125             -145   \n",
       "2019-03-30  MIA     COL            125              -145              118   \n",
       "2019-03-30  MIL     STL           -125               105             -132   \n",
       "2019-03-30  SDG     SFO           -125               105             -130   \n",
       "\n",
       "            visitor_close_odds  home_win_loss  visitor_win_loss  \\\n",
       "Date                                                              \n",
       "2019-03-30                 102              0                 1   \n",
       "2019-03-30                 135              1                 0   \n",
       "2019-03-30                -128              1                 0   \n",
       "2019-03-30                 122              1                 0   \n",
       "2019-03-30                 120              0                 1   \n",
       "\n",
       "            Home_PitchingK%  Home_PitchingBB%  ...  \\\n",
       "Date                                           ...   \n",
       "2019-03-30         0.352941          0.088235  ...   \n",
       "2019-03-30         0.250000          0.166667  ...   \n",
       "2019-03-30         0.148148          0.086420  ...   \n",
       "2019-03-30         0.253012          0.108434  ...   \n",
       "2019-03-30         0.250000          0.058824  ...   \n",
       "\n",
       "            Visitor_PitchingOBP_allowed  Visitor_PitchingSLG%_allowed  \\\n",
       "Date                                                                    \n",
       "2019-03-30                     0.212121                      0.193548   \n",
       "2019-03-30                     0.351351                      0.516129   \n",
       "2019-03-30                     0.184615                      0.305085   \n",
       "2019-03-30                     0.298507                      0.508197   \n",
       "2019-03-30                     0.322581                      0.418182   \n",
       "\n",
       "            Home_HittingK%  Home_HittingBB%  Home_HittingOBP  \\\n",
       "Date                                                           \n",
       "2019-03-30        0.424242         0.030303         0.212121   \n",
       "2019-03-30        0.243243         0.162162         0.351351   \n",
       "2019-03-30        0.246154         0.061538         0.184615   \n",
       "2019-03-30        0.194030         0.059701         0.298507   \n",
       "2019-03-30        0.290323         0.080645         0.322581   \n",
       "\n",
       "            Home_HittingSLG%  Visitor_HittingK%  Visitor_HittingBB%  \\\n",
       "Date                                                                  \n",
       "2019-03-30          0.193548           0.352941            0.088235   \n",
       "2019-03-30          0.516129           0.250000            0.166667   \n",
       "2019-03-30          0.305085           0.148148            0.086420   \n",
       "2019-03-30          0.508197           0.253012            0.108434   \n",
       "2019-03-30          0.418182           0.250000            0.058824   \n",
       "\n",
       "            Visitor_HittingOBP  Visitor_HittingSLG%  \n",
       "Date                                                 \n",
       "2019-03-30            0.235294             0.258065  \n",
       "2019-03-30            0.361111             0.366667  \n",
       "2019-03-30            0.333333             0.432432  \n",
       "2019-03-30            0.353659             0.555556  \n",
       "2019-03-30            0.235294             0.269841  \n",
       "\n",
       "[5 rows x 24 columns]"
      ]
     },
     "execution_count": 15,
     "metadata": {},
     "output_type": "execute_result"
    }
   ],
   "source": [
    "baseball_data_2019.head()\n"
   ]
  },
  {
   "cell_type": "code",
   "execution_count": 23,
   "metadata": {},
   "outputs": [],
   "source": [
    "baseball_data_2019 = baseball_data_2019[baseball_data_2019['home_open_odds'] != 'NL'] "
   ]
  },
  {
   "cell_type": "code",
   "execution_count": null,
   "metadata": {},
   "outputs": [],
   "source": []
  },
  {
   "cell_type": "code",
   "execution_count": 24,
   "metadata": {},
   "outputs": [
    {
     "data": {
      "text/html": [
       "<div>\n",
       "<style scoped>\n",
       "    .dataframe tbody tr th:only-of-type {\n",
       "        vertical-align: middle;\n",
       "    }\n",
       "\n",
       "    .dataframe tbody tr th {\n",
       "        vertical-align: top;\n",
       "    }\n",
       "\n",
       "    .dataframe thead th {\n",
       "        text-align: right;\n",
       "    }\n",
       "</style>\n",
       "<table border=\"1\" class=\"dataframe\">\n",
       "  <thead>\n",
       "    <tr style=\"text-align: right;\">\n",
       "      <th></th>\n",
       "      <th>home</th>\n",
       "      <th>visitor</th>\n",
       "      <th>home_open_odds</th>\n",
       "      <th>visitor_open_odds</th>\n",
       "      <th>home_close_odds</th>\n",
       "      <th>visitor_close_odds</th>\n",
       "      <th>home_win_loss</th>\n",
       "      <th>visitor_win_loss</th>\n",
       "      <th>Home_PitchingK%</th>\n",
       "      <th>Home_PitchingBB%</th>\n",
       "      <th>...</th>\n",
       "      <th>Visitor_PitchingOBP_allowed</th>\n",
       "      <th>Visitor_PitchingSLG%_allowed</th>\n",
       "      <th>Home_HittingK%</th>\n",
       "      <th>Home_HittingBB%</th>\n",
       "      <th>Home_HittingOBP</th>\n",
       "      <th>Home_HittingSLG%</th>\n",
       "      <th>Visitor_HittingK%</th>\n",
       "      <th>Visitor_HittingBB%</th>\n",
       "      <th>Visitor_HittingOBP</th>\n",
       "      <th>Visitor_HittingSLG%</th>\n",
       "    </tr>\n",
       "    <tr>\n",
       "      <th>Date</th>\n",
       "      <th></th>\n",
       "      <th></th>\n",
       "      <th></th>\n",
       "      <th></th>\n",
       "      <th></th>\n",
       "      <th></th>\n",
       "      <th></th>\n",
       "      <th></th>\n",
       "      <th></th>\n",
       "      <th></th>\n",
       "      <th></th>\n",
       "      <th></th>\n",
       "      <th></th>\n",
       "      <th></th>\n",
       "      <th></th>\n",
       "      <th></th>\n",
       "      <th></th>\n",
       "      <th></th>\n",
       "      <th></th>\n",
       "      <th></th>\n",
       "      <th></th>\n",
       "    </tr>\n",
       "  </thead>\n",
       "  <tbody>\n",
       "    <tr>\n",
       "      <td>2019-03-30</td>\n",
       "      <td>WAS</td>\n",
       "      <td>NYM</td>\n",
       "      <td>-130</td>\n",
       "      <td>110</td>\n",
       "      <td>-112</td>\n",
       "      <td>102</td>\n",
       "      <td>0</td>\n",
       "      <td>1</td>\n",
       "      <td>0.352941</td>\n",
       "      <td>0.088235</td>\n",
       "      <td>...</td>\n",
       "      <td>0.212121</td>\n",
       "      <td>0.193548</td>\n",
       "      <td>0.424242</td>\n",
       "      <td>0.030303</td>\n",
       "      <td>0.212121</td>\n",
       "      <td>0.193548</td>\n",
       "      <td>0.352941</td>\n",
       "      <td>0.088235</td>\n",
       "      <td>0.235294</td>\n",
       "      <td>0.258065</td>\n",
       "    </tr>\n",
       "    <tr>\n",
       "      <td>2019-03-30</td>\n",
       "      <td>PHI</td>\n",
       "      <td>ATL</td>\n",
       "      <td>-145</td>\n",
       "      <td>125</td>\n",
       "      <td>-145</td>\n",
       "      <td>135</td>\n",
       "      <td>1</td>\n",
       "      <td>0</td>\n",
       "      <td>0.250000</td>\n",
       "      <td>0.166667</td>\n",
       "      <td>...</td>\n",
       "      <td>0.351351</td>\n",
       "      <td>0.516129</td>\n",
       "      <td>0.243243</td>\n",
       "      <td>0.162162</td>\n",
       "      <td>0.351351</td>\n",
       "      <td>0.516129</td>\n",
       "      <td>0.250000</td>\n",
       "      <td>0.166667</td>\n",
       "      <td>0.361111</td>\n",
       "      <td>0.366667</td>\n",
       "    </tr>\n",
       "    <tr>\n",
       "      <td>2019-03-30</td>\n",
       "      <td>MIA</td>\n",
       "      <td>COL</td>\n",
       "      <td>125</td>\n",
       "      <td>-145</td>\n",
       "      <td>118</td>\n",
       "      <td>-128</td>\n",
       "      <td>1</td>\n",
       "      <td>0</td>\n",
       "      <td>0.148148</td>\n",
       "      <td>0.086420</td>\n",
       "      <td>...</td>\n",
       "      <td>0.184615</td>\n",
       "      <td>0.305085</td>\n",
       "      <td>0.246154</td>\n",
       "      <td>0.061538</td>\n",
       "      <td>0.184615</td>\n",
       "      <td>0.305085</td>\n",
       "      <td>0.148148</td>\n",
       "      <td>0.086420</td>\n",
       "      <td>0.333333</td>\n",
       "      <td>0.432432</td>\n",
       "    </tr>\n",
       "    <tr>\n",
       "      <td>2019-03-30</td>\n",
       "      <td>MIL</td>\n",
       "      <td>STL</td>\n",
       "      <td>-125</td>\n",
       "      <td>105</td>\n",
       "      <td>-132</td>\n",
       "      <td>122</td>\n",
       "      <td>1</td>\n",
       "      <td>0</td>\n",
       "      <td>0.253012</td>\n",
       "      <td>0.108434</td>\n",
       "      <td>...</td>\n",
       "      <td>0.298507</td>\n",
       "      <td>0.508197</td>\n",
       "      <td>0.194030</td>\n",
       "      <td>0.059701</td>\n",
       "      <td>0.298507</td>\n",
       "      <td>0.508197</td>\n",
       "      <td>0.253012</td>\n",
       "      <td>0.108434</td>\n",
       "      <td>0.353659</td>\n",
       "      <td>0.555556</td>\n",
       "    </tr>\n",
       "    <tr>\n",
       "      <td>2019-03-30</td>\n",
       "      <td>SDG</td>\n",
       "      <td>SFO</td>\n",
       "      <td>-125</td>\n",
       "      <td>105</td>\n",
       "      <td>-130</td>\n",
       "      <td>120</td>\n",
       "      <td>0</td>\n",
       "      <td>1</td>\n",
       "      <td>0.250000</td>\n",
       "      <td>0.058824</td>\n",
       "      <td>...</td>\n",
       "      <td>0.322581</td>\n",
       "      <td>0.418182</td>\n",
       "      <td>0.290323</td>\n",
       "      <td>0.080645</td>\n",
       "      <td>0.322581</td>\n",
       "      <td>0.418182</td>\n",
       "      <td>0.250000</td>\n",
       "      <td>0.058824</td>\n",
       "      <td>0.235294</td>\n",
       "      <td>0.269841</td>\n",
       "    </tr>\n",
       "  </tbody>\n",
       "</table>\n",
       "<p>5 rows × 24 columns</p>\n",
       "</div>"
      ],
      "text/plain": [
       "           home visitor home_open_odds visitor_open_odds  home_close_odds  \\\n",
       "Date                                                                        \n",
       "2019-03-30  WAS     NYM           -130               110             -112   \n",
       "2019-03-30  PHI     ATL           -145               125             -145   \n",
       "2019-03-30  MIA     COL            125              -145              118   \n",
       "2019-03-30  MIL     STL           -125               105             -132   \n",
       "2019-03-30  SDG     SFO           -125               105             -130   \n",
       "\n",
       "            visitor_close_odds  home_win_loss  visitor_win_loss  \\\n",
       "Date                                                              \n",
       "2019-03-30                 102              0                 1   \n",
       "2019-03-30                 135              1                 0   \n",
       "2019-03-30                -128              1                 0   \n",
       "2019-03-30                 122              1                 0   \n",
       "2019-03-30                 120              0                 1   \n",
       "\n",
       "            Home_PitchingK%  Home_PitchingBB%  ...  \\\n",
       "Date                                           ...   \n",
       "2019-03-30         0.352941          0.088235  ...   \n",
       "2019-03-30         0.250000          0.166667  ...   \n",
       "2019-03-30         0.148148          0.086420  ...   \n",
       "2019-03-30         0.253012          0.108434  ...   \n",
       "2019-03-30         0.250000          0.058824  ...   \n",
       "\n",
       "            Visitor_PitchingOBP_allowed  Visitor_PitchingSLG%_allowed  \\\n",
       "Date                                                                    \n",
       "2019-03-30                     0.212121                      0.193548   \n",
       "2019-03-30                     0.351351                      0.516129   \n",
       "2019-03-30                     0.184615                      0.305085   \n",
       "2019-03-30                     0.298507                      0.508197   \n",
       "2019-03-30                     0.322581                      0.418182   \n",
       "\n",
       "            Home_HittingK%  Home_HittingBB%  Home_HittingOBP  \\\n",
       "Date                                                           \n",
       "2019-03-30        0.424242         0.030303         0.212121   \n",
       "2019-03-30        0.243243         0.162162         0.351351   \n",
       "2019-03-30        0.246154         0.061538         0.184615   \n",
       "2019-03-30        0.194030         0.059701         0.298507   \n",
       "2019-03-30        0.290323         0.080645         0.322581   \n",
       "\n",
       "            Home_HittingSLG%  Visitor_HittingK%  Visitor_HittingBB%  \\\n",
       "Date                                                                  \n",
       "2019-03-30          0.193548           0.352941            0.088235   \n",
       "2019-03-30          0.516129           0.250000            0.166667   \n",
       "2019-03-30          0.305085           0.148148            0.086420   \n",
       "2019-03-30          0.508197           0.253012            0.108434   \n",
       "2019-03-30          0.418182           0.250000            0.058824   \n",
       "\n",
       "            Visitor_HittingOBP  Visitor_HittingSLG%  \n",
       "Date                                                 \n",
       "2019-03-30            0.235294             0.258065  \n",
       "2019-03-30            0.361111             0.366667  \n",
       "2019-03-30            0.333333             0.432432  \n",
       "2019-03-30            0.353659             0.555556  \n",
       "2019-03-30            0.235294             0.269841  \n",
       "\n",
       "[5 rows x 24 columns]"
      ]
     },
     "execution_count": 24,
     "metadata": {},
     "output_type": "execute_result"
    }
   ],
   "source": [
    "baseball_data_2019.head()"
   ]
  },
  {
   "cell_type": "code",
   "execution_count": 25,
   "metadata": {},
   "outputs": [
    {
     "data": {
      "text/plain": [
       "array(['home', 'visitor', 'home_open_odds', 'visitor_open_odds',\n",
       "       'home_close_odds', 'visitor_close_odds', 'home_win_loss',\n",
       "       'visitor_win_loss', 'Home_PitchingK%', 'Home_PitchingBB%',\n",
       "       'Home_PitchingOBP_allowed', 'Home_PitchingSLG%_allowed',\n",
       "       'Visitor_PitchingK%', 'Visitor_PitchingBB%',\n",
       "       'Visitor_PitchingOBP_allowed', 'Visitor_PitchingSLG%_allowed',\n",
       "       'Home_HittingK%', 'Home_HittingBB%', 'Home_HittingOBP',\n",
       "       'Home_HittingSLG%', 'Visitor_HittingK%', 'Visitor_HittingBB%',\n",
       "       'Visitor_HittingOBP', 'Visitor_HittingSLG%'], dtype=object)"
      ]
     },
     "execution_count": 25,
     "metadata": {},
     "output_type": "execute_result"
    }
   ],
   "source": [
    "baseball_data_2019.columns.values"
   ]
  },
  {
   "cell_type": "code",
   "execution_count": 26,
   "metadata": {},
   "outputs": [],
   "source": [
    "X = baseball_data_2019[['home_open_odds', 'visitor_open_odds',\n",
    "       'home_close_odds', 'visitor_close_odds', 'Home_PitchingK%', 'Home_PitchingBB%',\n",
    "       'Home_PitchingOBP_allowed', 'Home_PitchingSLG%_allowed',\n",
    "       'Visitor_PitchingK%', 'Visitor_PitchingBB%',\n",
    "       'Visitor_PitchingOBP_allowed', 'Visitor_PitchingSLG%_allowed',\n",
    "       'Home_HittingK%', 'Home_HittingBB%', 'Home_HittingOBP',\n",
    "       'Home_HittingSLG%', 'Visitor_HittingK%', 'Visitor_HittingBB%',\n",
    "       'Visitor_HittingOBP', 'Visitor_HittingSLG%']]\n",
    "y = baseball_data_2019['home_win_loss']"
   ]
  },
  {
   "cell_type": "code",
   "execution_count": null,
   "metadata": {},
   "outputs": [],
   "source": []
  },
  {
   "cell_type": "code",
   "execution_count": 27,
   "metadata": {},
   "outputs": [],
   "source": [
    "scaler = StandardScaler()\n",
    "X_transformed = scaler.fit_transform(X)"
   ]
  },
  {
   "cell_type": "code",
   "execution_count": 28,
   "metadata": {},
   "outputs": [
    {
     "data": {
      "text/plain": [
       "1198.5"
      ]
     },
     "execution_count": 28,
     "metadata": {},
     "output_type": "execute_result"
    }
   ],
   "source": [
    "len(baseball_data_2019) * 0.50"
   ]
  },
  {
   "cell_type": "code",
   "execution_count": 29,
   "metadata": {},
   "outputs": [],
   "source": [
    "X_train = X_transformed[:1199]\n",
    "X_test = X_transformed[1200:]\n",
    "y_train = y[:1199]\n",
    "y_test = y[1200:]"
   ]
  },
  {
   "cell_type": "code",
   "execution_count": 30,
   "metadata": {},
   "outputs": [
    {
     "name": "stderr",
     "output_type": "stream",
     "text": [
      "C:\\Users\\willi\\Anaconda3\\lib\\site-packages\\sklearn\\svm\\base.py:193: FutureWarning: The default value of gamma will change from 'auto' to 'scale' in version 0.22 to account better for unscaled features. Set gamma explicitly to 'auto' or 'scale' to avoid this warning.\n",
      "  \"avoid this warning.\", FutureWarning)\n"
     ]
    },
    {
     "data": {
      "text/plain": [
       "SVC(C=1.0, cache_size=200, class_weight=None, coef0=0.0,\n",
       "    decision_function_shape='ovr', degree=3, gamma='auto_deprecated',\n",
       "    kernel='rbf', max_iter=-1, probability=True, random_state=1, shrinking=True,\n",
       "    tol=0.001, verbose=False)"
      ]
     },
     "execution_count": 30,
     "metadata": {},
     "output_type": "execute_result"
    }
   ],
   "source": [
    "model = SVC(kernel = 'rbf', random_state = 1, probability = True)\n",
    "model.fit(X_train, y_train)"
   ]
  },
  {
   "cell_type": "code",
   "execution_count": 31,
   "metadata": {},
   "outputs": [
    {
     "data": {
      "text/plain": [
       "0.6015037593984962"
      ]
     },
     "execution_count": 31,
     "metadata": {},
     "output_type": "execute_result"
    }
   ],
   "source": [
    "model.score(X_test, y_test)"
   ]
  },
  {
   "cell_type": "code",
   "execution_count": 32,
   "metadata": {},
   "outputs": [],
   "source": [
    "rf_model = RandomForestClassifier(n_estimators= 1000, random_state= 1)"
   ]
  },
  {
   "cell_type": "code",
   "execution_count": 33,
   "metadata": {},
   "outputs": [
    {
     "data": {
      "text/plain": [
       "RandomForestClassifier(bootstrap=True, class_weight=None, criterion='gini',\n",
       "                       max_depth=None, max_features='auto', max_leaf_nodes=None,\n",
       "                       min_impurity_decrease=0.0, min_impurity_split=None,\n",
       "                       min_samples_leaf=1, min_samples_split=2,\n",
       "                       min_weight_fraction_leaf=0.0, n_estimators=1000,\n",
       "                       n_jobs=None, oob_score=False, random_state=1, verbose=0,\n",
       "                       warm_start=False)"
      ]
     },
     "execution_count": 33,
     "metadata": {},
     "output_type": "execute_result"
    }
   ],
   "source": [
    "rf_model.fit(X_train, y_train)"
   ]
  },
  {
   "cell_type": "code",
   "execution_count": 34,
   "metadata": {},
   "outputs": [],
   "source": [
    "predictions_rf = rf_model.predict(X_test)"
   ]
  },
  {
   "cell_type": "code",
   "execution_count": 36,
   "metadata": {},
   "outputs": [],
   "source": [
    "acc_score = accuracy_score(y_test, predictions_rf)"
   ]
  },
  {
   "cell_type": "code",
   "execution_count": 37,
   "metadata": {},
   "outputs": [
    {
     "name": "stdout",
     "output_type": "stream",
     "text": [
      "0.5822890559732665\n"
     ]
    }
   ],
   "source": [
    "print(acc_score)"
   ]
  },
  {
   "cell_type": "code",
   "execution_count": 38,
   "metadata": {},
   "outputs": [],
   "source": [
    "clf = AdaBoostClassifier(n_estimators = 2500, random_state = 1)"
   ]
  },
  {
   "cell_type": "code",
   "execution_count": 39,
   "metadata": {},
   "outputs": [
    {
     "data": {
      "text/plain": [
       "AdaBoostClassifier(algorithm='SAMME.R', base_estimator=None, learning_rate=1.0,\n",
       "                   n_estimators=2500, random_state=1)"
      ]
     },
     "execution_count": 39,
     "metadata": {},
     "output_type": "execute_result"
    }
   ],
   "source": [
    "clf.fit(X_train, y_train)"
   ]
  },
  {
   "cell_type": "code",
   "execution_count": 40,
   "metadata": {},
   "outputs": [],
   "source": [
    "predictions_clf = clf.predict(X_test)"
   ]
  },
  {
   "cell_type": "code",
   "execution_count": 42,
   "metadata": {},
   "outputs": [],
   "source": [
    "acc_score_clf = balanced_accuracy_score(y_test, predictions_clf)"
   ]
  },
  {
   "cell_type": "code",
   "execution_count": 43,
   "metadata": {},
   "outputs": [
    {
     "name": "stdout",
     "output_type": "stream",
     "text": [
      "0.5486076098282411\n"
     ]
    }
   ],
   "source": [
    "print(acc_score_clf)"
   ]
  },
  {
   "cell_type": "code",
   "execution_count": 44,
   "metadata": {},
   "outputs": [],
   "source": [
    "actual_df = pd.DataFrame(y_test)\n",
    "actual_df.reset_index(inplace = True)"
   ]
  },
  {
   "cell_type": "code",
   "execution_count": 45,
   "metadata": {},
   "outputs": [],
   "source": [
    "predict_df = pd.DataFrame(predictions_rf)\n"
   ]
  },
  {
   "cell_type": "code",
   "execution_count": 46,
   "metadata": {},
   "outputs": [],
   "source": [
    "actual_predict_df = pd.concat([actual_df,predict_df], axis = 1, join = 'inner')"
   ]
  },
  {
   "cell_type": "code",
   "execution_count": 47,
   "metadata": {},
   "outputs": [],
   "source": [
    "odds_df_new = baseball_data_2019[['home','visitor','home_open_odds','visitor_open_odds']][1200:]\n",
    "odds_df_new.reset_index(inplace = True)\n",
    "odds_df_new.drop(columns = ['Date'],inplace = True)"
   ]
  },
  {
   "cell_type": "code",
   "execution_count": 48,
   "metadata": {},
   "outputs": [],
   "source": [
    "df = pd.concat([actual_df,predict_df, odds_df_new], axis = 1, join ='inner')"
   ]
  },
  {
   "cell_type": "code",
   "execution_count": 49,
   "metadata": {},
   "outputs": [],
   "source": [
    "df.set_index('Date', inplace = True)"
   ]
  },
  {
   "cell_type": "code",
   "execution_count": 50,
   "metadata": {},
   "outputs": [],
   "source": [
    "df.columns = ['Actual','Predicted','Home','Visitor','Home_Open_Odds','Visitor_Open_Odds']"
   ]
  },
  {
   "cell_type": "code",
   "execution_count": 51,
   "metadata": {},
   "outputs": [
    {
     "data": {
      "text/html": [
       "<div>\n",
       "<style scoped>\n",
       "    .dataframe tbody tr th:only-of-type {\n",
       "        vertical-align: middle;\n",
       "    }\n",
       "\n",
       "    .dataframe tbody tr th {\n",
       "        vertical-align: top;\n",
       "    }\n",
       "\n",
       "    .dataframe thead th {\n",
       "        text-align: right;\n",
       "    }\n",
       "</style>\n",
       "<table border=\"1\" class=\"dataframe\">\n",
       "  <thead>\n",
       "    <tr style=\"text-align: right;\">\n",
       "      <th></th>\n",
       "      <th>Actual</th>\n",
       "      <th>Predicted</th>\n",
       "      <th>Home</th>\n",
       "      <th>Visitor</th>\n",
       "      <th>Home_Open_Odds</th>\n",
       "      <th>Visitor_Open_Odds</th>\n",
       "    </tr>\n",
       "    <tr>\n",
       "      <th>Date</th>\n",
       "      <th></th>\n",
       "      <th></th>\n",
       "      <th></th>\n",
       "      <th></th>\n",
       "      <th></th>\n",
       "      <th></th>\n",
       "    </tr>\n",
       "  </thead>\n",
       "  <tbody>\n",
       "    <tr>\n",
       "      <td>2019-06-29</td>\n",
       "      <td>0</td>\n",
       "      <td>0</td>\n",
       "      <td>SFO</td>\n",
       "      <td>ARI</td>\n",
       "      <td>140</td>\n",
       "      <td>-160</td>\n",
       "    </tr>\n",
       "    <tr>\n",
       "      <td>2019-06-29</td>\n",
       "      <td>1</td>\n",
       "      <td>1</td>\n",
       "      <td>SDG</td>\n",
       "      <td>STL</td>\n",
       "      <td>-105</td>\n",
       "      <td>-115</td>\n",
       "    </tr>\n",
       "    <tr>\n",
       "      <td>2019-06-29</td>\n",
       "      <td>0</td>\n",
       "      <td>0</td>\n",
       "      <td>BOS</td>\n",
       "      <td>NYY</td>\n",
       "      <td>110</td>\n",
       "      <td>-130</td>\n",
       "    </tr>\n",
       "    <tr>\n",
       "      <td>2019-06-29</td>\n",
       "      <td>1</td>\n",
       "      <td>0</td>\n",
       "      <td>BAL</td>\n",
       "      <td>CLE</td>\n",
       "      <td>148</td>\n",
       "      <td>-170</td>\n",
       "    </tr>\n",
       "    <tr>\n",
       "      <td>2019-06-29</td>\n",
       "      <td>1</td>\n",
       "      <td>1</td>\n",
       "      <td>TOR</td>\n",
       "      <td>KAN</td>\n",
       "      <td>-140</td>\n",
       "      <td>120</td>\n",
       "    </tr>\n",
       "  </tbody>\n",
       "</table>\n",
       "</div>"
      ],
      "text/plain": [
       "            Actual  Predicted Home Visitor Home_Open_Odds Visitor_Open_Odds\n",
       "Date                                                                       \n",
       "2019-06-29       0          0  SFO     ARI            140              -160\n",
       "2019-06-29       1          1  SDG     STL           -105              -115\n",
       "2019-06-29       0          0  BOS     NYY            110              -130\n",
       "2019-06-29       1          0  BAL     CLE            148              -170\n",
       "2019-06-29       1          1  TOR     KAN           -140               120"
      ]
     },
     "execution_count": 51,
     "metadata": {},
     "output_type": "execute_result"
    }
   ],
   "source": [
    "df.head()"
   ]
  },
  {
   "cell_type": "code",
   "execution_count": 52,
   "metadata": {},
   "outputs": [],
   "source": [
    "df.to_csv('./predictions_2019.csv')"
   ]
  },
  {
   "cell_type": "markdown",
   "metadata": {},
   "source": [
    "## Gambling Results\n",
    "---------------------"
   ]
  },
  {
   "cell_type": "markdown",
   "metadata": {},
   "source": [
    "Here we experiment with a few different gambling strategies based on our model's results"
   ]
  },
  {
   "cell_type": "code",
   "execution_count": null,
   "metadata": {},
   "outputs": [],
   "source": []
  }
 ],
 "metadata": {
  "kernelspec": {
   "display_name": "Python 3",
   "language": "python",
   "name": "python3"
  },
  "language_info": {
   "codemirror_mode": {
    "name": "ipython",
    "version": 3
   },
   "file_extension": ".py",
   "mimetype": "text/x-python",
   "name": "python",
   "nbconvert_exporter": "python",
   "pygments_lexer": "ipython3",
   "version": "3.7.3"
  }
 },
 "nbformat": 4,
 "nbformat_minor": 4
}
