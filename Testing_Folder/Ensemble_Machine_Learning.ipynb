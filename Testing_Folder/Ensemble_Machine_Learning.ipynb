{
 "cells": [
  {
   "cell_type": "code",
   "execution_count": 1,
   "metadata": {},
   "outputs": [],
   "source": [
    "# Import libraries\n",
    "import warnings\n",
    "warnings.filterwarnings('ignore')\n",
    "import numpy as np\n",
    "import pandas as pd\n",
    "from pathlib import Path\n",
    "from collections import Counter\n",
    "from sklearn.metrics import balanced_accuracy_score\n",
    "from sklearn.metrics import confusion_matrix\n",
    "from imblearn.metrics import classification_report_imbalanced\n",
    "from sklearn.model_selection import train_test_split\n",
    "from sklearn.ensemble import RandomForestClassifier\n",
    "from sklearn.preprocessing import LabelEncoder, StandardScaler\n",
    "from sklearn.ensemble import AdaBoostClassifier\n",
    "from sklearn.datasets import make_classification"
   ]
  },
  {
   "cell_type": "code",
   "execution_count": 2,
   "metadata": {},
   "outputs": [],
   "source": [
    "# Import csv path/file\n",
    "csv_path = Path('../Project_2/Training_Data/2019_10_day.csv')\n",
    "df = pd.read_csv(csv_path, index_col = 'Date')\n",
    "csv_path_2 = Path('../10_Day_Lookback_2017.csv')\n",
    "df_2 = pd.read_csv(csv_path_2)"
   ]
  },
  {
   "cell_type": "code",
   "execution_count": 290,
   "metadata": {},
   "outputs": [],
   "source": [
    "df = df.replace([np.inf], 150)\n",
    "df = df.replace([np.NaN], 0)\n",
    "df = df.replace([-np.inf], -150)\n",
    "df_2 = df_2.replace([np.inf], 150)\n",
    "df_2 = df_2.replace([np.NaN], 0)\n",
    "df_2 = df_2.replace([-np.inf], -150)"
   ]
  },
  {
   "cell_type": "code",
   "execution_count": 3,
   "metadata": {},
   "outputs": [],
   "source": [
    "# Create our features\n",
    "X = df.iloc[:, 10::]\n",
    "# Create our target\n",
    "y = df['home_win_loss']"
   ]
  },
  {
   "cell_type": "code",
   "execution_count": 292,
   "metadata": {},
   "outputs": [
    {
     "data": {
      "text/html": [
       "<div>\n",
       "<style scoped>\n",
       "    .dataframe tbody tr th:only-of-type {\n",
       "        vertical-align: middle;\n",
       "    }\n",
       "\n",
       "    .dataframe tbody tr th {\n",
       "        vertical-align: top;\n",
       "    }\n",
       "\n",
       "    .dataframe thead th {\n",
       "        text-align: right;\n",
       "    }\n",
       "</style>\n",
       "<table border=\"1\" class=\"dataframe\">\n",
       "  <thead>\n",
       "    <tr style=\"text-align: right;\">\n",
       "      <th></th>\n",
       "      <th>Home_PitchingOBP_allowed</th>\n",
       "      <th>Home_PitchingSLG%_allowed</th>\n",
       "      <th>Visitor_PitchingK%</th>\n",
       "      <th>Visitor_PitchingBB%</th>\n",
       "      <th>Visitor_PitchingOBP_allowed</th>\n",
       "      <th>Visitor_PitchingSLG%_allowed</th>\n",
       "      <th>Home_HittingK%</th>\n",
       "      <th>Home_HittingBB%</th>\n",
       "      <th>Home_HittingOBP</th>\n",
       "      <th>Home_HittingSLG%</th>\n",
       "      <th>Visitor_HittingK%</th>\n",
       "      <th>Visitor_HittingBB%</th>\n",
       "      <th>Visitor_HittingOBP</th>\n",
       "      <th>Visitor_HittingSLG%</th>\n",
       "    </tr>\n",
       "    <tr>\n",
       "      <th>Date</th>\n",
       "      <th></th>\n",
       "      <th></th>\n",
       "      <th></th>\n",
       "      <th></th>\n",
       "      <th></th>\n",
       "      <th></th>\n",
       "      <th></th>\n",
       "      <th></th>\n",
       "      <th></th>\n",
       "      <th></th>\n",
       "      <th></th>\n",
       "      <th></th>\n",
       "      <th></th>\n",
       "      <th></th>\n",
       "    </tr>\n",
       "  </thead>\n",
       "  <tbody>\n",
       "    <tr>\n",
       "      <th>2019-03-30</th>\n",
       "      <td>0.235294</td>\n",
       "      <td>0.258065</td>\n",
       "      <td>0.424242</td>\n",
       "      <td>0.030303</td>\n",
       "      <td>0.212121</td>\n",
       "      <td>0.193548</td>\n",
       "      <td>0.424242</td>\n",
       "      <td>0.030303</td>\n",
       "      <td>0.212121</td>\n",
       "      <td>0.193548</td>\n",
       "      <td>0.352941</td>\n",
       "      <td>0.088235</td>\n",
       "      <td>0.235294</td>\n",
       "      <td>0.258065</td>\n",
       "    </tr>\n",
       "    <tr>\n",
       "      <th>2019-03-30</th>\n",
       "      <td>0.361111</td>\n",
       "      <td>0.366667</td>\n",
       "      <td>0.243243</td>\n",
       "      <td>0.162162</td>\n",
       "      <td>0.351351</td>\n",
       "      <td>0.516129</td>\n",
       "      <td>0.243243</td>\n",
       "      <td>0.162162</td>\n",
       "      <td>0.351351</td>\n",
       "      <td>0.516129</td>\n",
       "      <td>0.250000</td>\n",
       "      <td>0.166667</td>\n",
       "      <td>0.361111</td>\n",
       "      <td>0.366667</td>\n",
       "    </tr>\n",
       "    <tr>\n",
       "      <th>2019-03-30</th>\n",
       "      <td>0.333333</td>\n",
       "      <td>0.432432</td>\n",
       "      <td>0.246154</td>\n",
       "      <td>0.061538</td>\n",
       "      <td>0.184615</td>\n",
       "      <td>0.305085</td>\n",
       "      <td>0.246154</td>\n",
       "      <td>0.061538</td>\n",
       "      <td>0.184615</td>\n",
       "      <td>0.305085</td>\n",
       "      <td>0.148148</td>\n",
       "      <td>0.086420</td>\n",
       "      <td>0.333333</td>\n",
       "      <td>0.432432</td>\n",
       "    </tr>\n",
       "    <tr>\n",
       "      <th>2019-03-30</th>\n",
       "      <td>0.353659</td>\n",
       "      <td>0.555556</td>\n",
       "      <td>0.194030</td>\n",
       "      <td>0.059701</td>\n",
       "      <td>0.298507</td>\n",
       "      <td>0.508197</td>\n",
       "      <td>0.194030</td>\n",
       "      <td>0.059701</td>\n",
       "      <td>0.298507</td>\n",
       "      <td>0.508197</td>\n",
       "      <td>0.253012</td>\n",
       "      <td>0.108434</td>\n",
       "      <td>0.353659</td>\n",
       "      <td>0.555556</td>\n",
       "    </tr>\n",
       "    <tr>\n",
       "      <th>2019-03-30</th>\n",
       "      <td>0.235294</td>\n",
       "      <td>0.269841</td>\n",
       "      <td>0.290323</td>\n",
       "      <td>0.080645</td>\n",
       "      <td>0.322581</td>\n",
       "      <td>0.418182</td>\n",
       "      <td>0.290323</td>\n",
       "      <td>0.080645</td>\n",
       "      <td>0.322581</td>\n",
       "      <td>0.418182</td>\n",
       "      <td>0.250000</td>\n",
       "      <td>0.058824</td>\n",
       "      <td>0.235294</td>\n",
       "      <td>0.269841</td>\n",
       "    </tr>\n",
       "  </tbody>\n",
       "</table>\n",
       "</div>"
      ],
      "text/plain": [
       "            Home_PitchingOBP_allowed  Home_PitchingSLG%_allowed  \\\n",
       "Date                                                              \n",
       "2019-03-30                  0.235294                   0.258065   \n",
       "2019-03-30                  0.361111                   0.366667   \n",
       "2019-03-30                  0.333333                   0.432432   \n",
       "2019-03-30                  0.353659                   0.555556   \n",
       "2019-03-30                  0.235294                   0.269841   \n",
       "\n",
       "            Visitor_PitchingK%  Visitor_PitchingBB%  \\\n",
       "Date                                                  \n",
       "2019-03-30            0.424242             0.030303   \n",
       "2019-03-30            0.243243             0.162162   \n",
       "2019-03-30            0.246154             0.061538   \n",
       "2019-03-30            0.194030             0.059701   \n",
       "2019-03-30            0.290323             0.080645   \n",
       "\n",
       "            Visitor_PitchingOBP_allowed  Visitor_PitchingSLG%_allowed  \\\n",
       "Date                                                                    \n",
       "2019-03-30                     0.212121                      0.193548   \n",
       "2019-03-30                     0.351351                      0.516129   \n",
       "2019-03-30                     0.184615                      0.305085   \n",
       "2019-03-30                     0.298507                      0.508197   \n",
       "2019-03-30                     0.322581                      0.418182   \n",
       "\n",
       "            Home_HittingK%  Home_HittingBB%  Home_HittingOBP  \\\n",
       "Date                                                           \n",
       "2019-03-30        0.424242         0.030303         0.212121   \n",
       "2019-03-30        0.243243         0.162162         0.351351   \n",
       "2019-03-30        0.246154         0.061538         0.184615   \n",
       "2019-03-30        0.194030         0.059701         0.298507   \n",
       "2019-03-30        0.290323         0.080645         0.322581   \n",
       "\n",
       "            Home_HittingSLG%  Visitor_HittingK%  Visitor_HittingBB%  \\\n",
       "Date                                                                  \n",
       "2019-03-30          0.193548           0.352941            0.088235   \n",
       "2019-03-30          0.516129           0.250000            0.166667   \n",
       "2019-03-30          0.305085           0.148148            0.086420   \n",
       "2019-03-30          0.508197           0.253012            0.108434   \n",
       "2019-03-30          0.418182           0.250000            0.058824   \n",
       "\n",
       "            Visitor_HittingOBP  Visitor_HittingSLG%  \n",
       "Date                                                 \n",
       "2019-03-30            0.235294             0.258065  \n",
       "2019-03-30            0.361111             0.366667  \n",
       "2019-03-30            0.333333             0.432432  \n",
       "2019-03-30            0.353659             0.555556  \n",
       "2019-03-30            0.235294             0.269841  "
      ]
     },
     "execution_count": 292,
     "metadata": {},
     "output_type": "execute_result"
    }
   ],
   "source": [
    "X.head()"
   ]
  },
  {
   "cell_type": "code",
   "execution_count": 293,
   "metadata": {},
   "outputs": [
    {
     "data": {
      "text/plain": [
       "2402"
      ]
     },
     "execution_count": 293,
     "metadata": {},
     "output_type": "execute_result"
    }
   ],
   "source": [
    "len(y)"
   ]
  },
  {
   "cell_type": "code",
   "execution_count": 294,
   "metadata": {},
   "outputs": [
    {
     "data": {
      "text/plain": [
       "1271"
      ]
     },
     "execution_count": 294,
     "metadata": {},
     "output_type": "execute_result"
    }
   ],
   "source": [
    "len(y[y == 1])"
   ]
  },
  {
   "cell_type": "code",
   "execution_count": 295,
   "metadata": {},
   "outputs": [
    {
     "data": {
      "text/plain": [
       "(1801, 14)"
      ]
     },
     "execution_count": 295,
     "metadata": {},
     "output_type": "execute_result"
    }
   ],
   "source": [
    "X_train, X_test, y_train, y_test = train_test_split(X, \n",
    "                                                    y, \n",
    "                                                    random_state=9, \n",
    "                                                    stratify=y)\n",
    "X_train.shape"
   ]
  },
  {
   "cell_type": "code",
   "execution_count": 5,
   "metadata": {},
   "outputs": [],
   "source": [
    "X_train = X[:int(len(X)/3)]\n",
    "X_test = X[int(len(X)/3)+1:]\n",
    "y_train = y[:int(len(X)/3)]\n",
    "y_test = y[int(len(X)/3)+1:]"
   ]
  },
  {
   "cell_type": "code",
   "execution_count": 6,
   "metadata": {},
   "outputs": [],
   "source": [
    "scaler = StandardScaler()\n",
    "# Fitting Standard Scaller\n",
    "X_scaler = scaler.fit(X_train)\n",
    "# Scaling data\n",
    "X_train_scaled = X_scaler.transform(X_train)\n",
    "X_test_scaled = X_scaler.transform(X_test)"
   ]
  },
  {
   "cell_type": "code",
   "execution_count": 7,
   "metadata": {},
   "outputs": [],
   "source": [
    "rf_model = RandomForestClassifier(n_estimators=500, random_state=9)"
   ]
  },
  {
   "cell_type": "code",
   "execution_count": 8,
   "metadata": {},
   "outputs": [
    {
     "data": {
      "text/plain": [
       "RandomForestClassifier(bootstrap=True, class_weight=None, criterion='gini',\n",
       "                       max_depth=None, max_features='auto', max_leaf_nodes=None,\n",
       "                       min_impurity_decrease=0.0, min_impurity_split=None,\n",
       "                       min_samples_leaf=1, min_samples_split=2,\n",
       "                       min_weight_fraction_leaf=0.0, n_estimators=500,\n",
       "                       n_jobs=None, oob_score=False, random_state=9, verbose=0,\n",
       "                       warm_start=False)"
      ]
     },
     "execution_count": 8,
     "metadata": {},
     "output_type": "execute_result"
    }
   ],
   "source": [
    "rf_model.fit(X_train_scaled, y_train)"
   ]
  },
  {
   "cell_type": "code",
   "execution_count": 9,
   "metadata": {},
   "outputs": [],
   "source": [
    "predictions = rf_model.predict(X_test_scaled)"
   ]
  },
  {
   "cell_type": "code",
   "execution_count": 10,
   "metadata": {},
   "outputs": [],
   "source": [
    "# Calculating the confusion matrix\n",
    "cm = confusion_matrix(y_test, predictions)\n",
    "cm_df = pd.DataFrame(\n",
    "    cm, index=[\"Actual 0\", \"Actual 1\"], columns=[\"Predicted 0\", \"Predicted 1\"]\n",
    ")\n",
    "\n",
    "# Calculating the accuracy score\n",
    "acc_score = balanced_accuracy_score(y_test, predictions)"
   ]
  },
  {
   "cell_type": "code",
   "execution_count": 11,
   "metadata": {},
   "outputs": [
    {
     "name": "stdout",
     "output_type": "stream",
     "text": [
      "Confusion Matrix\n"
     ]
    },
    {
     "data": {
      "text/html": [
       "<div>\n",
       "<style scoped>\n",
       "    .dataframe tbody tr th:only-of-type {\n",
       "        vertical-align: middle;\n",
       "    }\n",
       "\n",
       "    .dataframe tbody tr th {\n",
       "        vertical-align: top;\n",
       "    }\n",
       "\n",
       "    .dataframe thead th {\n",
       "        text-align: right;\n",
       "    }\n",
       "</style>\n",
       "<table border=\"1\" class=\"dataframe\">\n",
       "  <thead>\n",
       "    <tr style=\"text-align: right;\">\n",
       "      <th></th>\n",
       "      <th>Predicted 0</th>\n",
       "      <th>Predicted 1</th>\n",
       "    </tr>\n",
       "  </thead>\n",
       "  <tbody>\n",
       "    <tr>\n",
       "      <th>Actual 0</th>\n",
       "      <td>341</td>\n",
       "      <td>411</td>\n",
       "    </tr>\n",
       "    <tr>\n",
       "      <th>Actual 1</th>\n",
       "      <td>353</td>\n",
       "      <td>496</td>\n",
       "    </tr>\n",
       "  </tbody>\n",
       "</table>\n",
       "</div>"
      ],
      "text/plain": [
       "          Predicted 0  Predicted 1\n",
       "Actual 0          341          411\n",
       "Actual 1          353          496"
      ]
     },
     "metadata": {},
     "output_type": "display_data"
    },
    {
     "name": "stdout",
     "output_type": "stream",
     "text": [
      "Accuracy Score : 0.5188370861839962\n",
      "Classification Report\n",
      "                   pre       rec       spe        f1       geo       iba       sup\n",
      "\n",
      "          0       0.49      0.45      0.58      0.47      0.51      0.26       752\n",
      "          1       0.55      0.58      0.45      0.56      0.51      0.27       849\n",
      "\n",
      "avg / total       0.52      0.52      0.51      0.52      0.51      0.27      1601\n",
      "\n"
     ]
    }
   ],
   "source": [
    "# Displaying results\n",
    "print(\"Confusion Matrix\")\n",
    "display(cm_df)\n",
    "print(f\"Accuracy Score : {acc_score}\")\n",
    "print(\"Classification Report\")\n",
    "print(classification_report_imbalanced(y_test, predictions))"
   ]
  },
  {
   "cell_type": "code",
   "execution_count": 12,
   "metadata": {},
   "outputs": [],
   "source": [
    "importances = rf_model.feature_importances_"
   ]
  },
  {
   "cell_type": "code",
   "execution_count": 13,
   "metadata": {},
   "outputs": [
    {
     "data": {
      "text/plain": [
       "[(0.07909057599831773, 'Home_PitchingOBP_allowed'),\n",
       " (0.0779154845037173, 'Visitor_HittingSLG%'),\n",
       " (0.07684526932824559, 'Home_HittingK%'),\n",
       " (0.07581777430903472, 'Visitor_HittingBB%'),\n",
       " (0.07384103324215012, 'Visitor_PitchingSLG%_allowed'),\n",
       " (0.07284042454500667, 'Visitor_PitchingK%'),\n",
       " (0.07115504514945863, 'Visitor_PitchingBB%'),\n",
       " (0.07029899485720299, 'Visitor_PitchingOBP_allowed'),\n",
       " (0.07022531800713495, 'Home_HittingSLG%'),\n",
       " (0.06942075439658348, 'Home_HittingBB%'),\n",
       " (0.06879277725320407, 'Home_PitchingSLG%_allowed'),\n",
       " (0.06802793166883381, 'Visitor_HittingK%'),\n",
       " (0.06301129138560572, 'Visitor_HittingOBP'),\n",
       " (0.06271732535550431, 'Home_HittingOBP')]"
      ]
     },
     "execution_count": 13,
     "metadata": {},
     "output_type": "execute_result"
    }
   ],
   "source": [
    "sorted(zip(rf_model.feature_importances_, X.columns), reverse=True)"
   ]
  },
  {
   "cell_type": "code",
   "execution_count": 14,
   "metadata": {},
   "outputs": [],
   "source": [
    "clf = AdaBoostClassifier(n_estimators = 2500, random_state = 9)"
   ]
  },
  {
   "cell_type": "code",
   "execution_count": 15,
   "metadata": {},
   "outputs": [
    {
     "data": {
      "text/plain": [
       "AdaBoostClassifier(algorithm='SAMME.R', base_estimator=None, learning_rate=1.0,\n",
       "                   n_estimators=2500, random_state=9)"
      ]
     },
     "execution_count": 15,
     "metadata": {},
     "output_type": "execute_result"
    }
   ],
   "source": [
    "clf.fit(X_train, y_train)"
   ]
  },
  {
   "cell_type": "code",
   "execution_count": 16,
   "metadata": {},
   "outputs": [],
   "source": [
    "predictions = clf.predict(X_test)"
   ]
  },
  {
   "cell_type": "code",
   "execution_count": 17,
   "metadata": {},
   "outputs": [],
   "source": [
    "cm = confusion_matrix(y_test, predictions)\n",
    "cm_df = pd.DataFrame(\n",
    "    cm, index=[\"Actual 0\", \"Actual 1\"], columns=[\"Predicted 0\", \"Predicted 1\"]\n",
    ")\n",
    "acc_score = balanced_accuracy_score(y_test, predictions)"
   ]
  },
  {
   "cell_type": "code",
   "execution_count": 18,
   "metadata": {},
   "outputs": [
    {
     "name": "stdout",
     "output_type": "stream",
     "text": [
      "Confusion Matrix\n"
     ]
    },
    {
     "data": {
      "text/html": [
       "<div>\n",
       "<style scoped>\n",
       "    .dataframe tbody tr th:only-of-type {\n",
       "        vertical-align: middle;\n",
       "    }\n",
       "\n",
       "    .dataframe tbody tr th {\n",
       "        vertical-align: top;\n",
       "    }\n",
       "\n",
       "    .dataframe thead th {\n",
       "        text-align: right;\n",
       "    }\n",
       "</style>\n",
       "<table border=\"1\" class=\"dataframe\">\n",
       "  <thead>\n",
       "    <tr style=\"text-align: right;\">\n",
       "      <th></th>\n",
       "      <th>Predicted 0</th>\n",
       "      <th>Predicted 1</th>\n",
       "    </tr>\n",
       "  </thead>\n",
       "  <tbody>\n",
       "    <tr>\n",
       "      <th>Actual 0</th>\n",
       "      <td>333</td>\n",
       "      <td>419</td>\n",
       "    </tr>\n",
       "    <tr>\n",
       "      <th>Actual 1</th>\n",
       "      <td>352</td>\n",
       "      <td>497</td>\n",
       "    </tr>\n",
       "  </tbody>\n",
       "</table>\n",
       "</div>"
      ],
      "text/plain": [
       "          Predicted 0  Predicted 1\n",
       "Actual 0          333          419\n",
       "Actual 1          352          497"
      ]
     },
     "metadata": {},
     "output_type": "display_data"
    },
    {
     "name": "stdout",
     "output_type": "stream",
     "text": [
      "Accuracy Score : 0.5141068653985916\n",
      "Classification Report\n",
      "                   pre       rec       spe        f1       geo       iba       sup\n",
      "\n",
      "          0       0.49      0.44      0.59      0.46      0.51      0.26       752\n",
      "          1       0.54      0.59      0.44      0.56      0.51      0.26       849\n",
      "\n",
      "avg / total       0.52      0.52      0.51      0.52      0.51      0.26      1601\n",
      "\n"
     ]
    }
   ],
   "source": [
    "# Displaying results\n",
    "print(\"Confusion Matrix\")\n",
    "display(cm_df)\n",
    "print(f\"Accuracy Score : {acc_score}\")\n",
    "print(\"Classification Report\")\n",
    "print(classification_report_imbalanced(y_test, predictions))"
   ]
  },
  {
   "cell_type": "code",
   "execution_count": 19,
   "metadata": {},
   "outputs": [],
   "source": [
    "actual_df = pd.DataFrame(y_test)\n",
    "actual_df.reset_index(inplace = True)"
   ]
  },
  {
   "cell_type": "code",
   "execution_count": 20,
   "metadata": {},
   "outputs": [
    {
     "data": {
      "text/html": [
       "<div>\n",
       "<style scoped>\n",
       "    .dataframe tbody tr th:only-of-type {\n",
       "        vertical-align: middle;\n",
       "    }\n",
       "\n",
       "    .dataframe tbody tr th {\n",
       "        vertical-align: top;\n",
       "    }\n",
       "\n",
       "    .dataframe thead th {\n",
       "        text-align: right;\n",
       "    }\n",
       "</style>\n",
       "<table border=\"1\" class=\"dataframe\">\n",
       "  <thead>\n",
       "    <tr style=\"text-align: right;\">\n",
       "      <th></th>\n",
       "      <th>0</th>\n",
       "    </tr>\n",
       "  </thead>\n",
       "  <tbody>\n",
       "    <tr>\n",
       "      <th>0</th>\n",
       "      <td>1</td>\n",
       "    </tr>\n",
       "    <tr>\n",
       "      <th>1</th>\n",
       "      <td>1</td>\n",
       "    </tr>\n",
       "    <tr>\n",
       "      <th>2</th>\n",
       "      <td>0</td>\n",
       "    </tr>\n",
       "    <tr>\n",
       "      <th>3</th>\n",
       "      <td>1</td>\n",
       "    </tr>\n",
       "    <tr>\n",
       "      <th>4</th>\n",
       "      <td>1</td>\n",
       "    </tr>\n",
       "  </tbody>\n",
       "</table>\n",
       "</div>"
      ],
      "text/plain": [
       "   0\n",
       "0  1\n",
       "1  1\n",
       "2  0\n",
       "3  1\n",
       "4  1"
      ]
     },
     "execution_count": 20,
     "metadata": {},
     "output_type": "execute_result"
    }
   ],
   "source": [
    "predict_df = pd.DataFrame(predictions)\n",
    "predict_df.head()"
   ]
  },
  {
   "cell_type": "code",
   "execution_count": 21,
   "metadata": {},
   "outputs": [],
   "source": [
    "actual_predict_df = pd.concat([actual_df,predict_df], axis = 1, join = 'inner')"
   ]
  },
  {
   "cell_type": "code",
   "execution_count": 22,
   "metadata": {},
   "outputs": [],
   "source": [
    "actual_predict_df.set_index('Date',inplace = True)"
   ]
  },
  {
   "cell_type": "code",
   "execution_count": 23,
   "metadata": {},
   "outputs": [],
   "source": [
    "actual_predict_df.columns = ['Actual','Predictions']"
   ]
  },
  {
   "cell_type": "code",
   "execution_count": 24,
   "metadata": {},
   "outputs": [
    {
     "data": {
      "text/html": [
       "<div>\n",
       "<style scoped>\n",
       "    .dataframe tbody tr th:only-of-type {\n",
       "        vertical-align: middle;\n",
       "    }\n",
       "\n",
       "    .dataframe tbody tr th {\n",
       "        vertical-align: top;\n",
       "    }\n",
       "\n",
       "    .dataframe thead th {\n",
       "        text-align: right;\n",
       "    }\n",
       "</style>\n",
       "<table border=\"1\" class=\"dataframe\">\n",
       "  <thead>\n",
       "    <tr style=\"text-align: right;\">\n",
       "      <th></th>\n",
       "      <th>Actual</th>\n",
       "      <th>Predictions</th>\n",
       "    </tr>\n",
       "    <tr>\n",
       "      <th>Date</th>\n",
       "      <th></th>\n",
       "      <th></th>\n",
       "    </tr>\n",
       "  </thead>\n",
       "  <tbody>\n",
       "    <tr>\n",
       "      <th>2019-05-29</th>\n",
       "      <td>0</td>\n",
       "      <td>1</td>\n",
       "    </tr>\n",
       "    <tr>\n",
       "      <th>2019-05-30</th>\n",
       "      <td>0</td>\n",
       "      <td>1</td>\n",
       "    </tr>\n",
       "    <tr>\n",
       "      <th>2019-05-30</th>\n",
       "      <td>0</td>\n",
       "      <td>0</td>\n",
       "    </tr>\n",
       "    <tr>\n",
       "      <th>2019-05-30</th>\n",
       "      <td>1</td>\n",
       "      <td>1</td>\n",
       "    </tr>\n",
       "    <tr>\n",
       "      <th>2019-05-30</th>\n",
       "      <td>0</td>\n",
       "      <td>1</td>\n",
       "    </tr>\n",
       "  </tbody>\n",
       "</table>\n",
       "</div>"
      ],
      "text/plain": [
       "            Actual  Predictions\n",
       "Date                           \n",
       "2019-05-29       0            1\n",
       "2019-05-30       0            1\n",
       "2019-05-30       0            0\n",
       "2019-05-30       1            1\n",
       "2019-05-30       0            1"
      ]
     },
     "execution_count": 24,
     "metadata": {},
     "output_type": "execute_result"
    }
   ],
   "source": [
    "actual_predict_df.head()"
   ]
  },
  {
   "cell_type": "code",
   "execution_count": 26,
   "metadata": {},
   "outputs": [],
   "source": [
    "odds_df_new = df[['home','visitor','home_open_odds','visitor_open_odds']][1160:]\n",
    "odds_df_new.reset_index(inplace = True)\n",
    "odds_df_new.drop(columns = ['Date'],inplace = True)"
   ]
  },
  {
   "cell_type": "code",
   "execution_count": 27,
   "metadata": {},
   "outputs": [],
   "source": [
    "df = pd.concat([actual_df,predict_df, odds_df_new], axis = 1, join ='inner')"
   ]
  },
  {
   "cell_type": "code",
   "execution_count": 28,
   "metadata": {},
   "outputs": [],
   "source": [
    "df.set_index('Date', inplace = True)"
   ]
  },
  {
   "cell_type": "code",
   "execution_count": 29,
   "metadata": {},
   "outputs": [],
   "source": [
    "df.columns = ['Actual','Predicted','Home','Visitor','Home_Open_Odds','Visitor_Open_Odds']"
   ]
  },
  {
   "cell_type": "code",
   "execution_count": 30,
   "metadata": {},
   "outputs": [
    {
     "data": {
      "text/html": [
       "<div>\n",
       "<style scoped>\n",
       "    .dataframe tbody tr th:only-of-type {\n",
       "        vertical-align: middle;\n",
       "    }\n",
       "\n",
       "    .dataframe tbody tr th {\n",
       "        vertical-align: top;\n",
       "    }\n",
       "\n",
       "    .dataframe thead th {\n",
       "        text-align: right;\n",
       "    }\n",
       "</style>\n",
       "<table border=\"1\" class=\"dataframe\">\n",
       "  <thead>\n",
       "    <tr style=\"text-align: right;\">\n",
       "      <th></th>\n",
       "      <th>Actual</th>\n",
       "      <th>Predicted</th>\n",
       "      <th>Home</th>\n",
       "      <th>Visitor</th>\n",
       "      <th>Home_Open_Odds</th>\n",
       "      <th>Visitor_Open_Odds</th>\n",
       "    </tr>\n",
       "    <tr>\n",
       "      <th>Date</th>\n",
       "      <th></th>\n",
       "      <th></th>\n",
       "      <th></th>\n",
       "      <th></th>\n",
       "      <th></th>\n",
       "      <th></th>\n",
       "    </tr>\n",
       "  </thead>\n",
       "  <tbody>\n",
       "    <tr>\n",
       "      <th>2019-05-29</th>\n",
       "      <td>0</td>\n",
       "      <td>1</td>\n",
       "      <td>LAA</td>\n",
       "      <td>CIN</td>\n",
       "      <td>-150</td>\n",
       "      <td>130</td>\n",
       "    </tr>\n",
       "    <tr>\n",
       "      <th>2019-05-30</th>\n",
       "      <td>0</td>\n",
       "      <td>1</td>\n",
       "      <td>ARI</td>\n",
       "      <td>LOS</td>\n",
       "      <td>125</td>\n",
       "      <td>-145</td>\n",
       "    </tr>\n",
       "    <tr>\n",
       "      <th>2019-05-30</th>\n",
       "      <td>0</td>\n",
       "      <td>0</td>\n",
       "      <td>SFO</td>\n",
       "      <td>COL</td>\n",
       "      <td>115</td>\n",
       "      <td>-135</td>\n",
       "    </tr>\n",
       "    <tr>\n",
       "      <th>2019-05-30</th>\n",
       "      <td>1</td>\n",
       "      <td>1</td>\n",
       "      <td>PHI</td>\n",
       "      <td>NYM</td>\n",
       "      <td>-130</td>\n",
       "      <td>110</td>\n",
       "    </tr>\n",
       "    <tr>\n",
       "      <th>2019-05-30</th>\n",
       "      <td>0</td>\n",
       "      <td>1</td>\n",
       "      <td>MIA</td>\n",
       "      <td>WAS</td>\n",
       "      <td>160</td>\n",
       "      <td>-185</td>\n",
       "    </tr>\n",
       "  </tbody>\n",
       "</table>\n",
       "</div>"
      ],
      "text/plain": [
       "            Actual  Predicted Home Visitor Home_Open_Odds Visitor_Open_Odds\n",
       "Date                                                                       \n",
       "2019-05-29       0          1  LAA     CIN           -150               130\n",
       "2019-05-30       0          1  ARI     LOS            125              -145\n",
       "2019-05-30       0          0  SFO     COL            115              -135\n",
       "2019-05-30       1          1  PHI     NYM           -130               110\n",
       "2019-05-30       0          1  MIA     WAS            160              -185"
      ]
     },
     "execution_count": 30,
     "metadata": {},
     "output_type": "execute_result"
    }
   ],
   "source": [
    "df.head()"
   ]
  },
  {
   "cell_type": "code",
   "execution_count": 33,
   "metadata": {},
   "outputs": [
    {
     "name": "stdin",
     "output_type": "stream",
     "text": [
      " 2019\n"
     ]
    }
   ],
   "source": [
    "year = input()"
   ]
  },
  {
   "cell_type": "code",
   "execution_count": 2,
   "metadata": {},
   "outputs": [
    {
     "name": "stdin",
     "output_type": "stream",
     "text": [
      " 2016\n"
     ]
    },
    {
     "data": {
      "text/html": [
       "<div>\n",
       "<style scoped>\n",
       "    .dataframe tbody tr th:only-of-type {\n",
       "        vertical-align: middle;\n",
       "    }\n",
       "\n",
       "    .dataframe tbody tr th {\n",
       "        vertical-align: top;\n",
       "    }\n",
       "\n",
       "    .dataframe thead th {\n",
       "        text-align: right;\n",
       "    }\n",
       "</style>\n",
       "<table border=\"1\" class=\"dataframe\">\n",
       "  <thead>\n",
       "    <tr style=\"text-align: right;\">\n",
       "      <th></th>\n",
       "      <th>Actual</th>\n",
       "      <th>Predicted</th>\n",
       "      <th>Home</th>\n",
       "      <th>Visitor</th>\n",
       "      <th>Home_Open_Odds</th>\n",
       "      <th>Visitor_Open_Odds</th>\n",
       "    </tr>\n",
       "    <tr>\n",
       "      <th>Date</th>\n",
       "      <th></th>\n",
       "      <th></th>\n",
       "      <th></th>\n",
       "      <th></th>\n",
       "      <th></th>\n",
       "      <th></th>\n",
       "    </tr>\n",
       "  </thead>\n",
       "  <tbody>\n",
       "    <tr>\n",
       "      <th>2016-07-06</th>\n",
       "      <td>1</td>\n",
       "      <td>0</td>\n",
       "      <td>MIN</td>\n",
       "      <td>OAK</td>\n",
       "      <td>-106</td>\n",
       "      <td>-104</td>\n",
       "    </tr>\n",
       "    <tr>\n",
       "      <th>2016-07-06</th>\n",
       "      <td>1</td>\n",
       "      <td>0</td>\n",
       "      <td>TOR</td>\n",
       "      <td>KAN</td>\n",
       "      <td>-180</td>\n",
       "      <td>160</td>\n",
       "    </tr>\n",
       "    <tr>\n",
       "      <th>2016-07-06</th>\n",
       "      <td>0</td>\n",
       "      <td>1</td>\n",
       "      <td>TAM</td>\n",
       "      <td>LAA</td>\n",
       "      <td>-150</td>\n",
       "      <td>135</td>\n",
       "    </tr>\n",
       "    <tr>\n",
       "      <th>2016-07-06</th>\n",
       "      <td>0</td>\n",
       "      <td>0</td>\n",
       "      <td>BOS</td>\n",
       "      <td>TEX</td>\n",
       "      <td>-185</td>\n",
       "      <td>165</td>\n",
       "    </tr>\n",
       "    <tr>\n",
       "      <th>2016-07-06</th>\n",
       "      <td>1</td>\n",
       "      <td>1</td>\n",
       "      <td>HOU</td>\n",
       "      <td>SEA</td>\n",
       "      <td>-165</td>\n",
       "      <td>145</td>\n",
       "    </tr>\n",
       "  </tbody>\n",
       "</table>\n",
       "</div>"
      ],
      "text/plain": [
       "            Actual  Predicted Home Visitor  Home_Open_Odds  Visitor_Open_Odds\n",
       "Date                                                                         \n",
       "2016-07-06       1          0  MIN     OAK            -106               -104\n",
       "2016-07-06       1          0  TOR     KAN            -180                160\n",
       "2016-07-06       0          1  TAM     LAA            -150                135\n",
       "2016-07-06       0          0  BOS     TEX            -185                165\n",
       "2016-07-06       1          1  HOU     SEA            -165                145"
      ]
     },
     "execution_count": 2,
     "metadata": {},
     "output_type": "execute_result"
    }
   ],
   "source": [
    "csv_name = '../Project_2/Predictions_Vs_Actual/Predictions_Actual_' + year + '.csv'\n",
    "csv_path = Path(csv_name)\n",
    "df = pd.read_csv(csv_path, index_col = 'Date')\n",
    "df.head()"
   ]
  },
  {
   "cell_type": "code",
   "execution_count": 31,
   "metadata": {},
   "outputs": [],
   "source": [
    "def find_total_profits(df):\n",
    "    # Convert open odds to integers\n",
    "    df['Home_Open_Odds'] = df['Home_Open_Odds'].astype(int)\n",
    "    df['Visitor_Open_Odds'] = df['Visitor_Open_Odds'].astype(int)\n",
    "\n",
    "\n",
    "    # Pull in predicted win and predicted loss\n",
    "    home_win = df[df['Predicted'] == 1]\n",
    "    home_loss = df[df['Predicted'] == 0]\n",
    "\n",
    "\n",
    "    # Grab instances where the predicted winner is the favorite to win\n",
    "    home_win_fav = home_win[home_win['Home_Open_Odds'] < 0]\n",
    "    home_loss_fav = home_loss[home_loss['Visitor_Open_Odds'] < 0]\n",
    "\n",
    "\n",
    "    # Grab instances where the predicted winner is the underdog\n",
    "    home_win_dog = home_win[home_win['Home_Open_Odds'] > 0]\n",
    "    home_loss_dog = home_loss[home_loss['Visitor_Open_Odds'] > 0]\n",
    "\n",
    "\n",
    "    # Grab instances where the favs were the actual winners and predicted winners\n",
    "    home_win_fav_true = home_win_fav[home_win_fav['Actual'] == 1]\n",
    "    home_win_fav_true['Home_Open_Odds'] = ((10000)/abs(home_win_fav_true['Home_Open_Odds']))\n",
    "    home_loss_fav_true = home_loss_fav[home_loss_fav['Actual'] == 1]\n",
    "    home_loss_fav_true['Visitor_Open_Odds'] = ((10000)/abs(home_loss_fav_true['Visitor_Open_Odds']))\n",
    "\n",
    "\n",
    "    # Grab instances where the dogs were winners and predicted winners\n",
    "    home_win_dog_true = home_win_dog[home_win_dog['Actual']==1]\n",
    "    home_loss_dog_true = home_loss_dog[home_loss_dog['Actual']==0]\n",
    "\n",
    "\n",
    "    # Grab instances where the dogs were losers, but predicted winners\n",
    "    home_win_dog_false = home_win_dog[home_win_dog['Actual']==0]\n",
    "    home_loss_dog_false = home_loss_dog[home_loss_dog['Actual']==1]\n",
    "\n",
    "\n",
    "    # Grab instances where the favs were predicted winners but lost\n",
    "    home_win_fav_false = home_win_fav[home_win_fav['Actual'] == 0]\n",
    "    home_win_fav_false['Home_Open_Odds'] = -100\n",
    "    home_loss_fav_false = home_loss_fav[home_loss_fav['Actual'] == 1]\n",
    "    home_loss_fav_false['Visitor_Open_Odds'] = -100\n",
    "\n",
    "\n",
    "    # Grab instances where the dgos were predicted winners but lost\n",
    "    home_win_dog_false = home_win_fav[home_win_fav['Actual'] == 0]\n",
    "    home_win_dog_false['Home_Open_Odds'] = -100\n",
    "    home_loss_dog_false = home_loss_fav[home_loss_fav['Actual'] == 1]\n",
    "    home_loss_dog_false['Visitor_Open_Odds'] = -100\n",
    "\n",
    "\n",
    "    # Concatinate the dataframes\n",
    "    bet_results_fav_win = pd.concat([home_win_fav_false, home_win_fav_true]) # Home Open Odds\n",
    "    bet_results_fav_loss = pd.concat([home_loss_fav_false, home_loss_fav_true]) # Visitor Open Odds\n",
    "    bet_results_dog_win = pd.concat([home_win_dog_true, home_win_dog_false]) # Home Open Odds\n",
    "    bet_results_dog_loss = pd.concat([home_loss_dog_true, home_loss_dog_false]) # Visitor Open Odds\n",
    "\n",
    "\n",
    "    # Sum up final wins/loss money lines\n",
    "    fav_win_sum = round(bet_results_fav_win['Home_Open_Odds'].sum(),2)\n",
    "    fav_loss_sum = round(bet_results_fav_loss['Visitor_Open_Odds'].sum(),2)\n",
    "    dog_win_sum = round(bet_results_dog_win['Home_Open_Odds'].sum(),2)\n",
    "    dog_loss_sum = round(bet_results_dog_loss['Visitor_Open_Odds'].sum(),2)\n",
    "    final_sum = round(fav_win_sum + fav_loss_sum + dog_win_sum + dog_loss_sum,2)\n",
    "    total_profits = print(f'Betting on the favorites to win at home: ${fav_win_sum}\\nBetting on the favorites to win on the road: ${fav_loss_sum}\\nBetting on the dogs to win at home: ${dog_win_sum}\\nBetting on the dogs to win on the road: ${dog_loss_sum}\\nTotal profits for the second half of the {year} season: ${final_sum}')\n",
    "    return total_profits"
   ]
  },
  {
   "cell_type": "code",
   "execution_count": 42,
   "metadata": {},
   "outputs": [
    {
     "name": "stdout",
     "output_type": "stream",
     "text": [
      "Betting on the favorites to win at home: $-3693.23    The accuracy of betting on the favorites to win at home is 55.58%\n",
      "Betting on the favorites to win on the road: $-3749.81    The accuracy of betting on the favorites to win on the road is 50.0%\n",
      "Betting on the underdogs to win at home: $-5132    The accuracy of betting on the underdogs to win at home is 35.63%\n",
      "Betting on the dogs to win on the road: $8285    The accuracy of betting on the underdogs to win on the road is 51.71%\n",
      "Total profits for the second half of the 2019 season: $-4290.04\n"
     ]
    }
   ],
   "source": [
    "# Convert open odds to integers\n",
    "df['Home_Open_Odds'] = df['Home_Open_Odds'].astype(int)\n",
    "df['Visitor_Open_Odds'] = df['Visitor_Open_Odds'].astype(int)\n",
    "\n",
    "\n",
    "# Pull in predicted win and predicted loss\n",
    "home_win = df[df['Predicted'] == 1]\n",
    "home_loss = df[df['Predicted'] == 0]\n",
    "\n",
    "\n",
    "# Grab instances where the predicted winner is the favorite to win\n",
    "home_win_fav = home_win[home_win['Home_Open_Odds'] < 0]\n",
    "home_loss_fav = home_loss[home_loss['Visitor_Open_Odds'] < 0]\n",
    "\n",
    "\n",
    "# Grab instances where the predicted winner is the underdog\n",
    "home_win_dog = home_win[home_win['Home_Open_Odds'] > 0]\n",
    "home_loss_dog = home_loss[home_loss['Visitor_Open_Odds'] > 0]\n",
    "\n",
    "\n",
    "# Grab instances where the favs were the actual winners and predicted winners\n",
    "home_win_fav_true = home_win_fav[home_win_fav['Actual'] == 1]\n",
    "home_win_fav_true['Home_Open_Odds'] = ((10000)/abs(home_win_fav_true['Home_Open_Odds']))\n",
    "home_loss_fav_true = home_loss_fav[home_loss_fav['Actual'] == 1]\n",
    "home_loss_fav_true['Visitor_Open_Odds'] = ((10000)/abs(home_loss_fav_true['Visitor_Open_Odds']))\n",
    "\n",
    "\n",
    "# Grab instances where the dogs were winners and predicted winners\n",
    "home_win_dog_true = home_win_dog[home_win_dog['Actual']==1]\n",
    "home_loss_dog_true = home_loss_dog[home_loss_dog['Actual']==0]\n",
    "\n",
    "\n",
    "# Grab instances where the dogs were losers, but predicted winners\n",
    "home_win_dog_false = home_win_dog[home_win_dog['Actual']==0]\n",
    "home_loss_dog_false = home_loss_dog[home_loss_dog['Actual']==1]\n",
    "\n",
    "\n",
    "# Grab instances where the favs were predicted winners but lost\n",
    "home_win_fav_false = home_win_fav[home_win_fav['Actual'] == 0]\n",
    "home_win_fav_false['Home_Open_Odds'] = -100\n",
    "home_loss_fav_false = home_loss_fav[home_loss_fav['Actual'] == 1]\n",
    "home_loss_fav_false['Visitor_Open_Odds'] = -100\n",
    "\n",
    "\n",
    "# Grab instances where the dgos were predicted winners but lost\n",
    "home_win_dog_false = home_win_fav[home_win_fav['Actual'] == 0]\n",
    "home_win_dog_false['Home_Open_Odds'] = -100\n",
    "home_loss_dog_false = home_loss_fav[home_loss_fav['Actual'] == 1]\n",
    "home_loss_dog_false['Visitor_Open_Odds'] = -100\n",
    "\n",
    "\n",
    "# Concatinate the dataframes\n",
    "bet_results_fav_win = pd.concat([home_win_fav_false, home_win_fav_true]) # Home Open Odds\n",
    "bet_results_fav_loss = pd.concat([home_loss_fav_false, home_loss_fav_true]) # Visitor Open Odds\n",
    "bet_results_dog_win = pd.concat([home_win_dog_true, home_win_dog_false]) # Home Open Odds\n",
    "bet_results_dog_loss = pd.concat([home_loss_dog_true, home_loss_dog_false]) # Visitor Open Odds\n",
    "\n",
    "# Determine the accuracy of each of the four betting methods\n",
    "fav_win_win_len = len(home_win_fav_true)\n",
    "fav_win_tot_len = len(bet_results_fav_win)\n",
    "fav_win_acc = round(100*(fav_win_win_len/fav_win_tot_len),2)\n",
    "fav_loss_win_len = len(home_loss_fav_true)\n",
    "fav_loss_tot_len = len(bet_results_fav_loss)\n",
    "fav_loss_acc = round(100*(fav_loss_win_len/fav_loss_tot_len),2)\n",
    "dog_win_win_len = len(home_win_dog_true)\n",
    "dog_win_tot_len = len(bet_results_dog_win)\n",
    "dog_win_acc = round(100*(dog_win_win_len/dog_win_tot_len),2)\n",
    "dog_loss_win_len = len(home_loss_dog_true)\n",
    "dog_loss_tot_len = len(bet_results_dog_loss)\n",
    "dog_loss_acc = round(100*(dog_loss_win_len/dog_loss_tot_len),2)\n",
    "\n",
    "# Sum up final wins/loss money lines\n",
    "fav_win_sum = round(bet_results_fav_win['Home_Open_Odds'].sum(),2)\n",
    "fav_loss_sum = round(bet_results_fav_loss['Visitor_Open_Odds'].sum(),2)\n",
    "dog_win_sum = round(bet_results_dog_win['Home_Open_Odds'].sum(),2)\n",
    "dog_loss_sum = round(bet_results_dog_loss['Visitor_Open_Odds'].sum(),2)\n",
    "final_sum = round(fav_win_sum + fav_loss_sum + dog_win_sum + dog_loss_sum,2)\n",
    "print(f'Betting on the favorites to win at home: ${fav_win_sum}    The accuracy of betting on the favorites to win at home is {fav_win_acc}%\\nBetting on the favorites to win on the road: ${fav_loss_sum}    The accuracy of betting on the favorites to win on the road is {fav_loss_acc}%\\nBetting on the underdogs to win at home: ${dog_win_sum}    The accuracy of betting on the underdogs to win at home is {dog_win_acc}%\\nBetting on the dogs to win on the road: ${dog_loss_sum}    The accuracy of betting on the underdogs to win on the road is {dog_loss_acc}%\\nTotal profits for the second half of the {year} season: ${final_sum}')"
   ]
  },
  {
   "cell_type": "code",
   "execution_count": null,
   "metadata": {},
   "outputs": [],
   "source": []
  },
  {
   "cell_type": "code",
   "execution_count": null,
   "metadata": {},
   "outputs": [],
   "source": []
  },
  {
   "cell_type": "code",
   "execution_count": 335,
   "metadata": {},
   "outputs": [],
   "source": [
    "home_win['Home_Open_Odds'] = home_win['Home_Open_Odds'].astype(int)"
   ]
  },
  {
   "cell_type": "code",
   "execution_count": 343,
   "metadata": {},
   "outputs": [],
   "source": [
    "home_win_dog_pred = home_win[home_win['Home_Open_Odds'] > 0]"
   ]
  },
  {
   "cell_type": "code",
   "execution_count": 356,
   "metadata": {},
   "outputs": [],
   "source": [
    "home_win_dog = home_win[home_win['Predicted'] == 1]"
   ]
  },
  {
   "cell_type": "code",
   "execution_count": 357,
   "metadata": {},
   "outputs": [],
   "source": [
    "home_win_dog_pred_win = home_win_dog_pred[home_win_dog_pred['Actual'] == 0]"
   ]
  },
  {
   "cell_type": "code",
   "execution_count": 358,
   "metadata": {},
   "outputs": [
    {
     "data": {
      "text/html": [
       "<div>\n",
       "<style scoped>\n",
       "    .dataframe tbody tr th:only-of-type {\n",
       "        vertical-align: middle;\n",
       "    }\n",
       "\n",
       "    .dataframe tbody tr th {\n",
       "        vertical-align: top;\n",
       "    }\n",
       "\n",
       "    .dataframe thead th {\n",
       "        text-align: right;\n",
       "    }\n",
       "</style>\n",
       "<table border=\"1\" class=\"dataframe\">\n",
       "  <thead>\n",
       "    <tr style=\"text-align: right;\">\n",
       "      <th></th>\n",
       "      <th>Actual</th>\n",
       "      <th>Predicted</th>\n",
       "      <th>Home</th>\n",
       "      <th>Visitor</th>\n",
       "      <th>Home_Open_Odds</th>\n",
       "      <th>Visitor_Open_Odds</th>\n",
       "    </tr>\n",
       "    <tr>\n",
       "      <th>Date</th>\n",
       "      <th></th>\n",
       "      <th></th>\n",
       "      <th></th>\n",
       "      <th></th>\n",
       "      <th></th>\n",
       "      <th></th>\n",
       "    </tr>\n",
       "  </thead>\n",
       "  <tbody>\n",
       "    <tr>\n",
       "      <th>2019-06-26</th>\n",
       "      <td>0</td>\n",
       "      <td>1</td>\n",
       "      <td>SFO</td>\n",
       "      <td>COL</td>\n",
       "      <td>115</td>\n",
       "      <td>-135</td>\n",
       "    </tr>\n",
       "    <tr>\n",
       "      <th>2019-06-26</th>\n",
       "      <td>0</td>\n",
       "      <td>1</td>\n",
       "      <td>MIA</td>\n",
       "      <td>WAS</td>\n",
       "      <td>160</td>\n",
       "      <td>-185</td>\n",
       "    </tr>\n",
       "    <tr>\n",
       "      <th>2019-06-26</th>\n",
       "      <td>0</td>\n",
       "      <td>1</td>\n",
       "      <td>DET</td>\n",
       "      <td>TEX</td>\n",
       "      <td>115</td>\n",
       "      <td>-135</td>\n",
       "    </tr>\n",
       "    <tr>\n",
       "      <th>2019-06-26</th>\n",
       "      <td>0</td>\n",
       "      <td>1</td>\n",
       "      <td>BAL</td>\n",
       "      <td>SDG</td>\n",
       "      <td>130</td>\n",
       "      <td>-150</td>\n",
       "    </tr>\n",
       "    <tr>\n",
       "      <th>2019-06-27</th>\n",
       "      <td>0</td>\n",
       "      <td>1</td>\n",
       "      <td>COL</td>\n",
       "      <td>LOS</td>\n",
       "      <td>151</td>\n",
       "      <td>-175</td>\n",
       "    </tr>\n",
       "  </tbody>\n",
       "</table>\n",
       "</div>"
      ],
      "text/plain": [
       "            Actual  Predicted Home Visitor  Home_Open_Odds Visitor_Open_Odds\n",
       "Date                                                                        \n",
       "2019-06-26       0          1  SFO     COL             115              -135\n",
       "2019-06-26       0          1  MIA     WAS             160              -185\n",
       "2019-06-26       0          1  DET     TEX             115              -135\n",
       "2019-06-26       0          1  BAL     SDG             130              -150\n",
       "2019-06-27       0          1  COL     LOS             151              -175"
      ]
     },
     "execution_count": 358,
     "metadata": {},
     "output_type": "execute_result"
    }
   ],
   "source": [
    "home_win_dog_pred_loss.head()"
   ]
  },
  {
   "cell_type": "code",
   "execution_count": 378,
   "metadata": {},
   "outputs": [
    {
     "data": {
      "text/html": [
       "<div>\n",
       "<style scoped>\n",
       "    .dataframe tbody tr th:only-of-type {\n",
       "        vertical-align: middle;\n",
       "    }\n",
       "\n",
       "    .dataframe tbody tr th {\n",
       "        vertical-align: top;\n",
       "    }\n",
       "\n",
       "    .dataframe thead th {\n",
       "        text-align: right;\n",
       "    }\n",
       "</style>\n",
       "<table border=\"1\" class=\"dataframe\">\n",
       "  <thead>\n",
       "    <tr style=\"text-align: right;\">\n",
       "      <th></th>\n",
       "      <th>Actual</th>\n",
       "      <th>Predicted</th>\n",
       "      <th>Home</th>\n",
       "      <th>Visitor</th>\n",
       "      <th>Home_Open_Odds</th>\n",
       "      <th>Visitor_Open_Odds</th>\n",
       "    </tr>\n",
       "    <tr>\n",
       "      <th>Date</th>\n",
       "      <th></th>\n",
       "      <th></th>\n",
       "      <th></th>\n",
       "      <th></th>\n",
       "      <th></th>\n",
       "      <th></th>\n",
       "    </tr>\n",
       "  </thead>\n",
       "  <tbody>\n",
       "    <tr>\n",
       "      <th>2019-06-25</th>\n",
       "      <td>1</td>\n",
       "      <td>1</td>\n",
       "      <td>LAA</td>\n",
       "      <td>CIN</td>\n",
       "      <td>-150</td>\n",
       "      <td>130</td>\n",
       "    </tr>\n",
       "    <tr>\n",
       "      <th>2019-06-26</th>\n",
       "      <td>1</td>\n",
       "      <td>1</td>\n",
       "      <td>PHI</td>\n",
       "      <td>NYM</td>\n",
       "      <td>-130</td>\n",
       "      <td>110</td>\n",
       "    </tr>\n",
       "    <tr>\n",
       "      <th>2019-06-26</th>\n",
       "      <td>0</td>\n",
       "      <td>1</td>\n",
       "      <td>CUB</td>\n",
       "      <td>ATL</td>\n",
       "      <td>-125</td>\n",
       "      <td>105</td>\n",
       "    </tr>\n",
       "    <tr>\n",
       "      <th>2019-06-26</th>\n",
       "      <td>1</td>\n",
       "      <td>1</td>\n",
       "      <td>NYY</td>\n",
       "      <td>TOR</td>\n",
       "      <td>-265</td>\n",
       "      <td>218</td>\n",
       "    </tr>\n",
       "    <tr>\n",
       "      <th>2019-06-26</th>\n",
       "      <td>1</td>\n",
       "      <td>1</td>\n",
       "      <td>CLE</td>\n",
       "      <td>KAN</td>\n",
       "      <td>-205</td>\n",
       "      <td>172</td>\n",
       "    </tr>\n",
       "  </tbody>\n",
       "</table>\n",
       "</div>"
      ],
      "text/plain": [
       "            Actual  Predicted Home Visitor  Home_Open_Odds Visitor_Open_Odds\n",
       "Date                                                                        \n",
       "2019-06-25       1          1  LAA     CIN            -150               130\n",
       "2019-06-26       1          1  PHI     NYM            -130               110\n",
       "2019-06-26       0          1  CUB     ATL            -125               105\n",
       "2019-06-26       1          1  NYY     TOR            -265               218\n",
       "2019-06-26       1          1  CLE     KAN            -205               172"
      ]
     },
     "execution_count": 378,
     "metadata": {},
     "output_type": "execute_result"
    }
   ],
   "source": [
    "home_win_fav = home_win_dog[home_win_dog['Home_Open_Odds'] < 0]\n",
    "home_win_fav.head()"
   ]
  },
  {
   "cell_type": "code",
   "execution_count": 385,
   "metadata": {},
   "outputs": [],
   "source": [
    "home_win_fav_true = home_win_fav[home_win_fav['Actual'] == 1]\n",
    "home_win_fav_true['Home_Open_Odds'] = ((10000)/abs(home_win_fav_true['Home_Open_Odds']))"
   ]
  },
  {
   "cell_type": "code",
   "execution_count": 419,
   "metadata": {},
   "outputs": [
    {
     "data": {
      "text/html": [
       "<div>\n",
       "<style scoped>\n",
       "    .dataframe tbody tr th:only-of-type {\n",
       "        vertical-align: middle;\n",
       "    }\n",
       "\n",
       "    .dataframe tbody tr th {\n",
       "        vertical-align: top;\n",
       "    }\n",
       "\n",
       "    .dataframe thead th {\n",
       "        text-align: right;\n",
       "    }\n",
       "</style>\n",
       "<table border=\"1\" class=\"dataframe\">\n",
       "  <thead>\n",
       "    <tr style=\"text-align: right;\">\n",
       "      <th></th>\n",
       "      <th>Actual</th>\n",
       "      <th>Predicted</th>\n",
       "      <th>Home</th>\n",
       "      <th>Visitor</th>\n",
       "      <th>Home_Open_Odds</th>\n",
       "      <th>Visitor_Open_Odds</th>\n",
       "    </tr>\n",
       "    <tr>\n",
       "      <th>Date</th>\n",
       "      <th></th>\n",
       "      <th></th>\n",
       "      <th></th>\n",
       "      <th></th>\n",
       "      <th></th>\n",
       "      <th></th>\n",
       "    </tr>\n",
       "  </thead>\n",
       "  <tbody>\n",
       "    <tr>\n",
       "      <th>2019-06-25</th>\n",
       "      <td>1</td>\n",
       "      <td>1</td>\n",
       "      <td>LAA</td>\n",
       "      <td>CIN</td>\n",
       "      <td>66.666667</td>\n",
       "      <td>130</td>\n",
       "    </tr>\n",
       "    <tr>\n",
       "      <th>2019-06-26</th>\n",
       "      <td>1</td>\n",
       "      <td>1</td>\n",
       "      <td>PHI</td>\n",
       "      <td>NYM</td>\n",
       "      <td>76.923077</td>\n",
       "      <td>110</td>\n",
       "    </tr>\n",
       "    <tr>\n",
       "      <th>2019-06-26</th>\n",
       "      <td>1</td>\n",
       "      <td>1</td>\n",
       "      <td>NYY</td>\n",
       "      <td>TOR</td>\n",
       "      <td>37.735849</td>\n",
       "      <td>218</td>\n",
       "    </tr>\n",
       "    <tr>\n",
       "      <th>2019-06-26</th>\n",
       "      <td>1</td>\n",
       "      <td>1</td>\n",
       "      <td>CLE</td>\n",
       "      <td>KAN</td>\n",
       "      <td>48.780488</td>\n",
       "      <td>172</td>\n",
       "    </tr>\n",
       "    <tr>\n",
       "      <th>2019-06-27</th>\n",
       "      <td>1</td>\n",
       "      <td>1</td>\n",
       "      <td>PHI</td>\n",
       "      <td>NYM</td>\n",
       "      <td>71.428571</td>\n",
       "      <td>120</td>\n",
       "    </tr>\n",
       "  </tbody>\n",
       "</table>\n",
       "</div>"
      ],
      "text/plain": [
       "            Actual  Predicted Home Visitor  Home_Open_Odds Visitor_Open_Odds\n",
       "Date                                                                        \n",
       "2019-06-25       1          1  LAA     CIN       66.666667               130\n",
       "2019-06-26       1          1  PHI     NYM       76.923077               110\n",
       "2019-06-26       1          1  NYY     TOR       37.735849               218\n",
       "2019-06-26       1          1  CLE     KAN       48.780488               172\n",
       "2019-06-27       1          1  PHI     NYM       71.428571               120"
      ]
     },
     "execution_count": 419,
     "metadata": {},
     "output_type": "execute_result"
    }
   ],
   "source": [
    "home_win_fav_true.head()"
   ]
  },
  {
   "cell_type": "code",
   "execution_count": 386,
   "metadata": {},
   "outputs": [],
   "source": [
    "home_win_fav_false = home_win_fav[home_win_fav['Actual'] == 0]\n",
    "home_win_fav_false.head()\n",
    "home_win_fav_false['Home_Open_Odds'] = -100"
   ]
  },
  {
   "cell_type": "code",
   "execution_count": 389,
   "metadata": {},
   "outputs": [],
   "source": [
    "bet_results_fav = pd.concat([home_win_fav_false, home_win_fav_true])"
   ]
  },
  {
   "cell_type": "code",
   "execution_count": 420,
   "metadata": {},
   "outputs": [
    {
     "data": {
      "text/html": [
       "<div>\n",
       "<style scoped>\n",
       "    .dataframe tbody tr th:only-of-type {\n",
       "        vertical-align: middle;\n",
       "    }\n",
       "\n",
       "    .dataframe tbody tr th {\n",
       "        vertical-align: top;\n",
       "    }\n",
       "\n",
       "    .dataframe thead th {\n",
       "        text-align: right;\n",
       "    }\n",
       "</style>\n",
       "<table border=\"1\" class=\"dataframe\">\n",
       "  <thead>\n",
       "    <tr style=\"text-align: right;\">\n",
       "      <th></th>\n",
       "      <th>Actual</th>\n",
       "      <th>Predicted</th>\n",
       "      <th>Home</th>\n",
       "      <th>Visitor</th>\n",
       "      <th>Home_Open_Odds</th>\n",
       "      <th>Visitor_Open_Odds</th>\n",
       "    </tr>\n",
       "    <tr>\n",
       "      <th>Date</th>\n",
       "      <th></th>\n",
       "      <th></th>\n",
       "      <th></th>\n",
       "      <th></th>\n",
       "      <th></th>\n",
       "      <th></th>\n",
       "    </tr>\n",
       "  </thead>\n",
       "  <tbody>\n",
       "    <tr>\n",
       "      <th>2019-09-26</th>\n",
       "      <td>1</td>\n",
       "      <td>1</td>\n",
       "      <td>TEX</td>\n",
       "      <td>BOS</td>\n",
       "      <td>95.238095</td>\n",
       "      <td>-105</td>\n",
       "    </tr>\n",
       "    <tr>\n",
       "      <th>2019-09-27</th>\n",
       "      <td>1</td>\n",
       "      <td>1</td>\n",
       "      <td>PHI</td>\n",
       "      <td>MIA</td>\n",
       "      <td>55.555556</td>\n",
       "      <td>155</td>\n",
       "    </tr>\n",
       "    <tr>\n",
       "      <th>2019-09-27</th>\n",
       "      <td>1</td>\n",
       "      <td>1</td>\n",
       "      <td>NYM</td>\n",
       "      <td>ATL</td>\n",
       "      <td>84.033613</td>\n",
       "      <td>-101</td>\n",
       "    </tr>\n",
       "    <tr>\n",
       "      <th>2019-09-28</th>\n",
       "      <td>1</td>\n",
       "      <td>1</td>\n",
       "      <td>WAS</td>\n",
       "      <td>CLE</td>\n",
       "      <td>50.000000</td>\n",
       "      <td>170</td>\n",
       "    </tr>\n",
       "    <tr>\n",
       "      <th>2019-09-29</th>\n",
       "      <td>1</td>\n",
       "      <td>1</td>\n",
       "      <td>STL</td>\n",
       "      <td>CUB</td>\n",
       "      <td>35.714286</td>\n",
       "      <td>230</td>\n",
       "    </tr>\n",
       "  </tbody>\n",
       "</table>\n",
       "</div>"
      ],
      "text/plain": [
       "            Actual  Predicted Home Visitor  Home_Open_Odds Visitor_Open_Odds\n",
       "Date                                                                        \n",
       "2019-09-26       1          1  TEX     BOS       95.238095              -105\n",
       "2019-09-27       1          1  PHI     MIA       55.555556               155\n",
       "2019-09-27       1          1  NYM     ATL       84.033613              -101\n",
       "2019-09-28       1          1  WAS     CLE       50.000000               170\n",
       "2019-09-29       1          1  STL     CUB       35.714286               230"
      ]
     },
     "execution_count": 420,
     "metadata": {},
     "output_type": "execute_result"
    }
   ],
   "source": [
    "bet_results_fav.tail()"
   ]
  },
  {
   "cell_type": "code",
   "execution_count": 421,
   "metadata": {},
   "outputs": [
    {
     "data": {
      "text/plain": [
       "-766.0513122555149"
      ]
     },
     "execution_count": 421,
     "metadata": {},
     "output_type": "execute_result"
    }
   ],
   "source": [
    "bet_results_fav['Home_Open_Odds'].sum()"
   ]
  },
  {
   "cell_type": "code",
   "execution_count": 422,
   "metadata": {},
   "outputs": [],
   "source": [
    "home_win_dog = home_win_dog[home_win_dog['Home_Open_Odds'] > 0]"
   ]
  },
  {
   "cell_type": "code",
   "execution_count": 423,
   "metadata": {},
   "outputs": [],
   "source": [
    "home_win_dog_true = home_win_dog[home_win_dog['Actual']==1]\n",
    "home_win_dog_false = home_win_dog[home_win_dog['Actual']==0]"
   ]
  },
  {
   "cell_type": "code",
   "execution_count": 424,
   "metadata": {},
   "outputs": [],
   "source": [
    "home_win_dog_true['Home_Open_Odds'] = home_win_dog_true['Home_Open_Odds']\n",
    "home_win_dog_false['Home_Open_Odds'] = -100"
   ]
  },
  {
   "cell_type": "code",
   "execution_count": 425,
   "metadata": {},
   "outputs": [
    {
     "data": {
      "text/plain": [
       "-1389"
      ]
     },
     "execution_count": 425,
     "metadata": {},
     "output_type": "execute_result"
    }
   ],
   "source": [
    "home_win_dog_true['Home_Open_Odds'].sum() + home_win_dog_false['Home_Open_Odds'].sum()"
   ]
  },
  {
   "cell_type": "code",
   "execution_count": 426,
   "metadata": {},
   "outputs": [],
   "source": [
    "bet_results_dog = pd.concat([home_win_dog_true, home_win_dog_false])"
   ]
  },
  {
   "cell_type": "code",
   "execution_count": 427,
   "metadata": {},
   "outputs": [],
   "source": [
    "bet_results_total_100 = pd.concat([bet_results_dog,bet_results_fav])"
   ]
  },
  {
   "cell_type": "code",
   "execution_count": 428,
   "metadata": {},
   "outputs": [
    {
     "data": {
      "text/plain": [
       "-2155.051312255513"
      ]
     },
     "execution_count": 428,
     "metadata": {},
     "output_type": "execute_result"
    }
   ],
   "source": [
    "bet_results_total_100['Home_Open_Odds'].sum()"
   ]
  },
  {
   "cell_type": "code",
   "execution_count": null,
   "metadata": {},
   "outputs": [],
   "source": []
  }
 ],
 "metadata": {
  "kernelspec": {
   "display_name": "Python 3",
   "language": "python",
   "name": "python3"
  },
  "language_info": {
   "codemirror_mode": {
    "name": "ipython",
    "version": 3
   },
   "file_extension": ".py",
   "mimetype": "text/x-python",
   "name": "python",
   "nbconvert_exporter": "python",
   "pygments_lexer": "ipython3",
   "version": "3.7.3"
  }
 },
 "nbformat": 4,
 "nbformat_minor": 4
}
