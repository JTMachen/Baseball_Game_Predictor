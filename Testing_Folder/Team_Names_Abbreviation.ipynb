{
 "cells": [
  {
   "cell_type": "code",
   "execution_count": null,
   "metadata": {},
   "outputs": [],
   "source": [
    "# Create a dictionary to convert abbreviations to cities and team names\n",
    "team_names_dict = {\n",
    "    \"ARI\": ('Arizona','D_Backs','Diamondbacks','Diamond_Backs','D Backs','Diamond Backs'),\n",
    "    \"ATL\": ('Atlanta','Braves'),\n",
    "    \"BAL\": ('Baltimore','Orioles'),\n",
    "    \"BOS\": ('Boston','Red Sox','Red_Sox','R_Sox','R Sox'),\n",
    "    \"CHC\": ('Chicago','Cubs'),\n",
    "    \"CHW\": ('Chicago','White Sox','White_Sox','W_Sox','W Sox'),\n",
    "    \"CIN\": ('Cincinnati', 'Reds'),\n",
    "    \"CLE\": ('Cleveland','Indians'),\n",
    "    \"COL\": ('Colorado','Rockies','Rox'),\n",
    "    \"DET\": ('Detroit','Tigers'),\n",
    "    \"HOU\": ('Houston','Astros'),\n",
    "    \"KCR\": ('Kansas City','Kansas_City','Royals'),\n",
    "    \"KAN\": ('Kansas City','Kansas_City','Royals'),\n",
    "    \"LAA\": ('Los Angeles','Los_Angeles','Anaheim','Angels'),\n",
    "    \"ANA\": ('Los Angeles','Los_Angeles','Anaheim','Angels'),\n",
    "    \"LAD\": ('Los Angeles','Los_Angeles','Dodgers'),\n",
    "    \"LOS\": ('Los Angeles','Los_Angeles','Dodgers'),\n",
    "    \"MIA\": ('Miami','Marlins','Florida'),\n",
    "    \"FLA\": ('Miami','Marlins','Florida'),\n",
    "    \"MIL\": ('Milwuakee','Brewers'),\n",
    "    \"MIN\": ('Minnesota','Twins'),\n",
    "    \"NYM\": ('New York','New_York','Mets'),\n",
    "    \"NYY\": ('New York','New_York','Yankees'),\n",
    "    \"OAK\": ('Oakland',\"A's\",'Athletics'),\n",
    "    \"PHI\": ('Philadelphia','Phillies'),\n",
    "    \"PIT\": ('Pittsburgh','Pirates','Bucs'),\n",
    "    \"SDP\": ('San Diego','San_Diego', 'Padres'),\n",
    "    \"SDG\": ('San Diego','San_Diego', 'Padres'),\n",
    "    \"SEA\": ('Seattle','Mariners'),\n",
    "    \"SFG\": ('San Francisco','San_Francisco','Giants'),\n",
    "    \"SFO\": ('San Francisco','San_Francisco','Giants'),\n",
    "    \"STL\": ('St. Louis','StLouis','St_Louis','Cards','Cardinals'),\n",
    "    \"TBR\": ('Tampa','Tampa_Bay','Tampa Bay','Rays','Devil Rays','Devile_Rays'),\n",
    "    \"TAM\": ('Tampa','Tampa_Bay','Tampa Bay','Rays','Devil Rays','Devile_Rays'),\n",
    "    \"TEX\": ('Texas','Rangers'),\n",
    "    \"TOR\": ('Toronto','Blue_Jays','Blue Jays'),\n",
    "    \"WSN\": ('Washington','Nats','Nationals'),\n",
    "    \"WAS\": ('Washington','Nats','Nationals'),\n",
    "}"
   ]
  }
 ],
 "metadata": {
  "kernelspec": {
   "display_name": "Python 3",
   "language": "python",
   "name": "python3"
  },
  "language_info": {
   "codemirror_mode": {
    "name": "ipython",
    "version": 3
   },
   "file_extension": ".py",
   "mimetype": "text/x-python",
   "name": "python",
   "nbconvert_exporter": "python",
   "pygments_lexer": "ipython3",
   "version": "3.7.3"
  }
 },
 "nbformat": 4,
 "nbformat_minor": 4
}
